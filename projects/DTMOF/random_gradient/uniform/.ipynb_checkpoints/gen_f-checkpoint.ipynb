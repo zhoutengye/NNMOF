{
 "cells": [
  {
   "cell_type": "code",
   "execution_count": 1,
   "metadata": {},
   "outputs": [],
   "source": [
    "import numpy as np\n",
    "import matplotlib.pyplot as plt"
   ]
  },
  {
   "cell_type": "code",
   "execution_count": 7,
   "metadata": {},
   "outputs": [
    {
     "data": {
      "image/png": "[encoded data removed]",
      "text/plain": [
       "<Figure size 432x288 with 1 Axes>"
      ]
     },
     "metadata": {
      "needs_background": "light"
     },
     "output_type": "display_data"
    }
   ],
   "source": [
    "num_sampling = 100000\n",
    "num_sampling2 = int(num_sampling / 2)\n",
    "num_sampling4 = int(num_sampling / 4)\n",
    "f = np.random.normal(loc=0.0, scale=0.1, size=num_sampling2) \n",
    "f1 = f / 2\n",
    "f = np.random.normal(loc=0.0, scale=0.1, size=num_sampling2) \n",
    "f3 = 0.5-f[f>0]\n",
    "f4 = -0.5-f[f<=0]\n",
    "f2 = f / 2+ 0.5\n",
    "f=np.concatenate([f1,f2])\n",
    "x = np.arange(0,1,0.1)\n",
    "m=plt.hist(f,bins=100)\n",
    "np.savetxt('fdata.dat',f)"
   ]
  },
  {
   "cell_type": "code",
   "execution_count": 12,
   "metadata": {},
   "outputs": [
    {
     "data": {
      "text/plain": [
       "(array([  20.,   39.,   72.,   95.,  130.,  164.,  203.,  247.,  240.,\n",
       "         301.,  330.,  369.,  427.,  423.,  450.,  542.,  523.,  572.,\n",
       "         576.,  587.,  607.,  666.,  682.,  680.,  695.,  752.,  731.,\n",
       "         806.,  817.,  837.,  861.,  972.,  955., 1075., 1078., 1125.,\n",
       "        1214., 1402., 1443., 1510., 1776., 1769., 2000., 2101., 2270.,\n",
       "        2510., 2752., 3020., 3326., 3728., 3643., 3170., 2915., 2698.,\n",
       "        2506., 2213., 2093., 1882., 1811., 1634., 1462., 1477., 1290.,\n",
       "        1239., 1121., 1056., 1053.,  907.,  922.,  812.,  845.,  811.,\n",
       "         775.,  719.,  758.,  759.,  729.,  701.,  713.,  601.,  618.,\n",
       "         568.,  545.,  531.,  493.,  458.,  443.,  401.,  379.,  301.,\n",
       "         331.,  249.,  240.,  202.,  144.,  121.,  102.,   55.,   29.,\n",
       "           5.]),\n",
       " array([0.00667352, 0.01655669, 0.02643986, 0.03632304, 0.04620621,\n",
       "        0.05608938, 0.06597255, 0.07585572, 0.08573889, 0.09562206,\n",
       "        0.10550523, 0.1153884 , 0.12527157, 0.13515474, 0.14503791,\n",
       "        0.15492108, 0.16480425, 0.17468742, 0.1845706 , 0.19445377,\n",
       "        0.20433694, 0.21422011, 0.22410328, 0.23398645, 0.24386962,\n",
       "        0.25375279, 0.26363596, 0.27351913, 0.2834023 , 0.29328547,\n",
       "        0.30316864, 0.31305181, 0.32293499, 0.33281816, 0.34270133,\n",
       "        0.3525845 , 0.36246767, 0.37235084, 0.38223401, 0.39211718,\n",
       "        0.40200035, 0.41188352, 0.42176669, 0.43164986, 0.44153303,\n",
       "        0.4514162 , 0.46129937, 0.47118255, 0.48106572, 0.49094889,\n",
       "        0.50083206, 0.51071523, 0.5205984 , 0.53048157, 0.54036474,\n",
       "        0.55024791, 0.56013108, 0.57001425, 0.57989742, 0.58978059,\n",
       "        0.59966376, 0.60954693, 0.61943011, 0.62931328, 0.63919645,\n",
       "        0.64907962, 0.65896279, 0.66884596, 0.67872913, 0.6886123 ,\n",
       "        0.69849547, 0.70837864, 0.71826181, 0.72814498, 0.73802815,\n",
       "        0.74791132, 0.7577945 , 0.76767767, 0.77756084, 0.78744401,\n",
       "        0.79732718, 0.80721035, 0.81709352, 0.82697669, 0.83685986,\n",
       "        0.84674303, 0.8566262 , 0.86650937, 0.87639254, 0.88627571,\n",
       "        0.89615888, 0.90604206, 0.91592523, 0.9258084 , 0.93569157,\n",
       "        0.94557474, 0.95545791, 0.96534108, 0.97522425, 0.98510742,\n",
       "        0.99499059]),\n",
       " <a list of 100 Patch objects>)"
      ]
     },
     "execution_count": 12,
     "metadata": {},
     "output_type": "execute_result"
    },
    {
     "data": {
      "image/png": "[encoded data removed]",
      "text/plain": [
       "<Figure size 432x288 with 1 Axes>"
      ]
     },
     "metadata": {
      "needs_background": "light"
     },
     "output_type": "display_data"
    }
   ],
   "source": [
    "f2 = np.loadtxt('data.dat')\n",
    "plt.hist(f2[:,4],bins=100)"
   ]
  },
  {
   "cell_type": "code",
   "execution_count": null,
   "metadata": {},
   "outputs": [],
   "source": []
  },
  {
   "cell_type": "code",
   "execution_count": null,
   "metadata": {},
   "outputs": [],
   "source": []
  },
  {
   "cell_type": "code",
   "execution_count": null,
   "metadata": {},
   "outputs": [],
   "source": []
  }
 ],
 "metadata": {
  "kernelspec": {
   "display_name": "Python 3",
   "language": "python",
   "name": "python3"
  },
  "language_info": {
   "codemirror_mode": {
    "name": "ipython",
    "version": 3
   },
   "file_extension": ".py",
   "mimetype": "text/x-python",
   "name": "python",
   "nbconvert_exporter": "python",
   "pygments_lexer": "ipython3",
   "version": "3.7.6"
  },
  "toc": {
   "base_numbering": 1,
   "nav_menu": {},
   "number_sections": true,
   "sideBar": true,
   "skip_h1_title": false,
   "title_cell": "Table of Contents",
   "title_sidebar": "Contents",
   "toc_cell": false,
   "toc_position": {},
   "toc_section_display": true,
   "toc_window_display": false
  }
 },
 "nbformat": 4,
 "nbformat_minor": 4
}
