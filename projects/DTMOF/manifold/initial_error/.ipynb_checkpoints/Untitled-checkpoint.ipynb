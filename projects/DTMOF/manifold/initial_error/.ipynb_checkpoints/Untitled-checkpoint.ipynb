{
 "cells": [
  {
   "cell_type": "code",
   "execution_count": 2,
   "metadata": {},
   "outputs": [],
   "source": [
    "import numpy as np\n",
    "import matplotlib.pyplot as plt\n",
    "from mpl_toolkits.mplot3d import Axes3D \n",
    "import plotly.graph_objects as go\n",
    "from scipy.interpolate import griddata\n",
    "# from mayavi import mlab\n",
    "from scipy.interpolate import griddata as gd\n",
    "from scipy.interpolate import LinearNDInterpolator as lt\n",
    "from pyevtk.hl import gridToVTK, pointsToVTK"
   ]
  },
  {
   "cell_type": "code",
   "execution_count": 3,
   "metadata": {},
   "outputs": [],
   "source": [
    "nn=100"
   ]
  },
  {
   "cell_type": "code",
   "execution_count": 4,
   "metadata": {},
   "outputs": [],
   "source": [
    "pts = np.loadtxt('pts2.dat')\n",
    "p = np.ascontiguousarray(pts[:,0])\n",
    "t = np.ascontiguousarray(pts[:,1])\n",
    "f = np.ascontiguousarray(pts[:,2])\n",
    "dp = np.ascontiguousarray(pts[:,3])\n",
    "dt = np.ascontiguousarray(pts[:,4])\n",
    "x = np.ascontiguousarray(pts[:,5])\n",
    "y = np.ascontiguousarray(pts[:,6])\n",
    "z = np.ascontiguousarray(pts[:,7])\n",
    "P = np.ascontiguousarray(np.reshape(p,[nn,nn,nn]))\n",
    "T = np.ascontiguousarray(np.reshape(t,[nn,nn,nn]))\n",
    "F = np.ascontiguousarray(np.reshape(f,[nn,nn,nn]))\n",
    "DP = np.ascontiguousarray(np.reshape(dp,[nn,nn,nn]))\n",
    "DT = np.ascontiguousarray(np.reshape(dt,[nn,nn,nn]))\n",
    "Y, X, Z=np.mgrid[0:1:50j, 0:1:50j, 0:1:50j]-0.49"
   ]
  },
  {
   "cell_type": "code",
   "execution_count": 11,
   "metadata": {},
   "outputs": [
    {
     "data": {
      "text/plain": [
       "'/home/yeldon/Desktop/NNMOF/cases/manifold/initial_error/pt1.vtu'"
      ]
     },
     "execution_count": 11,
     "metadata": {},
     "output_type": "execute_result"
    }
   ],
   "source": [
    "P2 = P / P.max() / 2\n",
    "T2 = T / T.max()\n",
    "\n",
    "gridToVTK(\"pf1\",T,P,F,pointData={\"f\":F})\n",
    "gridToVTK(\"pt1\",T,P,F,pointData={\"dp\":DP,\"dt\":DT})\n",
    "pointsToVTK(\"pt1\", p, t, f, data={\"dp\": dp,\"dt\":dt})"
   ]
  },
  {
   "cell_type": "code",
   "execution_count": 12,
   "metadata": {},
   "outputs": [],
   "source": [
    "pts3 = np.loadtxt('pts3.dat')\n",
    "# p3 = np.ascontiguousarray(pts3[:,0])\n",
    "# t3 = np.ascontiguousarray(pts3[:,1])\n",
    "f3 = np.ascontiguousarray(pts3[:,5])\n",
    "dp3 = np.ascontiguousarray(pts3[:,3])\n",
    "dt3 = np.ascontiguousarray(pts3[:,4])\n",
    "x3 = np.ascontiguousarray(pts3[:,0])\n",
    "y3 = np.ascontiguousarray(pts3[:,1])\n",
    "z3 = np.ascontiguousarray(pts3[:,2])\n",
    "Y, X, Z=np.mgrid[0:1:100j, 0:1:100j, 0:1:100j]-0.495"
   ]
  },
  {
   "cell_type": "code",
   "execution_count": 13,
   "metadata": {},
   "outputs": [],
   "source": [
    "F3 = gd((x3,y3,z3), f3, (X.flatten(),Y.flatten(),Z.flatten()),method='linear')\n",
    "F3 = np.reshape(F3,[nn,nn,nn])\n",
    "DP3 = gd((x3,y3,z3), dp3, (X.flatten(),Y.flatten(),Z.flatten()),method='linear')\n",
    "DP3 = np.reshape(DP3,[nn,nn,nn])\n",
    "DT3 = gd((x3,y3,z3), dt3, (X.flatten(),Y.flatten(),Z.flatten()),method='linear')\n",
    "DT3 = np.reshape(DT3,[nn,nn,nn])"
   ]
  },
  {
   "cell_type": "code",
   "execution_count": 15,
   "metadata": {},
   "outputs": [
    {
     "data": {
      "text/plain": [
       "'/home/yeldon/Desktop/NNMOF/cases/manifold/initial_error/pt2.vts'"
      ]
     },
     "execution_count": 15,
     "metadata": {},
     "output_type": "execute_result"
    }
   ],
   "source": [
    "gridToVTK(\"pf2\",P2,T2,F,pointData={\"f\":F3})\n",
    "gridToVTK(\"pt2\",X,Y,Z,pointData={\"dp\":DP3,'dp':DT3})"
   ]
  },
  {
   "cell_type": "code",
   "execution_count": 93,
   "metadata": {},
   "outputs": [],
   "source": [
    "pts2 = np.loadtxt('pts1.dat')\n",
    "dp2 = np.ascontiguousarray(pts2[:,3])\n",
    "dt2 = np.ascontiguousarray(pts2[:,4])\n",
    "x2 = np.ascontiguousarray(pts2[:,0])\n",
    "y2 = np.ascontiguousarray(pts2[:,1])\n",
    "z2 = np.ascontiguousarray(pts2[:,2])\n",
    "f2 = np.ascontiguousarray(pts2[:,5])\n",
    "# DP = np.ascontiguousarray(np.reshape(dp,[nn,nn,nn]))\n",
    "# DT = np.ascontiguousarray(np.reshape(dt,[nn,nn,nn]))"
   ]
  },
  {
   "cell_type": "code",
   "execution_count": 94,
   "metadata": {},
   "outputs": [
    {
     "data": {
      "text/plain": [
       "'/home/yeldon/Desktop/NNMOF/cases/manifold/initial_error/pt2.vtu'"
      ]
     },
     "execution_count": 94,
     "metadata": {},
     "output_type": "execute_result"
    }
   ],
   "source": [
    "# gridToVTK(\"pt2\",P,T,F,pointData={\"dp\":DP,\"dt\":DT})\n",
    "\n",
    "# gridToVTK(\"pf2\",X,Y,Z,pointData={\"f\":f})\n",
    "\n",
    "pointsToVTK(\"pt2\", x2, y2, z2, data={\"dp\": dp2,\"dt\":dt2})\n",
    "\n",
    "# pointsToVTK(\"pg2\", x, y, z, data={\"dp\": dp,\"dt\":dt})"
   ]
  },
  {
   "cell_type": "code",
   "execution_count": 96,
   "metadata": {},
   "outputs": [],
   "source": [
    "pts3 = np.loadtxt('pts3.dat')\n",
    "# p3 = np.ascontiguousarray(pts3[:,0])\n",
    "# t3 = np.ascontiguousarray(pts3[:,1])\n",
    "f3 = np.ascontiguousarray(pts3[:,5])\n",
    "dp3 = np.ascontiguousarray(pts3[:,3])\n",
    "dt3 = np.ascontiguousarray(pts3[:,4])\n",
    "x3 = np.ascontiguousarray(pts3[:,0])\n",
    "y3 = np.ascontiguousarray(pts3[:,1])\n",
    "z3 = np.ascontiguousarray(pts3[:,2])\n",
    "# P3 = np.ascontiguousarray(np.reshape(p3,[nn,nn,nn]))\n",
    "# T3 = np.ascontiguousarray(np.reshape(t3,[nn,nn,nn]))\n",
    "# F3 = np.ascontiguousarray(np.reshape(f3,[nn,nn,nn]))\n",
    "# DP3 = np.ascontiguousarray(np.reshape(dp3,[nn,nn,nn]))\n",
    "# DT3 = np.ascontiguousarray(np.reshape(dt3,[nn,nn,nn]))\n",
    "Y, X, Z=np.mgrid[0:1:50j, 0:1:50j, 0:1:50j]-0.49"
   ]
  },
  {
   "cell_type": "code",
   "execution_count": 98,
   "metadata": {},
   "outputs": [],
   "source": []
  },
  {
   "cell_type": "code",
   "execution_count": 101,
   "metadata": {},
   "outputs": [],
   "source": []
  },
  {
   "cell_type": "code",
   "execution_count": 102,
   "metadata": {},
   "outputs": [],
   "source": []
  },
  {
   "cell_type": "code",
   "execution_count": 103,
   "metadata": {},
   "outputs": [
    {
     "data": {
      "text/plain": [
       "'/home/yeldon/Desktop/NNMOF/cases/manifold/initial_error/pt3.vts'"
      ]
     },
     "execution_count": 103,
     "metadata": {},
     "output_type": "execute_result"
    }
   ],
   "source": [
    "gridToVTK(\"pf3\",X,Y,Z,pointData={\"f\":F3})\n",
    "gridToVTK(\"pt3\",X,Y,Z,pointData={\"dp\":DP3,\"dt\":DT3,})"
   ]
  },
  {
   "cell_type": "code",
   "execution_count": null,
   "metadata": {},
   "outputs": [],
   "source": []
  }
 ],
 "metadata": {
  "kernelspec": {
   "display_name": "Python 3",
   "language": "python",
   "name": "python3"
  },
  "language_info": {
   "codemirror_mode": {
    "name": "ipython",
    "version": 3
   },
   "file_extension": ".py",
   "mimetype": "text/x-python",
   "name": "python",
   "nbconvert_exporter": "python",
   "pygments_lexer": "ipython3",
   "version": "3.7.6"
  },
  "latex_envs": {
   "LaTeX_envs_menu_present": true,
   "autoclose": false,
   "autocomplete": true,
   "bibliofile": "biblio.bib",
   "cite_by": "apalike",
   "current_citInitial": 1,
   "eqLabelWithNumbers": true,
   "eqNumInitial": 1,
   "hotkeys": {
    "equation": "Ctrl-E",
    "itemize": "Ctrl-I"
   },
   "labels_anchors": false,
   "latex_user_defs": false,
   "report_style_numbering": false,
   "user_envs_cfg": false
  },
  "toc": {
   "base_numbering": 1,
   "nav_menu": {},
   "number_sections": true,
   "sideBar": true,
   "skip_h1_title": false,
   "title_cell": "Table of Contents",
   "title_sidebar": "Contents",
   "toc_cell": false,
   "toc_position": {},
   "toc_section_display": true,
   "toc_window_display": false
  }
 },
 "nbformat": 4,
 "nbformat_minor": 4
}
