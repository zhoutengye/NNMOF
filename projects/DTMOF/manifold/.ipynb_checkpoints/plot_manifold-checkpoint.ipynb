{
 "cells": [
  {
   "cell_type": "code",
   "execution_count": 39,
   "metadata": {},
   "outputs": [],
   "source": [
    "import numpy as np\n",
    "import matplotlib.pyplot as plt\n",
    "from mpl_toolkits.mplot3d import Axes3D\n",
    "from backwardc import floodsz_backwardc2\n",
    "from backwardc import norm2angle\n",
    "from backwardc import angle2norm\n",
    "from backwardc import normalization1\n",
    "import matplotlib.tri as mtri\n",
    "import matplotlib as mpl\n",
    "import numpy as np\n",
    "from scipy.spatial import Delaunay\n",
    "from plotly.figure_factory import create_trisurf\n",
    "import matplotlib as mpl\n",
    "import joblib\n",
    "%matplotlib widget"
   ]
  },
  {
   "cell_type": "code",
   "execution_count": 40,
   "metadata": {},
   "outputs": [],
   "source": [
    "filename = 'dt21.joblib.pkl'\n",
    "dt = joblib.load(filename)"
   ]
  },
  {
   "cell_type": "code",
   "execution_count": 41,
   "metadata": {},
   "outputs": [
    {
     "data": {
      "text/plain": [
       "DecisionTreeRegressor(ccp_alpha=0.0, criterion='mse', max_depth=21,\n",
       "                      max_features=None, max_leaf_nodes=None,\n",
       "                      min_impurity_decrease=0.0, min_impurity_split=None,\n",
       "                      min_samples_leaf=1, min_samples_split=2,\n",
       "                      min_weight_fraction_leaf=0.0, presort='deprecated',\n",
       "                      random_state=None, splitter='best')"
      ]
     },
     "execution_count": 41,
     "metadata": {},
     "output_type": "execute_result"
    }
   ],
   "source": [
    "dt"
   ]
  },
  {
   "cell_type": "code",
   "execution_count": 42,
   "metadata": {},
   "outputs": [],
   "source": [
    "volume = 0.1"
   ]
  },
  {
   "cell_type": "code",
   "execution_count": 43,
   "metadata": {},
   "outputs": [],
   "source": [
    "p = np.arange(-np.pi,np.pi+np.pi/90,np.pi/90)\n",
    "t = np.arange(0,np.pi+np.pi/90,np.pi/90)\n",
    "t2 = t-np.pi/2.0\n",
    "P,T = np.meshgrid(p, t)\n",
    "P2,T2 = np.meshgrid(p, t2)\n",
    "mesh = np.array([P,T])\n",
    "pt = mesh.T.reshape(-1, 2)\n",
    "n = len(pt)\n",
    "norm2d = np.empty([n,3])\n",
    "cs2d = np.empty([n,3])\n",
    "par2d = np.empty([n])\n",
    "pt2d = np.empty([n,2])\n",
    "for i in range(len(pt)):\n",
    "    norm2d[i,:] = angle2norm(pt2d[i,:])\n",
    "    cs2d[i,:],par2d[i]  = floodsz_backwardc2(norm2d[i,:],volume)\n",
    "    cen = cs2d[i,:] - 0.5\n",
    "    cen = cen / np.linalg.norm(cen)\n",
    "    pt2d[i,:] = norm2angle(cen) "
   ]
  },
  {
   "cell_type": "code",
   "execution_count": 44,
   "metadata": {},
   "outputs": [],
   "source": [
    "le = 1000000\n",
    "par3d = np.empty([le])\n",
    "norm3d = np.zeros([le,3])\n",
    "cs3d = np.empty([le,3])\n",
    "pt3d = np.empty([le,2])\n",
    "norm3d[:,0] = ( np.random.rand(le) - 0.5 ) * 2.0\n",
    "norm3d[:,1] = ( np.random.rand(le) - 0.5 ) * 2.0\n",
    "norm3d[:,2] = ( np.random.rand(le) - 0.5 ) * 2.0\n",
    "for i in range(le):\n",
    "    norm3d[i,:] = norm3d[i,:] / np.sum(np.abs(norm3d[i,:]))  \n",
    "    cs3d[i,:],par3d[i]  = floodsz_backwardc2(norm3d[i,:],volume)\n",
    "    pt3d[i,:] = norm2angle(norm3d[i,:]) "
   ]
  },
  {
   "cell_type": "code",
   "execution_count": 45,
   "metadata": {},
   "outputs": [],
   "source": [
    "xs2d = cs2d[:,0]\n",
    "ys2d = cs2d[:,1]\n",
    "zs2d = cs2d[:,2]\n",
    "ph2d = pt2d[:,0]\n",
    "th2d = pt2d[:,1]\n",
    "# xs1 = xs[parn==1]; ys1=ys[parn==1]; zs1=zs[parn==1]; par1=parn[parn==1]\n",
    "# xs2 = xs[parn==2]; ys2=ys[parn==2]; zs2=zs[parn==2]; par2=parn[parn==2]\n",
    "# xs3 = xs[parn==3]; ys3=ys[parn==3]; zs3=zs[parn==3]; par3=parn[parn==3]\n",
    "# xs4 = xs[parn==4]; ys4=ys[parn==4]; zs4=zs[parn==4]; par4=parn[parn==4]\n",
    "# xs5 = xs[parn==5]; ys5=ys[parn==5]; zs5=zs[parn==5]; par5=parn[parn==5]"
   ]
  },
  {
   "cell_type": "code",
   "execution_count": 46,
   "metadata": {},
   "outputs": [],
   "source": [
    "xs3d = cs3d[:,0]\n",
    "ys3d = cs3d[:,1]\n",
    "zs3d = cs3d[:,2]\n",
    "ph3d = pt3d[:,0]\n",
    "th3d = pt3d[:,1]\n",
    "# ph1 = phs[pars==1]; th1=ths[pars==1]\n",
    "# ph2 = phs[pars==2]; th2=ths[pars==2]\n",
    "# ph3 = phs[pars==3]; th3=ths[pars==3]\n",
    "# ph4 = phs[pars==4]; th4=ths[pars==4]\n",
    "# ph5 = phs[pars==5]; th5=ths[pars==5]"
   ]
  },
  {
   "cell_type": "code",
   "execution_count": 55,
   "metadata": {},
   "outputs": [],
   "source": [
    "tri = mtri.Triangulation(pt3d[:,0],pt3d[:,1])\n",
    "n_tri = len(tri.triangles)\n",
    "colors = np.zeros(n_tri)\n",
    "for i in range(n_tri):\n",
    "    colors[i] = float(int((par3d[tri.triangles[i,0]] + par3d[tri.triangles[i,1]] + par3d[tri.triangles[i,2]])/3.0))\n",
    "    \n",
    "norm = mpl.colors.Normalize(vmin=colors.min().min(), vmax=colors.max().max())"
   ]
  },
  {
   "cell_type": "code",
   "execution_count": 56,
   "metadata": {},
   "outputs": [],
   "source": [
    "fig = create_trisurf(x=xs3d, y=ys3d, z=zs3d,color_func=colors,                         colormap=\"Portland\",\n",
    "                         simplices=tri.triangles,\n",
    "                         plot_edges=False)\n",
    "# fig = create_trisurf(x=norms[:,0], y=norms[:,1], z=norms[:,2],\n",
    "#                          colormap=\"Portland\",\n",
    "#                          simplices=simplices,\n",
    "#                          title=\"Mobius Band\")\n",
    "fig.show()"
   ]
  },
  {
   "cell_type": "code",
   "execution_count": null,
   "metadata": {},
   "outputs": [],
   "source": [
    "plt.tricontourf(P.flatten(),T.flatten(),par2d)\n",
    "plt.show()"
   ]
  },
  {
   "cell_type": "code",
   "execution_count": null,
   "metadata": {},
   "outputs": [],
   "source": []
  }
 ],
 "metadata": {
  "kernelspec": {
   "display_name": "Python 3",
   "language": "python",
   "name": "python3"
  },
  "language_info": {
   "codemirror_mode": {
    "name": "ipython",
    "version": 3
   },
   "file_extension": ".py",
   "mimetype": "text/x-python",
   "name": "python",
   "nbconvert_exporter": "python",
   "pygments_lexer": "ipython3",
   "version": "3.7.6"
  },
  "latex_envs": {
   "LaTeX_envs_menu_present": true,
   "autoclose": false,
   "autocomplete": true,
   "bibliofile": "biblio.bib",
   "cite_by": "apalike",
   "current_citInitial": 1,
   "eqLabelWithNumbers": true,
   "eqNumInitial": 1,
   "hotkeys": {
    "equation": "Ctrl-E",
    "itemize": "Ctrl-I"
   },
   "labels_anchors": false,
   "latex_user_defs": false,
   "report_style_numbering": false,
   "user_envs_cfg": false
  },
  "toc": {
   "base_numbering": 1,
   "nav_menu": {},
   "number_sections": true,
   "sideBar": true,
   "skip_h1_title": false,
   "title_cell": "Table of Contents",
   "title_sidebar": "Contents",
   "toc_cell": false,
   "toc_position": {},
   "toc_section_display": true,
   "toc_window_display": false
  }
 },
 "nbformat": 4,
 "nbformat_minor": 2
}
