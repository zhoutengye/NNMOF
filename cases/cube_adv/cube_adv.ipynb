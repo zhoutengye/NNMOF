{
 "cells": [
  {
   "cell_type": "code",
   "execution_count": 2,
   "metadata": {
    "ExecuteTime": {
     "end_time": "2020-06-12T14:06:55.728779Z",
     "start_time": "2020-06-12T14:06:52.096152Z"
    }
   },
   "outputs": [
    {
     "name": "stdout",
     "output_type": "stream",
     "text": [
      "Notebook initialized with x3d backend.\n"
     ]
    }
   ],
   "source": [
    "import numpy as np\n",
    "import matplotlib.pyplot as plt\n",
    "import h5py\n",
    "import json\n",
    "import os\n",
    "import mayavi\n",
    "from mayavi import mlab\n",
    "mlab.init_notebook('x3d', 600, 600) # x3d or png"
   ]
  },
  {
   "cell_type": "markdown",
   "metadata": {},
   "source": [
    "# Notes\n",
    "Translation tests measure the most basic feature of an interface tracking method. In this test, a hollow square, two tilted hollow square and a hollow circle are advected in constant velocity fields, periodic boudnary conditions are set at each of the . he material area and the shape should remain unchanged through the translation process."
   ]
  },
  {
   "cell_type": "markdown",
   "metadata": {
    "ExecuteTime": {
     "end_time": "2020-06-12T13:58:53.236855Z",
     "start_time": "2020-06-12T13:58:53.234133Z"
    }
   },
   "source": [
    "## Model setup\n",
    "\n",
    "The initial setup is\n",
    "\n",
    "| Parameter  | value                         | \n",
    "|------------|-------------------------------|\n",
    "| domain     | [0,2] $\\times$ [0,2]          | \n",
    "| grids      | 100 $\\times$ 100 $\\times$ 100       |\n",
    "| $h$        | 0.02                                |\n",
    "| shape      | D = 0.4, d = 0.2                    |\n",
    "| angle      | $\\theta_1$ = 26.57, $\\theta_2$ = 45 |\n",
    "| velocity   | $\\vec u = [1,1,1]^T$          |\n",
    "| Time step  | $k=0.005$         |\n",
    "| $n_{step}$ | $400$         |"
   ]
  },
  {
   "cell_type": "markdown",
   "metadata": {},
   "source": [
    "# Setup"
   ]
  },
  {
   "cell_type": "markdown",
   "metadata": {},
   "source": [
    "## Generate input file"
   ]
  },
  {
   "cell_type": "code",
   "execution_count": 3,
   "metadata": {
    "ExecuteTime": {
     "end_time": "2020-06-12T14:07:56.835928Z",
     "start_time": "2020-06-12T14:07:56.828852Z"
    }
   },
   "outputs": [],
   "source": [
    "f=h5py.File('input.h5','w') # open hdf5 file"
   ]
  },
  {
   "cell_type": "code",
   "execution_count": 4,
   "metadata": {
    "ExecuteTime": {
     "end_time": "2020-06-12T14:08:31.492627Z",
     "start_time": "2020-06-12T14:08:31.313268Z"
    }
   },
   "outputs": [],
   "source": [
    "# Initialize array\n",
    "nx = 100\n",
    "ny = 100\n",
    "nz = 100\n",
    "X,Y,Z = np.meshgrid(np.arange(ny),np.arange(nz),np.arange(nx))\n",
    "phi = np.zeros([nz,ny,nx])\n",
    "cx = np.zeros([nz,ny,nx])\n",
    "cy = np.zeros([nz,ny,nx])\n",
    "cz = np.zeros([nz,ny,nx])\n",
    "u = np.zeros([nz,ny,nx])\n",
    "v = np.zeros([nz,ny,nx]) \n",
    "w = np.zeros([nz,ny,nx]) "
   ]
  },
  {
   "cell_type": "code",
   "execution_count": null,
   "metadata": {},
   "outputs": [],
   "source": [
    "# hollow cube\n",
    "phi[]\n",
    "\n",
    "u = np.zeros([nz,ny,nx])+ 1.0\n",
    "v = np.zeros([nz,ny,nx]) + 1.0\n",
    "w = np.zeros([nz,ny,nx]) + 1.0\n",
    "phi[5:10,5:10,5:10] = 1.0\n",
    "cx[5:10,5:10,5:10] = 0.5\n",
    "cy[5:10,5:10,5:10] = 0.5\n",
    "cz[5:10,5:10,5:10] = 0.5"
   ]
  },
  {
   "cell_type": "code",
   "execution_count": null,
   "metadata": {},
   "outputs": [],
   "source": [
    "f3.create_group('phi')\n",
    "grp = f3['phi']\n",
    "grp.create_dataset(\"init\", data=phi)\n",
    "f3.create_group('u')\n",
    "grp = f3['u']\n",
    "grp.create_dataset(\"init\", data=u)\n",
    "f3.create_group('v')\n",
    "grp = f3['v']\n",
    "grp.create_dataset(\"init\", data=v)\n",
    "f3.create_group('w')\n",
    "grp = f3['w']\n",
    "f3.create_group('cx')\n",
    "grp.create_dataset(\"init\", data=w)\n",
    "grp = f3['cx']\n",
    "f3.create_group('cy')\n",
    "grp.create_dataset(\"init\", data=cx)\n",
    "grp = f3['cy']\n",
    "f3.create_group('cz')\n",
    "grp.create_dataset(\"init\", data=cy)\n",
    "grp = f3['cz']\n",
    "grp.create_dataset(\"init\", data=cz)"
   ]
  }
 ],
 "metadata": {
  "hide_input": false,
  "kernelspec": {
   "display_name": "Python 3",
   "language": "python",
   "name": "python3"
  },
  "language_info": {
   "codemirror_mode": {
    "name": "ipython",
    "version": 3
   },
   "file_extension": ".py",
   "mimetype": "text/x-python",
   "name": "python",
   "nbconvert_exporter": "python",
   "pygments_lexer": "ipython3",
   "version": "3.7.4"
  },
  "nbTranslate": {
   "displayLangs": [
    "*"
   ],
   "hotkey": "alt-t",
   "langInMainMenu": true,
   "sourceLang": "en",
   "targetLang": "fr",
   "useGoogleTranslate": true
  },
  "toc": {
   "base_numbering": 1,
   "nav_menu": {},
   "number_sections": true,
   "sideBar": true,
   "skip_h1_title": false,
   "title_cell": "Table of Contents",
   "title_sidebar": "Contents",
   "toc_cell": false,
   "toc_position": {},
   "toc_section_display": true,
   "toc_window_display": false
  }
 },
 "nbformat": 4,
 "nbformat_minor": 2
}
