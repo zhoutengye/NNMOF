{
 "cells": [
  {
   "cell_type": "code",
   "execution_count": 9,
   "metadata": {
    "ExecuteTime": {
     "end_time": "2020-06-12T14:06:55.728779Z",
     "start_time": "2020-06-12T14:06:52.096152Z"
    }
   },
   "outputs": [
    {
     "name": "stdout",
     "output_type": "stream",
     "text": [
      "Notebook initialized with x3d backend.\n"
     ]
    }
   ],
   "source": [
    "import numpy as np\n",
    "import matplotlib.pyplot as plt\n",
    "import h5py\n",
    "import json\n",
    "import os\n",
    "import mayavi\n",
    "from mayavi import mlab\n",
    "mlab.init_notebook('x3d', 600, 600) # x3d or png"
   ]
  },
  {
   "cell_type": "markdown",
   "metadata": {},
   "source": [
    "# Notes\n",
    "Translation tests measure the most basic feature of an interface tracking method. In this test, a hollow square, two tilted hollow square and a hollow circle are advected in constant velocity fields, periodic boudnary conditions are set at each of the . he material area and the shape should remain unchanged through the translation process."
   ]
  },
  {
   "cell_type": "markdown",
   "metadata": {
    "ExecuteTime": {
     "end_time": "2020-06-12T13:58:53.236855Z",
     "start_time": "2020-06-12T13:58:53.234133Z"
    }
   },
   "source": [
    "## Model setup\n",
    "\n",
    "The initial setup is\n",
    "\n",
    "| Parameter  | value                         | \n",
    "|------------|-------------------------------|\n",
    "| domain     | [0,2] $\\times$ [0,2]          | \n",
    "| grids      | 100 $\\times$ 100 $\\times$ 100       |\n",
    "| $h$        | 0.02                                |\n",
    "| shape      | D = 0.4, d = 0.2                    |\n",
    "| angle      | $\\theta_1$ = 26.57, $\\theta_2$ = 45 |\n",
    "| velocity   | $\\vec u = [1,1,1]^T$          |\n",
    "| Time step  | $k=0.005$         |\n",
    "| $n_{step}$ | $400$         |"
   ]
  },
  {
   "cell_type": "markdown",
   "metadata": {},
   "source": [
    "# Setup"
   ]
  },
  {
   "cell_type": "markdown",
   "metadata": {},
   "source": [
    "## Generate input file"
   ]
  },
  {
   "cell_type": "code",
   "execution_count": 10,
   "metadata": {
    "ExecuteTime": {
     "end_time": "2020-06-12T14:07:56.835928Z",
     "start_time": "2020-06-12T14:07:56.828852Z"
    }
   },
   "outputs": [
    {
     "ename": "OSError",
     "evalue": "Unable to create file (unable to truncate a file which is already open)",
     "output_type": "error",
     "traceback": [
      "\u001b[0;31m---------------------------------------------------------------------------\u001b[0m",
      "\u001b[0;31mOSError\u001b[0m                                   Traceback (most recent call last)",
      "\u001b[0;32m<ipython-input-10-c26a7e8606d8>\u001b[0m in \u001b[0;36m<module>\u001b[0;34m\u001b[0m\n\u001b[0;32m----> 1\u001b[0;31m \u001b[0mf\u001b[0m\u001b[0;34m=\u001b[0m\u001b[0mh5py\u001b[0m\u001b[0;34m.\u001b[0m\u001b[0mFile\u001b[0m\u001b[0;34m(\u001b[0m\u001b[0;34m'input.h5'\u001b[0m\u001b[0;34m,\u001b[0m\u001b[0;34m'w'\u001b[0m\u001b[0;34m)\u001b[0m \u001b[0;31m# open hdf5 file\u001b[0m\u001b[0;34m\u001b[0m\u001b[0;34m\u001b[0m\u001b[0m\n\u001b[0m",
      "\u001b[0;32m~/anaconda3/lib/python3.7/site-packages/h5py/_hl/files.py\u001b[0m in \u001b[0;36m__init__\u001b[0;34m(self, name, mode, driver, libver, userblock_size, swmr, rdcc_nslots, rdcc_nbytes, rdcc_w0, track_order, **kwds)\u001b[0m\n\u001b[1;32m    406\u001b[0m                 fid = make_fid(name, mode, userblock_size,\n\u001b[1;32m    407\u001b[0m                                \u001b[0mfapl\u001b[0m\u001b[0;34m,\u001b[0m \u001b[0mfcpl\u001b[0m\u001b[0;34m=\u001b[0m\u001b[0mmake_fcpl\u001b[0m\u001b[0;34m(\u001b[0m\u001b[0mtrack_order\u001b[0m\u001b[0;34m=\u001b[0m\u001b[0mtrack_order\u001b[0m\u001b[0;34m)\u001b[0m\u001b[0;34m,\u001b[0m\u001b[0;34m\u001b[0m\u001b[0;34m\u001b[0m\u001b[0m\n\u001b[0;32m--> 408\u001b[0;31m                                swmr=swmr)\n\u001b[0m\u001b[1;32m    409\u001b[0m \u001b[0;34m\u001b[0m\u001b[0m\n\u001b[1;32m    410\u001b[0m             \u001b[0;32mif\u001b[0m \u001b[0misinstance\u001b[0m\u001b[0;34m(\u001b[0m\u001b[0mlibver\u001b[0m\u001b[0;34m,\u001b[0m \u001b[0mtuple\u001b[0m\u001b[0;34m)\u001b[0m\u001b[0;34m:\u001b[0m\u001b[0;34m\u001b[0m\u001b[0;34m\u001b[0m\u001b[0m\n",
      "\u001b[0;32m~/anaconda3/lib/python3.7/site-packages/h5py/_hl/files.py\u001b[0m in \u001b[0;36mmake_fid\u001b[0;34m(name, mode, userblock_size, fapl, fcpl, swmr)\u001b[0m\n\u001b[1;32m    177\u001b[0m         \u001b[0mfid\u001b[0m \u001b[0;34m=\u001b[0m \u001b[0mh5f\u001b[0m\u001b[0;34m.\u001b[0m\u001b[0mcreate\u001b[0m\u001b[0;34m(\u001b[0m\u001b[0mname\u001b[0m\u001b[0;34m,\u001b[0m \u001b[0mh5f\u001b[0m\u001b[0;34m.\u001b[0m\u001b[0mACC_EXCL\u001b[0m\u001b[0;34m,\u001b[0m \u001b[0mfapl\u001b[0m\u001b[0;34m=\u001b[0m\u001b[0mfapl\u001b[0m\u001b[0;34m,\u001b[0m \u001b[0mfcpl\u001b[0m\u001b[0;34m=\u001b[0m\u001b[0mfcpl\u001b[0m\u001b[0;34m)\u001b[0m\u001b[0;34m\u001b[0m\u001b[0;34m\u001b[0m\u001b[0m\n\u001b[1;32m    178\u001b[0m     \u001b[0;32melif\u001b[0m \u001b[0mmode\u001b[0m \u001b[0;34m==\u001b[0m \u001b[0;34m'w'\u001b[0m\u001b[0;34m:\u001b[0m\u001b[0;34m\u001b[0m\u001b[0;34m\u001b[0m\u001b[0m\n\u001b[0;32m--> 179\u001b[0;31m         \u001b[0mfid\u001b[0m \u001b[0;34m=\u001b[0m \u001b[0mh5f\u001b[0m\u001b[0;34m.\u001b[0m\u001b[0mcreate\u001b[0m\u001b[0;34m(\u001b[0m\u001b[0mname\u001b[0m\u001b[0;34m,\u001b[0m \u001b[0mh5f\u001b[0m\u001b[0;34m.\u001b[0m\u001b[0mACC_TRUNC\u001b[0m\u001b[0;34m,\u001b[0m \u001b[0mfapl\u001b[0m\u001b[0;34m=\u001b[0m\u001b[0mfapl\u001b[0m\u001b[0;34m,\u001b[0m \u001b[0mfcpl\u001b[0m\u001b[0;34m=\u001b[0m\u001b[0mfcpl\u001b[0m\u001b[0;34m)\u001b[0m\u001b[0;34m\u001b[0m\u001b[0;34m\u001b[0m\u001b[0m\n\u001b[0m\u001b[1;32m    180\u001b[0m     \u001b[0;32melif\u001b[0m \u001b[0mmode\u001b[0m \u001b[0;34m==\u001b[0m \u001b[0;34m'a'\u001b[0m\u001b[0;34m:\u001b[0m\u001b[0;34m\u001b[0m\u001b[0;34m\u001b[0m\u001b[0m\n\u001b[1;32m    181\u001b[0m         \u001b[0;31m# Open in append mode (read/write).\u001b[0m\u001b[0;34m\u001b[0m\u001b[0;34m\u001b[0m\u001b[0;34m\u001b[0m\u001b[0m\n",
      "\u001b[0;32mh5py/_objects.pyx\u001b[0m in \u001b[0;36mh5py._objects.with_phil.wrapper\u001b[0;34m()\u001b[0m\n",
      "\u001b[0;32mh5py/_objects.pyx\u001b[0m in \u001b[0;36mh5py._objects.with_phil.wrapper\u001b[0;34m()\u001b[0m\n",
      "\u001b[0;32mh5py/h5f.pyx\u001b[0m in \u001b[0;36mh5py.h5f.create\u001b[0;34m()\u001b[0m\n",
      "\u001b[0;31mOSError\u001b[0m: Unable to create file (unable to truncate a file which is already open)"
     ]
    }
   ],
   "source": [
    "f=h5py.File('input.h5','w') # open hdf5 file"
   ]
  },
  {
   "cell_type": "code",
   "execution_count": 11,
   "metadata": {
    "ExecuteTime": {
     "end_time": "2020-06-12T14:08:31.492627Z",
     "start_time": "2020-06-12T14:08:31.313268Z"
    }
   },
   "outputs": [],
   "source": [
    "# Initialize array\n",
    "nx = 100\n",
    "ny = 100\n",
    "nz = 100\n",
    "X,Y,Z = np.meshgrid(np.arange(ny),np.arange(nz),np.arange(nx))\n",
    "phi = np.zeros([nz,ny,nx])\n",
    "cx = np.zeros([nz,ny,nx])\n",
    "cy = np.zeros([nz,ny,nx])\n",
    "cz = np.zeros([nz,ny,nx])\n",
    "u = np.zeros([nz,ny,nx])\n",
    "v = np.zeros([nz,ny,nx]) \n",
    "w = np.zeros([nz,ny,nx]) "
   ]
  },
  {
   "cell_type": "code",
   "execution_count": 12,
   "metadata": {},
   "outputs": [
    {
     "ename": "IndentationError",
     "evalue": "expected an indented block (<ipython-input-12-f404f83a7ce4>, line 61)",
     "output_type": "error",
     "traceback": [
      "\u001b[0;36m  File \u001b[0;32m\"<ipython-input-12-f404f83a7ce4>\"\u001b[0;36m, line \u001b[0;32m61\u001b[0m\n\u001b[0;31m    mlab.clf()\u001b[0m\n\u001b[0m              ^\u001b[0m\n\u001b[0;31mIndentationError\u001b[0m\u001b[0;31m:\u001b[0m expected an indented block\n"
     ]
    }
   ],
   "source": [
    "# hollow cube 1\n",
    "phi[5:45,5:45,5:45] = 1.0\n",
    "phi[15:35,15:35,15:35] = 0.0\n",
    "cx[5:45,5:45,5:45] = 0.5\n",
    "cx[15:35,15:35,15:35] = 0.0\n",
    "cy[5:45,5:45,5:45] = 0.5\n",
    "cy[15:35,15:35,15:35] = 0.0\n",
    "cz[5:45,5:45,5:45] = 0.5\n",
    "cz[15:35,15:35,15:35] = 0.0\n",
    "phi[5:45,5:45,5:45] = 1.0\n",
    "phi[15:35,15:35,15:35] = 0.0\n",
    "\n",
    "# hollow cube 2\n",
    "phi[5:45,5:45,5:45] = 1.0\n",
    "phi[15:35,15:35,15:35] = 0.0\n",
    "cx[5:45,5:45,5:45] = 0.5\n",
    "cx[15:35,15:35,15:35] = 0.0\n",
    "cy[5:45,5:45,5:45] = 0.5\n",
    "cy[15:35,15:35,15:35] = 0.0\n",
    "cz[5:45,5:45,5:45] = 0.5\n",
    "cz[15:35,15:35,15:35] = 0.0\n",
    "phi[5:45,5:45,5:45] = 1.0\n",
    "phi[15:35,15:35,15:35] = 0.0\n",
    "\n",
    "lvl = np.zeros([20,20,20])\n",
    "lvl_lo = np.zeros([20,20,20])\n",
    "lvl_hi = np.zeros([20,20,20])\n",
    "es = np.zeros([20,20,20])\n",
    "x = np.arange(20) / 20 + 0.5/20\n",
    "x_lo = np.arange(20) / 20 \n",
    "x_hi = np.arange(20) / 20 + 1/20\n",
    "\n",
    "# hollow sphere \n",
    "for i in range(20):\n",
    "    for j in range(20):\n",
    "        for k in range(20):\n",
    "            sph1 = np.sqrt(x[i]**2+x[j]**2+x[k]**2) \n",
    "            dis1 = 1.0 - sph1\n",
    "            dis2 = sph1 - 0.5\n",
    "            lvl[i,j,k] = min(dis1,dis2)\n",
    "            sph2 = np.sqrt(x_lo[i]**2+x_lo[j]**2+x_lo[k]**2) \n",
    "            dis1 = 1.0 - sph2\n",
    "            dis2 = sph2 - 0.5\n",
    "            lvl_lo[i,j,k] = min(dis1,dis2)\n",
    "            sph3 = np.sqrt(x_hi[i]**2+x_hi[j]**2+x_hi[k]**2) \n",
    "            dis1 = 1.0 - sph3\n",
    "            dis2 = sph2 - 0.5\n",
    "            lvl_hi[i,j,k] = min(dis1,dis2)\n",
    "for i in range(20):\n",
    "    for j in range(20):\n",
    "        for k in range(20):\n",
    "            if lvl[i,j,k]>=0 and lvl_lo[i,j,k]>=0 and lvl_hi[i,j,k]>=0:\n",
    "                es[i,j,k] = 1.0\n",
    "            elif lvl[i,j,k]<=0 and lvl_lo[i,j,k]<=0 and lvl_hi[i,j,k]<=0:\n",
    "                es[i,j,k] = 0.0\n",
    "            else:\n",
    "                for i in range(1000):\n",
    "                    for j in range(1000):\n",
    "                        for k in range(20):\n",
    "            \n",
    "mlab.clf()\n",
    "mlab.contour3d(es,contours=8,opacity=0.2)\n",
    "mlab.outline(extent=[0,nx,0,ny,0,nz])\n",
    "mlab.colorbar()"
   ]
  },
  {
   "cell_type": "code",
   "execution_count": 52,
   "metadata": {},
   "outputs": [],
   "source": [
    "u = np.zeros([nz,ny,nx])+ 1.0\n",
    "v = np.zeros([nz,ny,nx]) + 1.0\n",
    "w = np.zeros([nz,ny,nx]) + 1.0"
   ]
  },
  {
   "cell_type": "code",
   "execution_count": 53,
   "metadata": {},
   "outputs": [
    {
     "data": {
      "text/plain": [
       "<HDF5 dataset \"init\": shape (100, 100, 100), type \"<f8\">"
      ]
     },
     "execution_count": 53,
     "metadata": {},
     "output_type": "execute_result"
    }
   ],
   "source": [
    "f.create_group('phi')\n",
    "grp = f['phi']\n",
    "grp.create_dataset(\"init\", data=phi)\n",
    "f.create_group('u')\n",
    "grp = f['u']\n",
    "grp.create_dataset(\"init\", data=u)\n",
    "f.create_group('v')\n",
    "grp = f['v']\n",
    "grp.create_dataset(\"init\", data=v)\n",
    "f.create_group('w')\n",
    "grp = f['w']\n",
    "grp.create_dataset(\"init\", data=w)\n",
    "f.create_group('cx')\n",
    "grp = f['cx']\n",
    "grp.create_dataset(\"init\", data=cx)\n",
    "f.create_group('cy')\n",
    "grp = f['cy']\n",
    "grp.create_dataset(\"init\", data=cy)\n",
    "f.create_group('cz')\n",
    "grp = f['cz']\n",
    "grp.create_dataset(\"init\", data=cz)"
   ]
  },
  {
   "cell_type": "code",
   "execution_count": 54,
   "metadata": {},
   "outputs": [],
   "source": [
    "f.close()"
   ]
  },
  {
   "cell_type": "code",
   "execution_count": null,
   "metadata": {},
   "outputs": [],
   "source": []
  }
 ],
 "metadata": {
  "hide_input": false,
  "kernelspec": {
   "display_name": "Python 3",
   "language": "python",
   "name": "python3"
  },
  "language_info": {
   "codemirror_mode": {
    "name": "ipython",
    "version": 3
   },
   "file_extension": ".py",
   "mimetype": "text/x-python",
   "name": "python",
   "nbconvert_exporter": "python",
   "pygments_lexer": "ipython3",
   "version": "3.7.3"
  },
  "nbTranslate": {
   "displayLangs": [
    "*"
   ],
   "hotkey": "alt-t",
   "langInMainMenu": true,
   "sourceLang": "en",
   "targetLang": "fr",
   "useGoogleTranslate": true
  },
  "toc": {
   "base_numbering": 1,
   "nav_menu": {},
   "number_sections": true,
   "sideBar": true,
   "skip_h1_title": false,
   "title_cell": "Table of Contents",
   "title_sidebar": "Contents",
   "toc_cell": false,
   "toc_position": {},
   "toc_section_display": true,
   "toc_window_display": false
  }
 },
 "nbformat": 4,
 "nbformat_minor": 2
}
