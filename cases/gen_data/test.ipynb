{
 "cells": [
  {
   "cell_type": "code",
   "execution_count": 1,
   "metadata": {
    "ExecuteTime": {
     "end_time": "2020-06-12T12:40:22.713919Z",
     "start_time": "2020-06-12T12:40:22.563368Z"
    }
   },
   "outputs": [],
   "source": [
    "import numpy as np\n",
    "import mof "
   ]
  },
  {
   "cell_type": "code",
   "execution_count": 2,
   "metadata": {
    "ExecuteTime": {
     "end_time": "2020-06-12T12:40:30.515956Z",
     "start_time": "2020-06-12T12:40:30.512096Z"
    }
   },
   "outputs": [
    {
     "name": "stdout",
     "output_type": "stream",
     "text": [
      "This module 'mof' is auto-generated with f2py (version:2).\n",
      "Functions:\n",
      "  norm = normparkeryoungs(f)\n",
      "  normcs(c,norm)\n",
      "  normmycs(c,norm)\n",
      "  floodsz_backward = floodsz_backward(nr,cc)\n",
      "  xc0 = floodsz_backwardc(nr,cc)\n",
      "  floodsz_forward = floodsz_forward(nr,alpha,x0,dx)\n",
      "  f,xc0 = floodsz_forwardc(nr,alpha,x0,dx)\n",
      "  norm = mofzy(f,c,init_norm=)\n",
      "  cen_mof = findcentroid(angle,vof)\n",
      "  normalization1(norm)\n",
      "  normalization2(norm)\n",
      "  angle = norm2angle(norm)\n",
      "  norm = angle2norm(angle)\n",
      "  advance_angle(angle,delangle)\n",
      ".\n"
     ]
    }
   ],
   "source": [
    "print(mof.__doc__)"
   ]
  },
  {
   "cell_type": "code",
   "execution_count": 4,
   "metadata": {
    "ExecuteTime": {
     "end_time": "2020-06-12T12:43:22.668466Z",
     "start_time": "2020-06-12T12:43:22.665572Z"
    }
   },
   "outputs": [
    {
     "name": "stdout",
     "output_type": "stream",
     "text": [
      "floodsz_backward = floodsz_backward(nr,cc)\n",
      "\n",
      "Wrapper for ``floodsz_backward``.\n",
      "\n",
      "Parameters\n",
      "----------\n",
      "nr : input rank-1 array('d') with bounds (3)\n",
      "cc : input float\n",
      "\n",
      "Returns\n",
      "-------\n",
      "floodsz_backward : float\n",
      "\n"
     ]
    }
   ],
   "source": [
    "print(mof.floodsz_backward.__doc__)"
   ]
  },
  {
   "cell_type": "code",
   "execution_count": 5,
   "metadata": {
    "ExecuteTime": {
     "end_time": "2020-06-12T12:43:36.232682Z",
     "start_time": "2020-06-12T12:43:36.220538Z"
    }
   },
   "outputs": [
    {
     "name": "stdout",
     "output_type": "stream",
     "text": [
      "0.33333333333333337\n"
     ]
    }
   ],
   "source": [
    "n = np.array([1/3,1/3,1/3])\n",
    "f= 1/6\n",
    "print(mof.floodsz_backward(n,f))"
   ]
  },
  {
   "cell_type": "code",
   "execution_count": null,
   "metadata": {},
   "outputs": [],
   "source": []
  }
 ],
 "metadata": {
  "hide_input": false,
  "kernelspec": {
   "display_name": "Python 3",
   "language": "python",
   "name": "python3"
  },
  "language_info": {
   "codemirror_mode": {
    "name": "ipython",
    "version": 3
   },
   "file_extension": ".py",
   "mimetype": "text/x-python",
   "name": "python",
   "nbconvert_exporter": "python",
   "pygments_lexer": "ipython3",
   "version": "3.7.4"
  },
  "nbTranslate": {
   "displayLangs": [
    "*"
   ],
   "hotkey": "alt-t",
   "langInMainMenu": true,
   "sourceLang": "en",
   "targetLang": "fr",
   "useGoogleTranslate": true
  },
  "toc": {
   "base_numbering": 1,
   "nav_menu": {},
   "number_sections": true,
   "sideBar": true,
   "skip_h1_title": false,
   "title_cell": "Table of Contents",
   "title_sidebar": "Contents",
   "toc_cell": false,
   "toc_position": {},
   "toc_section_display": true,
   "toc_window_display": false
  }
 },
 "nbformat": 4,
 "nbformat_minor": 2
}
