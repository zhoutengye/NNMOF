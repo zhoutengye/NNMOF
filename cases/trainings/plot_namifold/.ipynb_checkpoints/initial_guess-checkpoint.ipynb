{
 "cells": [
  {
   "cell_type": "code",
   "execution_count": 2,
   "metadata": {},
   "outputs": [],
   "source": [
    "import numpy as np\n",
    "import matplotlib.pyplot as plt\n",
    "import backwardc"
   ]
  },
  {
   "cell_type": "code",
   "execution_count": 35,
   "metadata": {},
   "outputs": [],
   "source": [
    "backwardc."
   ]
  },
  {
   "cell_type": "code",
   "execution_count": 32,
   "metadata": {},
   "outputs": [],
   "source": [
    "E_BFGS1   = np.abs(exact - BFGS1)\n",
    "E_BFGS2   = np.abs(exact - BFGS2)\n",
    "E_ZY      = np.abs(exact - ZY)\n",
    "E_Sussman = np.abs(exact - Sussman)\n",
    "E_GN      = np.abs(exact - GN)"
   ]
  },
  {
   "cell_type": "code",
   "execution_count": 39,
   "metadata": {},
   "outputs": [
    {
     "name": "stdout",
     "output_type": "stream",
     "text": [
      "[[-9.95162654e-01  7.88228338e-04 -4.04911731e-03]]\n",
      "[[0. 0. 0.]]\n",
      "[[9.95162654e-01 7.88228338e-04 4.04911731e-03]]\n",
      "[0.05775482]\n"
     ]
    }
   ],
   "source": [
    "nmax = np.where(E_BFGS2==E_BFGS2.max())\n",
    "nmax\n",
    "print(exact[nmax[0]])\n",
    "print(BFGS2[nmax[0]])\n",
    "print(E_BFGS2[nmax[0]])\n",
    "print(f[nmax[0]])"
   ]
  },
  {
   "cell_type": "code",
   "execution_count": 40,
   "metadata": {},
   "outputs": [
    {
     "name": "stdout",
     "output_type": "stream",
     "text": [
      "[[-0.51065129  0.48320496  0.00614374]]\n",
      "[[-0.9271549  -0.04511565  0.02772946]]\n",
      "[[0.41650361 0.52832061 0.02158571]]\n",
      "[6.55784165e-05]\n"
     ]
    }
   ],
   "source": [
    "nmax = np.where(E_GN==E_GN.max())\n",
    "nmax\n",
    "print(exact[nmax[0]])\n",
    "print(GN[nmax[0]])\n",
    "print(E_GN[nmax[0]])\n",
    "print(f[nmax[0]])"
   ]
  },
  {
   "cell_type": "code",
   "execution_count": 41,
   "metadata": {},
   "outputs": [
    {
     "name": "stdout",
     "output_type": "stream",
     "text": [
      "[[-0.63254531 -0.0225475   0.34490719]]\n",
      "[[-0.01382023 -0.01137245  0.97480732]]\n",
      "[[0.61872508 0.01117505 0.62990013]]\n",
      "[0.99990745]\n"
     ]
    }
   ],
   "source": [
    "nmax = np.where(E_ZY==E_ZY.max())\n",
    "nmax\n",
    "print(exact[nmax[0]])\n",
    "print(ZY[nmax[0]])\n",
    "print(E_ZY[nmax[0]])\n",
    "print(f[nmax[0]])"
   ]
  },
  {
   "cell_type": "code",
   "execution_count": null,
   "metadata": {},
   "outputs": [],
   "source": []
  }
 ],
 "metadata": {
  "kernelspec": {
   "display_name": "Python 3",
   "language": "python",
   "name": "python3"
  },
  "language_info": {
   "codemirror_mode": {
    "name": "ipython",
    "version": 3
   },
   "file_extension": ".py",
   "mimetype": "text/x-python",
   "name": "python",
   "nbconvert_exporter": "python",
   "pygments_lexer": "ipython3",
   "version": "3.7.6"
  },
  "latex_envs": {
   "LaTeX_envs_menu_present": true,
   "autoclose": false,
   "autocomplete": true,
   "bibliofile": "biblio.bib",
   "cite_by": "apalike",
   "current_citInitial": 1,
   "eqLabelWithNumbers": true,
   "eqNumInitial": 1,
   "hotkeys": {
    "equation": "Ctrl-E",
    "itemize": "Ctrl-I"
   },
   "labels_anchors": false,
   "latex_user_defs": false,
   "report_style_numbering": false,
   "user_envs_cfg": false
  },
  "toc": {
   "base_numbering": 1,
   "nav_menu": {},
   "number_sections": true,
   "sideBar": true,
   "skip_h1_title": false,
   "title_cell": "Table of Contents",
   "title_sidebar": "Contents",
   "toc_cell": false,
   "toc_position": {},
   "toc_section_display": true,
   "toc_window_display": false
  }
 },
 "nbformat": 4,
 "nbformat_minor": 4
}
