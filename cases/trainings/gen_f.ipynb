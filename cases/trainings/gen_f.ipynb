{
 "cells": [
  {
   "cell_type": "code",
   "execution_count": 2,
   "metadata": {},
   "outputs": [],
   "source": [
    "import numpy as np\n",
    "import matplotlib.pyplot as plt"
   ]
  },
  {
   "cell_type": "code",
   "execution_count": 6,
   "metadata": {},
   "outputs": [
    {
     "data": {
      "image/png": "[encoded data removed]",
      "text/plain": [
       "<Figure size 432x288 with 1 Axes>"
      ]
     },
     "metadata": {
      "needs_background": "light"
     },
     "output_type": "display_data"
    }
   ],
   "source": [
    "num_sampling = 1000000\n",
    "num_sampling2 = int(num_sampling / 2)\n",
    "num_sampling4 = int(num_sampling / 4)\n",
    "f = np.random.normal(loc=0.0, scale=0.1, size=num_sampling) \n",
    "f3 = 0.5-f[f>0]\n",
    "f4 = -0.5-f[f<=0]\n",
    "f1 = (np.concatenate([f3,f4]) + 0.5)\n",
    "x = np.arange(0,1,0.1)\n",
    "m=plt.hist(f1,bins=100)\n",
    "np.savetxt('fdata.dat',f1)"
   ]
  },
  {
   "cell_type": "code",
   "execution_count": 14,
   "metadata": {},
   "outputs": [
    {
     "data": {
      "image/png": "[encoded data removed]",
      "text/plain": [
       "<Figure size 432x288 with 1 Axes>"
      ]
     },
     "metadata": {
      "needs_background": "light"
     },
     "output_type": "display_data"
    }
   ],
   "source": [
    "num_sampling = 200000\n",
    "f = np.random.normal(loc=0.0, scale=0.1, size=num_sampling) \n",
    "f=np.sort(f)[int(num_sampling/2):num_sampling]\n",
    "x = np.arange(0,1,0.1)\n",
    "m=plt.hist(f,bins=100)\n",
    "np.savetxt('fdata.dat',f)"
   ]
  },
  {
   "cell_type": "code",
   "execution_count": 3,
   "metadata": {},
   "outputs": [
    {
     "data": {
      "text/plain": [
       "(array([3.860e+03, 3.891e+03, 3.484e+03, 3.132e+03, 2.767e+03, 2.195e+03,\n",
       "        1.696e+03, 1.301e+03, 9.280e+02, 6.360e+02, 4.280e+02, 2.870e+02,\n",
       "        1.680e+02, 1.060e+02, 5.900e+01, 3.300e+01, 2.200e+01, 1.000e+01,\n",
       "        3.000e+00, 1.000e+00, 1.000e+00, 0.000e+00, 0.000e+00, 0.000e+00,\n",
       "        0.000e+00, 0.000e+00, 0.000e+00, 0.000e+00, 3.000e+00, 0.000e+00,\n",
       "        0.000e+00, 6.000e+00, 6.000e+00, 2.300e+01, 3.300e+01, 5.400e+01,\n",
       "        9.900e+01, 1.970e+02, 3.110e+02, 4.420e+02, 6.280e+02, 9.570e+02,\n",
       "        1.255e+03, 1.741e+03, 2.195e+03, 2.755e+03, 3.036e+03, 3.488e+03,\n",
       "        3.795e+03, 3.969e+03, 3.950e+03, 3.818e+03, 3.548e+03, 3.066e+03,\n",
       "        2.598e+03, 2.112e+03, 1.690e+03, 1.307e+03, 9.130e+02, 6.780e+02,\n",
       "        4.560e+02, 2.850e+02, 1.840e+02, 9.000e+01, 5.600e+01, 3.100e+01,\n",
       "        1.100e+01, 5.000e+00, 2.000e+00, 5.000e+00, 1.000e+00, 1.000e+00,\n",
       "        0.000e+00, 0.000e+00, 0.000e+00, 0.000e+00, 0.000e+00, 0.000e+00,\n",
       "        0.000e+00, 0.000e+00, 2.000e+00, 7.000e+00, 7.000e+00, 1.600e+01,\n",
       "        3.000e+01, 5.900e+01, 1.300e+02, 1.900e+02, 2.870e+02, 4.280e+02,\n",
       "        6.670e+02, 9.760e+02, 1.356e+03, 1.681e+03, 2.227e+03, 2.655e+03,\n",
       "        3.231e+03, 3.505e+03, 3.779e+03, 3.959e+03]),\n",
       " array([6.84103703e-06, 1.00067723e-02, 2.00067037e-02, 3.00066350e-02,\n",
       "        4.00065663e-02, 5.00064976e-02, 6.00064289e-02, 7.00063602e-02,\n",
       "        8.00062915e-02, 9.00062228e-02, 1.00006154e-01, 1.10006085e-01,\n",
       "        1.20006017e-01, 1.30005948e-01, 1.40005879e-01, 1.50005811e-01,\n",
       "        1.60005742e-01, 1.70005673e-01, 1.80005605e-01, 1.90005536e-01,\n",
       "        2.00005467e-01, 2.10005399e-01, 2.20005330e-01, 2.30005261e-01,\n",
       "        2.40005192e-01, 2.50005124e-01, 2.60005055e-01, 2.70004986e-01,\n",
       "        2.80004918e-01, 2.90004849e-01, 3.00004780e-01, 3.10004712e-01,\n",
       "        3.20004643e-01, 3.30004574e-01, 3.40004506e-01, 3.50004437e-01,\n",
       "        3.60004368e-01, 3.70004300e-01, 3.80004231e-01, 3.90004162e-01,\n",
       "        4.00004093e-01, 4.10004025e-01, 4.20003956e-01, 4.30003887e-01,\n",
       "        4.40003819e-01, 4.50003750e-01, 4.60003681e-01, 4.70003613e-01,\n",
       "        4.80003544e-01, 4.90003475e-01, 5.00003407e-01, 5.10003338e-01,\n",
       "        5.20003269e-01, 5.30003200e-01, 5.40003132e-01, 5.50003063e-01,\n",
       "        5.60002994e-01, 5.70002926e-01, 5.80002857e-01, 5.90002788e-01,\n",
       "        6.00002720e-01, 6.10002651e-01, 6.20002582e-01, 6.30002514e-01,\n",
       "        6.40002445e-01, 6.50002376e-01, 6.60002308e-01, 6.70002239e-01,\n",
       "        6.80002170e-01, 6.90002101e-01, 7.00002033e-01, 7.10001964e-01,\n",
       "        7.20001895e-01, 7.30001827e-01, 7.40001758e-01, 7.50001689e-01,\n",
       "        7.60001621e-01, 7.70001552e-01, 7.80001483e-01, 7.90001415e-01,\n",
       "        8.00001346e-01, 8.10001277e-01, 8.20001208e-01, 8.30001140e-01,\n",
       "        8.40001071e-01, 8.50001002e-01, 8.60000934e-01, 8.70000865e-01,\n",
       "        8.80000796e-01, 8.90000728e-01, 9.00000659e-01, 9.10000590e-01,\n",
       "        9.20000522e-01, 9.30000453e-01, 9.40000384e-01, 9.50000316e-01,\n",
       "        9.60000247e-01, 9.70000178e-01, 9.80000109e-01, 9.90000041e-01,\n",
       "        9.99999972e-01]),\n",
       " <a list of 100 Patch objects>)"
      ]
     },
     "execution_count": 3,
     "metadata": {},
     "output_type": "execute_result"
    },
    {
     "data": {
      "image/png": "[encoded data removed]",
      "text/plain": [
       "<Figure size 432x288 with 1 Axes>"
      ]
     },
     "metadata": {
      "needs_background": "light"
     },
     "output_type": "display_data"
    }
   ],
   "source": [
    "f2 = np.loadtxt('data.dat')\n",
    "plt.hist(f2[:,3],bins=100)"
   ]
  },
  {
   "cell_type": "code",
   "execution_count": 1,
   "metadata": {},
   "outputs": [],
   "source": [
    "import backwardc"
   ]
  },
  {
   "cell_type": "code",
   "execution_count": null,
   "metadata": {},
   "outputs": [],
   "source": []
  },
  {
   "cell_type": "code",
   "execution_count": null,
   "metadata": {},
   "outputs": [],
   "source": []
  }
 ],
 "metadata": {
  "kernelspec": {
   "display_name": "Python 3",
   "language": "python",
   "name": "python3"
  },
  "language_info": {
   "codemirror_mode": {
    "name": "ipython",
    "version": 3
   },
   "file_extension": ".py",
   "mimetype": "text/x-python",
   "name": "python",
   "nbconvert_exporter": "python",
   "pygments_lexer": "ipython3",
   "version": "3.7.6"
  },
  "latex_envs": {
   "LaTeX_envs_menu_present": true,
   "autoclose": false,
   "autocomplete": true,
   "bibliofile": "biblio.bib",
   "cite_by": "apalike",
   "current_citInitial": 1,
   "eqLabelWithNumbers": true,
   "eqNumInitial": 1,
   "hotkeys": {
    "equation": "Ctrl-E",
    "itemize": "Ctrl-I"
   },
   "labels_anchors": false,
   "latex_user_defs": false,
   "report_style_numbering": false,
   "user_envs_cfg": false
  },
  "toc": {
   "base_numbering": 1,
   "nav_menu": {},
   "number_sections": true,
   "sideBar": true,
   "skip_h1_title": false,
   "title_cell": "Table of Contents",
   "title_sidebar": "Contents",
   "toc_cell": false,
   "toc_position": {},
   "toc_section_display": true,
   "toc_window_display": false
  }
 },
 "nbformat": 4,
 "nbformat_minor": 4
}
