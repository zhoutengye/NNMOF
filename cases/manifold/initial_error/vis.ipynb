{
 "cells": [
  {
   "cell_type": "code",
   "execution_count": null,
   "metadata": {},
   "outputs": [],
   "source": [
    "import numpy as np\n",
    "import matplotlib.pyplot as plt\n",
    "from mpl_toolkits.mplot3d import Axes3D \n",
    "import plotly.graph_objects as go\n",
    "from scipy.interpolate import griddata\n",
    "# from mayavi import mlab\n",
    "from scipy.interpolate import griddata as gd\n",
    "from scipy.interpolate import LinearNDInterpolator as lt\n",
    "from pyevtk.hl import gridToVTK, pointsToVTK\n",
    "# mlab.init_notebook()"
   ]
  },
  {
   "cell_type": "code",
   "execution_count": 2,
   "metadata": {},
   "outputs": [],
   "source": [
    "nn=50"
   ]
  },
  {
   "cell_type": "code",
   "execution_count": 5,
   "metadata": {},
   "outputs": [],
   "source": [
    "pts = np.loadtxt('pts2.dat')\n",
    "p = np.ascontiguousarray(pts[:,0])\n",
    "t = np.ascontiguousarray(pts[:,1])\n",
    "f = np.ascontiguousarray(pts[:,2])\n",
    "dp = np.ascontiguousarray(pts[:,3])\n",
    "dt = np.ascontiguousarray(pts[:,4])\n",
    "x = np.ascontiguousarray(pts[:,5])\n",
    "y = np.ascontiguousarray(pts[:,6])\n",
    "z = np.ascontiguousarray(pts[:,7])\n",
    "P = np.ascontiguousarray(np.reshape(p,[nn,nn,nn]))\n",
    "T = np.ascontiguousarray(np.reshape(t,[nn,nn,nn]))\n",
    "F = np.ascontiguousarray(np.reshape(f,[nn,nn,nn]))\n",
    "DP = np.ascontiguousarray(np.reshape(dp,[nn,nn,nn]))\n",
    "DT = np.ascontiguousarray(np.reshape(dt,[nn,nn,nn]))\n",
    "Y, X, Z=np.mgrid[0:1:50j, 0:1:50j, 0:1:50j]-0.49\n",
    "# DP2 = gd((x,y,z), dp, (X.flatten(),Y.flatten(),Z.flatten()),method='linear')\n",
    "# DP2 = np.reshape(DP2,[nn,nn,nn])\n",
    "# DT2 = gd((x,y,z), dt, (X.flatten(),Y.flatten(),Z.flatten()),method='linear')\n",
    "# DT2 = np.reshape(DT2,[nn,nn,nn])\n",
    "F2 = gd((x,y,z), f, (X.flatten(),Y.flatten(),Z.flatten()),method='linear')\n",
    "F2 = np.reshape(F2,[nn,nn,nn])"
   ]
  },
  {
   "cell_type": "code",
   "execution_count": null,
   "metadata": {},
   "outputs": [],
   "source": [
    "X2, Y2, Z2=np.mgrid[-0.5:0.5:50j, -0.5:0.5:50j, -0.5:0.5:50j]\n",
    "\n",
    "gridToVTK(\"pt1\",P,T,F,pointData={\"dp\":DP,\"dt\":DT})\n",
    "\n",
    "gridToVTK(\"pt2\",X2,Y2,Z2,pointData={\"dp\":DP2,\"dt\":DT2})\n",
    "\n",
    "pointsToVTK(\"pt1\", x, y, z, data={\"dp\": dp,\"dt\":dt})"
   ]
  },
  {
   "cell_type": "code",
   "execution_count": null,
   "metadata": {},
   "outputs": [],
   "source": [
    "pts2 = np.loadtxt('pts.dat')\n",
    "dp2 = np.ascontiguousarray(pts2[:,3])\n",
    "dt2 = np.ascontiguousarray(pts2[:,4])\n",
    "x2 = np.ascontiguousarray(pts2[:,0])\n",
    "y2 = np.ascontiguousarray(pts2[:,1])\n",
    "z2 = np.ascontiguousarray(pts2[:,2])\n",
    "f2 = np.ascontiguousarray(pts2[:,5])\n",
    "# DP = np.ascontiguousarray(np.reshape(dp,[nn,nn,nn]))\n",
    "# DT = np.ascontiguousarray(np.reshape(dt,[nn,nn,nn]))\n"
   ]
  },
  {
   "cell_type": "code",
   "execution_count": null,
   "metadata": {},
   "outputs": [],
   "source": [
    "pointsToVTK(\"pf1\", x2, y2, z2, data={\"f\": f2})\n",
    "pointsToVTK(\"pf1\", x2, y2, z2, data={\"f\": f2})"
   ]
  },
  {
   "cell_type": "code",
   "execution_count": null,
   "metadata": {},
   "outputs": [],
   "source": [
    "from pyevtk.hl import gridToVTK, pointsToVTK\n",
    "gridToVTK(\n",
    "    \"pf1\",\n",
    "    P,\n",
    "    T,\n",
    "    F,\n",
    "    pointData={\"f\": F},\n",
    ")\n",
    "\n",
    "gridToVTK(\n",
    "    \"pf2\",\n",
    "    X2,\n",
    "    Y2,\n",
    "    Z2,\n",
    "    pointData={\"f\": F2},\n",
    ")"
   ]
  },
  {
   "cell_type": "code",
   "execution_count": 16,
   "metadata": {},
   "outputs": [
    {
     "data": {
      "text/plain": [
       "'/home/yeldon/Desktop/NNMOF/cases/manifold/initial_error/pt1.vtu'"
      ]
     },
     "execution_count": 16,
     "metadata": {},
     "output_type": "execute_result"
    }
   ],
   "source": []
  },
  {
   "cell_type": "code",
   "execution_count": 18,
   "metadata": {},
   "outputs": [],
   "source": []
  },
  {
   "cell_type": "code",
   "execution_count": 20,
   "metadata": {},
   "outputs": [
    {
     "data": {
      "text/plain": [
       "'/home/yeldon/Desktop/NNMOF/cases/manifold/initial_error/pf1.vtu'"
      ]
     },
     "execution_count": 20,
     "metadata": {},
     "output_type": "execute_result"
    }
   ],
   "source": []
  },
  {
   "cell_type": "code",
   "execution_count": 10,
   "metadata": {},
   "outputs": [
    {
     "data": {
      "application/vnd.jupyter.widget-view+json": {
       "model_id": "31450470a3d346749146a526ffb7bfa6",
       "version_major": 2,
       "version_minor": 0
      },
      "text/plain": [
       "Image(value=b'\\x89PNG\\r\\n\\x1a\\n\\x00\\x00\\x00\\rIHDR\\x00\\x00\\x01\\x90\\x00\\x00\\x01^\\x08\\x02\\x00\\x00\\x00$?\\xde_\\x00\\…"
      ]
     },
     "metadata": {},
     "output_type": "display_data"
    }
   ],
   "source": [
    "# mlab.close()\n",
    "mlab.figure(bgcolor=(1,1,1), fgcolor=(0,0,0))\n",
    "mlab.contour3d(X2, Y2, Z2,DP,contours=8,opacity=.8,colormap='RdBu')\n",
    "mlab.axes(x_axis_visibility=True, xlabel = r'f',\n",
    "         y_axis_visibility=True, ylabel = r'$\\phi$',\n",
    "         z_axis_visibility=True, zlabel = r'$\\theta$')\n",
    "mlab.colorbar()"
   ]
  },
  {
   "cell_type": "code",
   "execution_count": 15,
   "metadata": {},
   "outputs": [],
   "source": []
  },
  {
   "cell_type": "code",
   "execution_count": 38,
   "metadata": {},
   "outputs": [
    {
     "data": {
      "text/plain": [
       "3.11018"
      ]
     },
     "execution_count": 38,
     "metadata": {},
     "output_type": "execute_result"
    }
   ],
   "source": [
    "P.max()"
   ]
  },
  {
   "cell_type": "code",
   "execution_count": null,
   "metadata": {},
   "outputs": [],
   "source": []
  }
 ],
 "metadata": {
  "kernelspec": {
   "display_name": "Python 3",
   "language": "python",
   "name": "python3"
  },
  "language_info": {
   "codemirror_mode": {
    "name": "ipython",
    "version": 3
   },
   "file_extension": ".py",
   "mimetype": "text/x-python",
   "name": "python",
   "nbconvert_exporter": "python",
   "pygments_lexer": "ipython3",
   "version": "3.7.6"
  },
  "latex_envs": {
   "LaTeX_envs_menu_present": true,
   "autoclose": false,
   "autocomplete": true,
   "bibliofile": "biblio.bib",
   "cite_by": "apalike",
   "current_citInitial": 1,
   "eqLabelWithNumbers": true,
   "eqNumInitial": 1,
   "hotkeys": {
    "equation": "Ctrl-E",
    "itemize": "Ctrl-I"
   },
   "labels_anchors": false,
   "latex_user_defs": false,
   "report_style_numbering": false,
   "user_envs_cfg": false
  },
  "toc": {
   "base_numbering": 1,
   "nav_menu": {},
   "number_sections": true,
   "sideBar": true,
   "skip_h1_title": false,
   "title_cell": "Table of Contents",
   "title_sidebar": "Contents",
   "toc_cell": false,
   "toc_position": {},
   "toc_section_display": true,
   "toc_window_display": false
  }
 },
 "nbformat": 4,
 "nbformat_minor": 2
}
