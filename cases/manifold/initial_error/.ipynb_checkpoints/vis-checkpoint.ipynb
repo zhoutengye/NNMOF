{
 "cells": [
  {
   "cell_type": "code",
   "execution_count": 7,
   "metadata": {},
   "outputs": [
    {
     "name": "stdout",
     "output_type": "stream",
     "text": [
      "Notebook initialized with ipy backend.\n"
     ]
    }
   ],
   "source": [
    "import numpy as np\n",
    "import matplotlib.pyplot as plt\n",
    "from mpl_toolkits.mplot3d import Axes3D \n",
    "import plotly.graph_objects as go\n",
    "from scipy.interpolate import griddata\n",
    "from mayavi import mlab\n",
    "from scipy.interpolate import griddata as gd\n",
    "from scipy.interpolate import LinearNDInterpolator as lt\n",
    "mlab.init_notebook()"
   ]
  },
  {
   "cell_type": "code",
   "execution_count": 10,
   "metadata": {},
   "outputs": [],
   "source": [
    "nn=50"
   ]
  },
  {
   "cell_type": "code",
   "execution_count": 11,
   "metadata": {},
   "outputs": [],
   "source": [
    "pts = np.loadtxt('pts.dat')\n",
    "p = np.ascontiguousarray(pts[:,0])\n",
    "t = np.ascontiguousarray(pts[:,1])\n",
    "f = np.ascontiguousarray(pts[:,2])\n",
    "dp = np.ascontiguousarray(pts[:,3])\n",
    "dt = np.ascontiguousarray(pts[:,4])\n",
    "x = np.ascontiguousarray(pts[:,5])\n",
    "y = np.ascontiguousarray(pts[:,6])\n",
    "z = np.ascontiguousarray(pts[:,7])\n",
    "P = np.ascontiguousarray(np.reshape(p,[nn,nn,nn]))\n",
    "T = np.ascontiguousarray(np.reshape(t,[nn,nn,nn]))\n",
    "F = np.ascontiguousarray(np.reshape(f,[nn,nn,nn]))\n",
    "DP = np.ascontiguousarray(np.reshape(dp,[nn,nn,nn]))\n",
    "DT = np.ascontiguousarray(np.reshape(dt,[nn,nn,nn]))"
   ]
  },
  {
   "cell_type": "code",
   "execution_count": null,
   "metadata": {},
   "outputs": [],
   "source": [
    "X, Y, Z=np.mgrid[-np.pi:np.pi:50j, -np.pi/2:np.pi/2:50j, 0:1:50j]-0.49\n",
    "DP2 = gd((x,y,z), dp, (X.flatten(),Y.flatten(),Z.flatten()),method='linear')\n",
    "DP2 = np.reshape(DP2,[nn,nn,nn])\n",
    "DT2 = gd((x,y,z), dt, (X.flatten(),Y.flatten(),Z.flatten()),method='linear')\n",
    "DT2 = np.reshape(DT2,[nn,nn,nn])"
   ]
  },
  {
   "cell_type": "code",
   "execution_count": null,
   "metadata": {},
   "outputs": [],
   "source": [
    "# mlab.close()\n",
    "mlab.figure(bgcolor=(1,1,1), fgcolor=(0,0,0))\n",
    "mlab.contour3d(X, Y, Z ,DP,contours=8,opacity=.8,colormap='RdBu')\n",
    "mlab.axes(x_axis_visibility=True, xlabel = r'f',\n",
    "         y_axis_visibility=True, ylabel = r'$\\phi$',\n",
    "         z_axis_visibility=True, zlabel = r'$\\theta$')\n",
    "mlab.colorbar()"
   ]
  },
  {
   "cell_type": "code",
   "execution_count": 35,
   "metadata": {},
   "outputs": [
    {
     "data": {
      "text/plain": [
       "'/home/yeldon/Desktop/NNMOF/cases/manifold/initial_error/pt1.vtu'"
      ]
     },
     "execution_count": 35,
     "metadata": {},
     "output_type": "execute_result"
    }
   ],
   "source": [
    "from pyevtk.hl import gridToVTK, pointsToVTK\n",
    "gridToVTK(\n",
    "    \"pt1\",\n",
    "    P,\n",
    "    T,\n",
    "    F,\n",
    "    pointData={\"dp\":DP,\"dt\":DT},\n",
    ")\n",
    "\n",
    "gridToVTK(\n",
    "    \"pt2\",\n",
    "    X,\n",
    "    Y,\n",
    "    Z,\n",
    "    pointData={\"dp\":DP,\"dt\":DT},\n",
    ")\n",
    "\n",
    "pointsToVTK(\"pt1\", \n",
    "            x, \n",
    "            y, \n",
    "            z, \n",
    "            data={\"dp\": dp,\"dt\":dt})"
   ]
  },
  {
   "cell_type": "code",
   "execution_count": 36,
   "metadata": {},
   "outputs": [
    {
     "data": {
      "text/plain": [
       "'/home/yeldon/Desktop/NNMOF/cases/manifold/initial_error/pf1.vtu'"
      ]
     },
     "execution_count": 36,
     "metadata": {},
     "output_type": "execute_result"
    }
   ],
   "source": [
    "from pyevtk.hl import gridToVTK, pointsToVTK\n",
    "gridToVTK(\n",
    "    \"pf1\",\n",
    "    P,\n",
    "    T,\n",
    "    F,\n",
    "    pointData={\"f\": F},\n",
    ")\n",
    "\n",
    "pointsToVTK(\"pf1\", \n",
    "            x, \n",
    "            y, \n",
    "            z, \n",
    "            data={\"f\": f})"
   ]
  },
  {
   "cell_type": "code",
   "execution_count": 38,
   "metadata": {},
   "outputs": [
    {
     "data": {
      "text/plain": [
       "3.11018"
      ]
     },
     "execution_count": 38,
     "metadata": {},
     "output_type": "execute_result"
    }
   ],
   "source": [
    "P.max()"
   ]
  },
  {
   "cell_type": "code",
   "execution_count": null,
   "metadata": {},
   "outputs": [],
   "source": []
  }
 ],
 "metadata": {
  "kernelspec": {
   "display_name": "Python 3",
   "language": "python",
   "name": "python3"
  },
  "language_info": {
   "codemirror_mode": {
    "name": "ipython",
    "version": 3
   },
   "file_extension": ".py",
   "mimetype": "text/x-python",
   "name": "python",
   "nbconvert_exporter": "python",
   "pygments_lexer": "ipython3",
   "version": "3.7.6"
  },
  "latex_envs": {
   "LaTeX_envs_menu_present": true,
   "autoclose": false,
   "autocomplete": true,
   "bibliofile": "biblio.bib",
   "cite_by": "apalike",
   "current_citInitial": 1,
   "eqLabelWithNumbers": true,
   "eqNumInitial": 1,
   "hotkeys": {
    "equation": "Ctrl-E",
    "itemize": "Ctrl-I"
   },
   "labels_anchors": false,
   "latex_user_defs": false,
   "report_style_numbering": false,
   "user_envs_cfg": false
  },
  "toc": {
   "base_numbering": 1,
   "nav_menu": {},
   "number_sections": true,
   "sideBar": true,
   "skip_h1_title": false,
   "title_cell": "Table of Contents",
   "title_sidebar": "Contents",
   "toc_cell": false,
   "toc_position": {},
   "toc_section_display": true,
   "toc_window_display": false
  }
 },
 "nbformat": 4,
 "nbformat_minor": 2
}
