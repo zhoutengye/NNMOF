{
 "cells": [
  {
   "cell_type": "code",
   "execution_count": 1,
   "metadata": {},
   "outputs": [],
   "source": [
    "import numpy as np\n",
    "import matplotlib.pyplot as plt"
   ]
  },
  {
   "cell_type": "code",
   "execution_count": 24,
   "metadata": {},
   "outputs": [
    {
     "data": {
      "image/png": "[encoded data removed]",
      "text/plain": [
       "<Figure size 432x288 with 1 Axes>"
      ]
     },
     "metadata": {
      "needs_background": "light"
     },
     "output_type": "display_data"
    }
   ],
   "source": [
    "num_sampling = 100000\n",
    "num_sampling2 = int(num_sampling / 2)\n",
    "num_sampling4 = int(num_sampling / 4)\n",
    "f = np.random.normal(loc=0.0, scale=0.1, size=num_sampling2) \n",
    "f1 = (f + 0.5) / 2\n",
    "f = np.random.normal(loc=0.0, scale=0.1, size=num_sampling2) \n",
    "f2 = (f + 0.5) / 2+ 0.5\n",
    "f=np.concatenate([f1,f2])\n",
    "x = np.arange(0,1,0.1)\n",
    "m=plt.hist(f,bins=100)\n",
    "np.savetxt('fdata.dat',f)"
   ]
  },
  {
   "cell_type": "code",
   "execution_count": 15,
   "metadata": {},
   "outputs": [
    {
     "data": {
      "text/plain": [
       "(array([2.000e+00, 4.000e+00, 5.000e+00, 5.000e+00, 1.600e+01, 1.900e+01,\n",
       "        3.100e+01, 7.400e+01, 1.140e+02, 1.830e+02, 2.780e+02, 4.020e+02,\n",
       "        5.970e+02, 8.640e+02, 1.144e+03, 1.479e+03, 1.941e+03, 2.226e+03,\n",
       "        2.592e+03, 3.040e+03, 3.354e+03, 3.589e+03, 3.723e+03, 3.541e+03,\n",
       "        3.435e+03, 3.251e+03, 2.944e+03, 2.516e+03, 2.119e+03, 1.755e+03,\n",
       "        1.357e+03, 1.052e+03, 7.900e+02, 5.520e+02, 3.490e+02, 2.510e+02,\n",
       "        1.740e+02, 9.800e+01, 6.400e+01, 3.400e+01, 2.100e+01, 9.000e+00,\n",
       "        5.000e+00, 0.000e+00, 0.000e+00, 0.000e+00, 0.000e+00, 1.000e+00,\n",
       "        0.000e+00, 0.000e+00, 0.000e+00, 0.000e+00, 0.000e+00, 0.000e+00,\n",
       "        0.000e+00, 5.000e+00, 2.000e+00, 2.000e+00, 1.300e+01, 2.100e+01,\n",
       "        3.500e+01, 6.100e+01, 9.000e+01, 1.540e+02, 2.460e+02, 3.770e+02,\n",
       "        5.740e+02, 7.630e+02, 1.020e+03, 1.262e+03, 1.706e+03, 2.125e+03,\n",
       "        2.514e+03, 2.949e+03, 3.271e+03, 3.509e+03, 3.632e+03, 3.598e+03,\n",
       "        3.561e+03, 3.447e+03, 3.090e+03, 2.656e+03, 2.334e+03, 1.860e+03,\n",
       "        1.445e+03, 1.102e+03, 8.070e+02, 5.840e+02, 4.280e+02, 2.650e+02,\n",
       "        1.930e+02, 1.230e+02, 7.600e+01, 4.200e+01, 2.600e+01, 1.600e+01,\n",
       "        9.000e+00, 3.000e+00, 2.000e+00, 2.000e+00]),\n",
       " array([-0.21009344, -0.20088938, -0.19168531, -0.18248125, -0.17327719,\n",
       "        -0.16407313, -0.15486906, -0.145665  , -0.13646094, -0.12725688,\n",
       "        -0.11805282, -0.10884875, -0.09964469, -0.09044063, -0.08123657,\n",
       "        -0.0720325 , -0.06282844, -0.05362438, -0.04442032, -0.03521625,\n",
       "        -0.02601219, -0.01680813, -0.00760407,  0.0016    ,  0.01080406,\n",
       "         0.02000812,  0.02921218,  0.03841625,  0.04762031,  0.05682437,\n",
       "         0.06602843,  0.0752325 ,  0.08443656,  0.09364062,  0.10284468,\n",
       "         0.11204875,  0.12125281,  0.13045687,  0.13966093,  0.148865  ,\n",
       "         0.15806906,  0.16727312,  0.17647718,  0.18568125,  0.19488531,\n",
       "         0.20408937,  0.21329343,  0.2224975 ,  0.23170156,  0.24090562,\n",
       "         0.25010968,  0.25931375,  0.26851781,  0.27772187,  0.28692593,\n",
       "         0.29613   ,  0.30533406,  0.31453812,  0.32374218,  0.33294624,\n",
       "         0.34215031,  0.35135437,  0.36055843,  0.36976249,  0.37896656,\n",
       "         0.38817062,  0.39737468,  0.40657874,  0.41578281,  0.42498687,\n",
       "         0.43419093,  0.44339499,  0.45259906,  0.46180312,  0.47100718,\n",
       "         0.48021124,  0.48941531,  0.49861937,  0.50782343,  0.51702749,\n",
       "         0.52623156,  0.53543562,  0.54463968,  0.55384374,  0.56304781,\n",
       "         0.57225187,  0.58145593,  0.59065999,  0.59986406,  0.60906812,\n",
       "         0.61827218,  0.62747624,  0.63668031,  0.64588437,  0.65508843,\n",
       "         0.66429249,  0.67349656,  0.68270062,  0.69190468,  0.70110874,\n",
       "         0.71031281]),\n",
       " <a list of 100 Patch objects>)"
      ]
     },
     "execution_count": 15,
     "metadata": {},
     "output_type": "execute_result"
    },
    {
     "data": {
      "image/png": "[encoded data removed]",
      "text/plain": [
       "<Figure size 432x288 with 1 Axes>"
      ]
     },
     "metadata": {
      "needs_background": "light"
     },
     "output_type": "display_data"
    }
   ],
   "source": [
    "f2 = np.loadtxt('data.dat')\n",
    "plt.hist(f2[:,3],bins=100)"
   ]
  },
  {
   "cell_type": "code",
   "execution_count": null,
   "metadata": {},
   "outputs": [],
   "source": []
  },
  {
   "cell_type": "code",
   "execution_count": null,
   "metadata": {},
   "outputs": [],
   "source": []
  },
  {
   "cell_type": "code",
   "execution_count": null,
   "metadata": {},
   "outputs": [],
   "source": []
  }
 ],
 "metadata": {
  "kernelspec": {
   "display_name": "Python 3",
   "language": "python",
   "name": "python3"
  },
  "language_info": {
   "codemirror_mode": {
    "name": "ipython",
    "version": 3
   },
   "file_extension": ".py",
   "mimetype": "text/x-python",
   "name": "python",
   "nbconvert_exporter": "python",
   "pygments_lexer": "ipython3",
   "version": "3.7.6"
  },
  "toc": {
   "base_numbering": 1,
   "nav_menu": {},
   "number_sections": true,
   "sideBar": true,
   "skip_h1_title": false,
   "title_cell": "Table of Contents",
   "title_sidebar": "Contents",
   "toc_cell": false,
   "toc_position": {},
   "toc_section_display": true,
   "toc_window_display": false
  }
 },
 "nbformat": 4,
 "nbformat_minor": 4
}
