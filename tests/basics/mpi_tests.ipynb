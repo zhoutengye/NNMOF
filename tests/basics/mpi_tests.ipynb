{
 "cells": [
  {
   "cell_type": "code",
   "execution_count": 5,
   "metadata": {
    "ExecuteTime": {
     "end_time": "2020-06-01T05:16:01.187848Z",
     "start_time": "2020-06-01T05:16:00.622339Z"
    }
   },
   "outputs": [],
   "source": [
    "import numpy as np\n",
    "import matplotlib.pyplot as plt\n",
    "import h5py\n",
    "import json\n",
    "import os"
   ]
  },
  {
   "cell_type": "markdown",
   "metadata": {},
   "source": [
    "# Test 1 \n",
    "\n",
    "- [X] ijk rank:\n",
    "\n",
    "Fortran F[i,j,k], in Python would be F[k,j,i]\n",
    "\n",
    "- [X] 2D works in a 3D way\n"
   ]
  },
  {
   "cell_type": "code",
   "execution_count": 6,
   "metadata": {
    "ExecuteTime": {
     "end_time": "2020-06-01T05:18:10.838244Z",
     "start_time": "2020-06-01T05:18:10.832986Z"
    }
   },
   "outputs": [],
   "source": [
    "f=h5py.File('output.h5','r')"
   ]
  },
  {
   "cell_type": "code",
   "execution_count": 7,
   "metadata": {
    "ExecuteTime": {
     "end_time": "2020-06-01T05:18:11.014732Z",
     "start_time": "2020-06-01T05:18:11.009896Z"
    }
   },
   "outputs": [
    {
     "name": "stdout",
     "output_type": "stream",
     "text": [
      "<KeysViewHDF5 ['phi']>\n",
      "<KeysViewHDF5 ['test']>\n",
      "<HDF5 dataset \"test\": shape (2, 8, 4), type \"<f8\">\n"
     ]
    }
   ],
   "source": [
    "print(f.keys())\n",
    "print(f['phi'].keys())\n",
    "print(f['phi']['test'])"
   ]
  },
  {
   "cell_type": "code",
   "execution_count": 8,
   "metadata": {
    "ExecuteTime": {
     "end_time": "2020-06-01T05:18:11.553201Z",
     "start_time": "2020-06-01T05:18:11.285935Z"
    }
   },
   "outputs": [
    {
     "name": "stdout",
     "output_type": "stream",
     "text": [
      "[0. 1. 2. 3.]\n"
     ]
    },
    {
     "data": {
      "text/plain": [
       "<matplotlib.colorbar.Colorbar at 0x7f2163c87c18>"
      ]
     },
     "execution_count": 8,
     "metadata": {},
     "output_type": "execute_result"
    },
    {
     "data": {
      "image/png": "[encoded data removed]",
      "text/plain": [
       "<Figure size 432x288 with 2 Axes>"
      ]
     },
     "metadata": {
      "needs_background": "light"
     },
     "output_type": "display_data"
    }
   ],
   "source": [
    "array = np.array(f['phi']['test'])\n",
    "print(np.unique(array))\n",
    "plt.contourf(array[0,:,:])\n",
    "plt.colorbar()"
   ]
  },
  {
   "cell_type": "markdown",
   "metadata": {},
   "source": [
    "# Test 2\n",
    "\n",
    "- [X] python create attributes and field value\n",
    "\n",
    "\n",
    "- [X] For next part, see if Fortran can read the H5 correctly"
   ]
  },
  {
   "cell_type": "code",
   "execution_count": 9,
   "metadata": {
    "ExecuteTime": {
     "end_time": "2020-06-01T05:18:14.179939Z",
     "start_time": "2020-06-01T05:18:14.175278Z"
    }
   },
   "outputs": [],
   "source": [
    "f2=h5py.File('input.h5','w')"
   ]
  },
  {
   "cell_type": "markdown",
   "metadata": {},
   "source": [
    "Load the parameters from the ``input.json`` file and assign to the hdf5 attributes"
   ]
  },
  {
   "cell_type": "code",
   "execution_count": 10,
   "metadata": {
    "ExecuteTime": {
     "end_time": "2020-06-01T05:18:14.580737Z",
     "start_time": "2020-06-01T05:18:14.571267Z"
    }
   },
   "outputs": [
    {
     "name": "stdout",
     "output_type": "stream",
     "text": [
      "<HDF5 dataset \"test\": shape (2, 8, 4), type \"<f8\">\n"
     ]
    }
   ],
   "source": [
    "f2.create_group('phi')\n",
    "grp = f2['phi']\n",
    "grp.create_dataset(\"test\", data=array)\n",
    "print(f2['phi']['test'])"
   ]
  },
  {
   "cell_type": "code",
   "execution_count": 11,
   "metadata": {
    "ExecuteTime": {
     "end_time": "2020-06-01T05:18:14.785146Z",
     "start_time": "2020-06-01T05:18:14.779379Z"
    }
   },
   "outputs": [],
   "source": [
    "f2.close()"
   ]
  },
  {
   "cell_type": "code",
   "execution_count": 12,
   "metadata": {
    "ExecuteTime": {
     "end_time": "2020-06-01T05:18:15.196635Z",
     "start_time": "2020-06-01T05:18:15.185658Z"
    }
   },
   "outputs": [],
   "source": [
    "f22=h5py.File('input.h5','r')"
   ]
  },
  {
   "cell_type": "code",
   "execution_count": 13,
   "metadata": {
    "ExecuteTime": {
     "end_time": "2020-06-01T05:18:15.699922Z",
     "start_time": "2020-06-01T05:18:15.514659Z"
    }
   },
   "outputs": [
    {
     "data": {
      "image/png": "[encoded data removed]",
      "text/plain": [
       "<Figure size 432x288 with 1 Axes>"
      ]
     },
     "metadata": {
      "needs_background": "light"
     },
     "output_type": "display_data"
    }
   ],
   "source": [
    "plt.contourf(f22['phi']['test'][0,:,:])\n",
    "f22.close()"
   ]
  },
  {
   "cell_type": "markdown",
   "metadata": {},
   "source": [
    "# Test 3\n",
    "\n",
    "- [X] Full Initialization\n",
    "\n",
    "\n",
    "- [X] Read and weite with specific variables"
   ]
  },
  {
   "cell_type": "code",
   "execution_count": 14,
   "metadata": {
    "ExecuteTime": {
     "end_time": "2020-06-01T05:18:29.681328Z",
     "start_time": "2020-06-01T05:18:29.677735Z"
    }
   },
   "outputs": [],
   "source": [
    "f3=h5py.File('input.h5','w')"
   ]
  },
  {
   "cell_type": "code",
   "execution_count": 15,
   "metadata": {
    "ExecuteTime": {
     "end_time": "2020-06-01T05:18:29.870024Z",
     "start_time": "2020-06-01T05:18:29.864564Z"
    }
   },
   "outputs": [],
   "source": [
    "def create_group(h5file,name,fdata):\n",
    "    grp = h5file.create_group(name)\n",
    "    grp.create_dataset(\"init\",data=fdata)"
   ]
  },
  {
   "cell_type": "code",
   "execution_count": 16,
   "metadata": {
    "ExecuteTime": {
     "end_time": "2020-06-01T05:18:30.036488Z",
     "start_time": "2020-06-01T05:18:30.027782Z"
    }
   },
   "outputs": [],
   "source": [
    "create_group(f3,'phi',array)\n",
    "create_group(f3,'u',array+1.0)\n",
    "create_group(f3,'v',array+3.0)\n",
    "create_group(f3,'w',array+2.0)"
   ]
  },
  {
   "cell_type": "code",
   "execution_count": 17,
   "metadata": {
    "ExecuteTime": {
     "end_time": "2020-06-01T05:18:30.343973Z",
     "start_time": "2020-06-01T05:18:30.332265Z"
    }
   },
   "outputs": [],
   "source": [
    "f3.close()"
   ]
  },
  {
   "cell_type": "code",
   "execution_count": 18,
   "metadata": {
    "ExecuteTime": {
     "end_time": "2020-06-01T05:18:30.820856Z",
     "start_time": "2020-06-01T05:18:30.814672Z"
    }
   },
   "outputs": [],
   "source": [
    "f33=h5py.File('input.h5','r')"
   ]
  },
  {
   "cell_type": "code",
   "execution_count": 19,
   "metadata": {
    "ExecuteTime": {
     "end_time": "2020-06-01T05:18:31.197379Z",
     "start_time": "2020-06-01T05:18:31.184017Z"
    }
   },
   "outputs": [
    {
     "name": "stdout",
     "output_type": "stream",
     "text": [
      "<KeysViewHDF5 ['phi', 'u', 'v', 'w']>\n",
      "<KeysViewHDF5 ['init']>\n",
      "<KeysViewHDF5 ['init']>\n",
      "<KeysViewHDF5 ['init']>\n",
      "<KeysViewHDF5 ['init']>\n",
      "<HDF5 dataset \"init\": shape (2, 8, 4), type \"<f8\">\n",
      "<HDF5 dataset \"init\": shape (2, 8, 4), type \"<f8\">\n",
      "<HDF5 dataset \"init\": shape (2, 8, 4), type \"<f8\">\n",
      "<HDF5 dataset \"init\": shape (2, 8, 4), type \"<f8\">\n"
     ]
    }
   ],
   "source": [
    "print(f33.keys())\n",
    "print(f33['phi'].keys())\n",
    "print(f33['u'].keys())\n",
    "print(f33['v'].keys())\n",
    "print(f33['w'].keys())\n",
    "print(f33['phi']['init'])\n",
    "print(f33['u']['init'])\n",
    "print(f33['v']['init'])\n",
    "print(f33['w']['init'])"
   ]
  },
  {
   "cell_type": "code",
   "execution_count": 20,
   "metadata": {
    "ExecuteTime": {
     "end_time": "2020-06-01T05:18:31.902570Z",
     "start_time": "2020-06-01T05:18:31.897927Z"
    }
   },
   "outputs": [],
   "source": [
    "f33.close()"
   ]
  },
  {
   "cell_type": "markdown",
   "metadata": {
    "ExecuteTime": {
     "end_time": "2020-06-01T04:39:24.894758Z",
     "start_time": "2020-06-01T04:39:24.891267Z"
    }
   },
   "source": [
    "# Test 4\n",
    "\n",
    "- [X] MPI exchange test\n",
    "\n",
    "- [X] boundary condition test\n",
    "\n",
    "Test list:\n",
    "\n",
    "- [X] Dilichilet xy, u\n",
    "- [X] Dilichilet z_hi, u\n",
    "- [X] Dilichilet z_lo, u\n",
    "- [X] Dilichilet xy, v\n",
    "- [X] Dilichilet z_hi, v\n",
    "- [X] Dilichilet z_lo, v\n",
    "- [ ] Dilichilet xy, w\n",
    "- [ ] Dilichilet z_hi, w\n",
    "- [ ] Dilichilet z_lo, w\n",
    "- [X] Dilichilet xy, phi\n",
    "- [X] Dilichilet z_hi, phi\n",
    "- [X] Dilichilet z_lo, phi\n",
    "- [X] Nuemann    xy, u\n",
    "- [X] Nuemann    z_hi, u\n",
    "- [X] Nuemann    z_lo, u\n",
    "- [X] Nuemann    xy, v\n",
    "- [X] Nuemann    z_hi, v\n",
    "- [X] Nuemann    z_lo, v\n",
    "- [X] Nuemann    xy, phi\n",
    "- [X] Nuemann    z_hi, v\n",
    "- [X] Nuemann    z_lo, v\n",
    "- [ ] Nuemann xy, w\n",
    "- [ ] Nuemann z_hi, w\n",
    "- [ ] Nuemann z_lo, w\n",
    "\n",
    "uses the input data for test3"
   ]
  }
 ],
 "metadata": {
  "hide_input": false,
  "kernelspec": {
   "display_name": "Python 3",
   "language": "python",
   "name": "python3"
  },
  "language_info": {
   "codemirror_mode": {
    "name": "ipython",
    "version": 3
   },
   "file_extension": ".py",
   "mimetype": "text/x-python",
   "name": "python",
   "nbconvert_exporter": "python",
   "pygments_lexer": "ipython3",
   "version": "3.7.3"
  },
  "nbTranslate": {
   "displayLangs": [
    "*"
   ],
   "hotkey": "alt-t",
   "langInMainMenu": true,
   "sourceLang": "en",
   "targetLang": "fr",
   "useGoogleTranslate": true
  },
  "toc": {
   "base_numbering": 1,
   "nav_menu": {},
   "number_sections": true,
   "sideBar": true,
   "skip_h1_title": false,
   "title_cell": "Table of Contents",
   "title_sidebar": "Contents",
   "toc_cell": false,
   "toc_position": {},
   "toc_section_display": true,
   "toc_window_display": false
  }
 },
 "nbformat": 4,
 "nbformat_minor": 4
}
