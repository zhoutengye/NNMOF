{
 "cells": [
  {
   "cell_type": "code",
   "execution_count": 3,
   "metadata": {
    "ExecuteTime": {
     "end_time": "2020-06-09T04:37:18.181078Z",
     "start_time": "2020-06-09T04:37:16.051028Z"
    }
   },
   "outputs": [
    {
     "name": "stdout",
     "output_type": "stream",
     "text": [
      "Notebook initialized with x3d backend.\n"
     ]
    }
   ],
   "source": [
    "import numpy as np\n",
    "import matplotlib.pyplot as plt\n",
    "import h5py\n",
    "import json\n",
    "import os\n",
    "import mayavi\n",
    "from mayavi import mlab\n",
    "mlab.init_notebook('x3d', 600, 600) # x3d or png"
   ]
  },
  {
   "cell_type": "markdown",
   "metadata": {},
   "source": [
    "# Test1 "
   ]
  },
  {
   "cell_type": "code",
   "execution_count": null,
   "metadata": {},
   "outputs": [],
   "source": []
  },
  {
   "cell_type": "code",
   "execution_count": 12,
   "metadata": {},
   "outputs": [],
   "source": [
    "f3=h5py.File('input.h5','w')"
   ]
  },
  {
   "cell_type": "code",
   "execution_count": 13,
   "metadata": {},
   "outputs": [
    {
     "data": {
      "text/plain": [
       "<HDF5 dataset \"init\": shape (40, 30, 20), type \"<f8\">"
      ]
     },
     "execution_count": 13,
     "metadata": {},
     "output_type": "execute_result"
    }
   ],
   "source": [
    "nx = 20\n",
    "ny = 30\n",
    "nz = 40\n",
    "X,Y,Z = np.meshgrid(np.arange(ny),np.arange(nz),np.arange(nx))\n",
    "phi = np.zeros([nz,ny,nx])\n",
    "cx = np.zeros([nz,ny,nx])\n",
    "cy = np.zeros([nz,ny,nx])\n",
    "cz = np.zeros([nz,ny,nx])\n",
    "u = np.zeros([nz,ny,nx])+ 1.0\n",
    "v = np.zeros([nz,ny,nx]) + 1.0\n",
    "w = np.zeros([nz,ny,nx]) + 1.0\n",
    "phi[5:10,5:10,5:10] = 1.0\n",
    "cx[5:10,5:10,5:10] = 0.5\n",
    "cy[5:10,5:10,5:11] = 0.5\n",
    "cz[5:10,5:10,5:11] = 0.5\n",
    "f3.create_group('phi')\n",
    "grp = f3['phi']\n",
    "grp.create_dataset(\"init\", data=phi)\n",
    "f3.create_group('u')\n",
    "grp = f3['u']\n",
    "grp.create_dataset(\"init\", data=u)\n",
    "f3.create_group('v')\n",
    "grp = f3['v']\n",
    "grp.create_dataset(\"init\", data=v)\n",
    "f3.create_group('w')\n",
    "grp = f3['w']\n",
    "f3.create_group('cx')\n",
    "grp.create_dataset(\"init\", data=w)\n",
    "grp = f3['cx']\n",
    "f3.create_group('cy')\n",
    "grp.create_dataset(\"init\", data=cx)\n",
    "grp = f3['cy']\n",
    "f3.create_group('cz')\n",
    "grp.create_dataset(\"init\", data=cy)\n",
    "grp = f3['cz']\n",
    "grp.create_dataset(\"init\", data=cz)\n"
   ]
  },
  {
   "cell_type": "code",
   "execution_count": 14,
   "metadata": {},
   "outputs": [],
   "source": [
    "f3.close()"
   ]
  },
  {
   "cell_type": "markdown",
   "metadata": {},
   "source": [
    "# Test 3"
   ]
  },
  {
   "cell_type": "markdown",
   "metadata": {},
   "source": [
    "## Read the output file after x-flux"
   ]
  },
  {
   "cell_type": "code",
   "execution_count": 58,
   "metadata": {
    "ExecuteTime": {
     "end_time": "2020-06-09T06:00:12.351764Z",
     "start_time": "2020-06-09T06:00:12.347970Z"
    }
   },
   "outputs": [],
   "source": [
    "f2=h5py.File('output.h5','r')"
   ]
  },
  {
   "cell_type": "code",
   "execution_count": 59,
   "metadata": {
    "ExecuteTime": {
     "end_time": "2020-06-09T06:00:12.522495Z",
     "start_time": "2020-06-09T06:00:12.515001Z"
    }
   },
   "outputs": [],
   "source": [
    "cxs = np.array(f2['cx']['test'])\n",
    "cys = np.array(f2['cy']['test'])\n",
    "czs = np.array(f2['cz']['test'])\n",
    "phis = np.array(f2['phi']['test'])"
   ]
  },
  {
   "cell_type": "code",
   "execution_count": 60,
   "metadata": {
    "ExecuteTime": {
     "end_time": "2020-06-09T06:00:12.738526Z",
     "start_time": "2020-06-09T06:00:12.728621Z"
    }
   },
   "outputs": [
    {
     "name": "stdout",
     "output_type": "stream",
     "text": [
      "[0.  0.2 0.5 0.7]\n",
      "[0.  0.5]\n",
      "[0.  0.5]\n",
      "[0.  0.4 0.6 1. ]\n"
     ]
    }
   ],
   "source": [
    "print(np.unique(cxs))\n",
    "print(np.unique(cys))\n",
    "print(np.unique(czs))\n",
    "print(np.unique(phis))"
   ]
  },
  {
   "cell_type": "markdown",
   "metadata": {
    "ExecuteTime": {
     "end_time": "2020-06-09T05:42:55.697102Z",
     "start_time": "2020-06-09T05:42:55.693488Z"
    }
   },
   "source": [
    "## Create idealized file after x-flux"
   ]
  },
  {
   "cell_type": "code",
   "execution_count": 81,
   "metadata": {
    "ExecuteTime": {
     "end_time": "2020-06-09T06:35:39.067774Z",
     "start_time": "2020-06-09T06:35:39.064487Z"
    }
   },
   "outputs": [],
   "source": [
    "f3=h5py.File('input.h5','w')"
   ]
  },
  {
   "cell_type": "code",
   "execution_count": 82,
   "metadata": {
    "ExecuteTime": {
     "end_time": "2020-06-09T06:35:39.280885Z",
     "start_time": "2020-06-09T06:35:39.259989Z"
    }
   },
   "outputs": [
    {
     "name": "stdout",
     "output_type": "stream",
     "text": [
      "[0.00000000e+00 5.55111512e-17]\n",
      "[0.]\n",
      "[0.]\n",
      "25\n"
     ]
    }
   ],
   "source": [
    "nx = 20\n",
    "ny = 30\n",
    "nz = 40\n",
    "X,Y,Z = np.meshgrid(np.arange(ny),np.arange(nz),np.arange(nx))\n",
    "phi = np.zeros([nz,ny,nx])\n",
    "cy = np.zeros([nz,ny,nx])\n",
    "cz = np.zeros([nz,ny,nx])\n",
    "u = np.zeros([nz,ny,nx])+ 1.0\n",
    "v = np.zeros([nz,ny,nx]) + 1.0\n",
    "w = np.zeros([nz,ny,nx]) + 1.0\n",
    "phi[5:10,5:10,5:10] = 1.0\n",
    "phi[5:10,5:10,5] = 0.6\n",
    "phi[5:10,5:10,10] = 0.4\n",
    "cx[5:10,5:10,5:10] = 0.5\n",
    "cx[5:10,5:10,5] = 0.7\n",
    "cx[5:10,5:10,10] = 0.2\n",
    "cy[5:10,5:10,5:11] = 0.5\n",
    "cz[5:10,5:10,5:11] = 0.5\n",
    "print(np.unique(cx - cxs))\n",
    "print(np.unique(cy - cys))\n",
    "print(np.unique(cz - czs))\n",
    "\n",
    "# print(np.unique(czs))\n",
    "# mlab.contour3d(cz-czs,contours=8,opacity=.2 )\n",
    "# mlab.outline(extent=[0,nx,0,ny,0,nz])\n",
    "print(np.count_nonzero(cx-cxs))"
   ]
  },
  {
   "cell_type": "code",
   "execution_count": 83,
   "metadata": {
    "ExecuteTime": {
     "end_time": "2020-06-09T06:35:39.489964Z",
     "start_time": "2020-06-09T06:35:39.480696Z"
    }
   },
   "outputs": [
    {
     "ename": "NameError",
     "evalue": "name 'final' is not defined",
     "output_type": "error",
     "traceback": [
      "\u001b[0;31m---------------------------------------------------------------------------\u001b[0m",
      "\u001b[0;31mNameError\u001b[0m                                 Traceback (most recent call last)",
      "\u001b[0;32m<ipython-input-83-eebe369affc1>\u001b[0m in \u001b[0;36m<module>\u001b[0;34m\u001b[0m\n\u001b[0;32m----> 1\u001b[0;31m \u001b[0mmlab\u001b[0m\u001b[0;34m.\u001b[0m\u001b[0mcontour3d\u001b[0m\u001b[0;34m(\u001b[0m\u001b[0mfinal\u001b[0m\u001b[0;34m,\u001b[0m\u001b[0mcontours\u001b[0m\u001b[0;34m=\u001b[0m\u001b[0;36m8\u001b[0m\u001b[0;34m,\u001b[0m\u001b[0mopacity\u001b[0m\u001b[0;34m=\u001b[0m\u001b[0;36m.2\u001b[0m \u001b[0;34m)\u001b[0m\u001b[0;34m\u001b[0m\u001b[0;34m\u001b[0m\u001b[0m\n\u001b[0m",
      "\u001b[0;31mNameError\u001b[0m: name 'final' is not defined"
     ]
    }
   ],
   "source": [
    "mlab.contour3d(final,contours=8,opacity=.2 )"
   ]
  },
  {
   "cell_type": "code",
   "execution_count": 84,
   "metadata": {
    "ExecuteTime": {
     "end_time": "2020-06-09T06:35:50.389610Z",
     "start_time": "2020-06-09T06:35:50.375236Z"
    }
   },
   "outputs": [
    {
     "data": {
      "text/plain": [
       "<HDF5 dataset \"init\": shape (40, 30, 20), type \"<f8\">"
      ]
     },
     "execution_count": 84,
     "metadata": {},
     "output_type": "execute_result"
    }
   ],
   "source": [
    "f3.create_group('phi')\n",
    "grp = f3['phi']\n",
    "grp.create_dataset(\"init\", data=phi)\n",
    "f3.create_group('u')\n",
    "grp = f3['u']\n",
    "grp.create_dataset(\"init\", data=u)\n",
    "f3.create_group('v')\n",
    "grp = f3['v']\n",
    "grp.create_dataset(\"init\", data=v)\n",
    "f3.create_group('w')\n",
    "grp = f3['w']\n",
    "f3.create_group('cx')\n",
    "grp.create_dataset(\"init\", data=w)\n",
    "grp = f3['cx']\n",
    "f3.create_group('cy')\n",
    "grp.create_dataset(\"init\", data=cx)\n",
    "grp = f3['cy']\n",
    "f3.create_group('cz')\n",
    "grp.create_dataset(\"init\", data=cy)\n",
    "grp = f3['cz']\n",
    "grp.create_dataset(\"init\", data=cz)\n"
   ]
  },
  {
   "cell_type": "code",
   "execution_count": 85,
   "metadata": {
    "ExecuteTime": {
     "end_time": "2020-06-09T06:35:50.980106Z",
     "start_time": "2020-06-09T06:35:50.976425Z"
    }
   },
   "outputs": [],
   "source": [
    "f3.close()"
   ]
  },
  {
   "cell_type": "markdown",
   "metadata": {},
   "source": [
    "## quick visualization\n",
    "When the following script works, \n",
    "it will no longer rely on jupyter, but will be \"embeded\" with Fortran"
   ]
  },
  {
   "cell_type": "code",
   "execution_count": 10,
   "metadata": {
    "ExecuteTime": {
     "end_time": "2020-06-05T00:01:50.863229Z",
     "start_time": "2020-06-05T00:01:50.614919Z"
    }
   },
   "outputs": [],
   "source": [
    "mlab.clf()"
   ]
  },
  {
   "cell_type": "code",
   "execution_count": null,
   "metadata": {
    "ExecuteTime": {
     "end_time": "2020-06-05T00:01:51.365387Z",
     "start_time": "2020-06-05T00:01:51.197639Z"
    }
   },
   "outputs": [],
   "source": [
    "import numpy as np\n",
    "import h5py\n",
    "from mayavi import mlab\n",
    "f = h5py.File('visual.h5')\n",
    "for key in f['visual']:\n",
    "    vis = np.array(f['visual'][key])\n",
    "    mlab.contour3d(vis,contours=8,opacity=.2 )\n",
    "nx, ny, nz = vis.shape\n",
    "f.close()\n",
    "mlab.outline(extent=[0,nx,0,ny,0,nz])\n",
    "# mlab.show()"
   ]
  },
  {
   "cell_type": "code",
   "execution_count": 12,
   "metadata": {
    "ExecuteTime": {
     "end_time": "2020-06-05T00:01:57.646240Z",
     "start_time": "2020-06-05T00:01:57.640676Z"
    }
   },
   "outputs": [],
   "source": [
    "import numpy as np\n",
    "import h5py\n",
    "from mayavi import mlab\n",
    "f = h5py.File('visual.h5')\n"
   ]
  },
  {
   "cell_type": "code",
   "execution_count": 13,
   "metadata": {
    "ExecuteTime": {
     "end_time": "2020-06-05T00:01:57.847781Z",
     "start_time": "2020-06-05T00:01:57.838725Z"
    }
   },
   "outputs": [
    {
     "data": {
      "text/plain": [
       "<KeysViewHDF5 ['visual']>"
      ]
     },
     "execution_count": 13,
     "metadata": {},
     "output_type": "execute_result"
    }
   ],
   "source": [
    "f.keys()"
   ]
  },
  {
   "cell_type": "code",
   "execution_count": 14,
   "metadata": {
    "ExecuteTime": {
     "end_time": "2020-06-05T00:01:58.064052Z",
     "start_time": "2020-06-05T00:01:58.054918Z"
    }
   },
   "outputs": [
    {
     "data": {
      "text/plain": [
       "<KeysViewHDF5 ['vis01', 'vis02']>"
      ]
     },
     "execution_count": 14,
     "metadata": {},
     "output_type": "execute_result"
    }
   ],
   "source": [
    "f['visual'].keys()"
   ]
  },
  {
   "cell_type": "code",
   "execution_count": 15,
   "metadata": {
    "ExecuteTime": {
     "end_time": "2020-06-05T00:01:58.618935Z",
     "start_time": "2020-06-05T00:01:58.612358Z"
    }
   },
   "outputs": [],
   "source": [
    "data = np.array(f['visual']['vis01'])"
   ]
  },
  {
   "cell_type": "code",
   "execution_count": null,
   "metadata": {
    "ExecuteTime": {
     "end_time": "2020-06-04T07:01:50.681389Z",
     "start_time": "2020-06-04T07:01:50.666010Z"
    }
   },
   "outputs": [],
   "source": []
  },
  {
   "cell_type": "code",
   "execution_count": null,
   "metadata": {},
   "outputs": [],
   "source": []
  }
 ],
 "metadata": {
  "hide_input": false,
  "kernelspec": {
   "display_name": "Python 3",
   "language": "python",
   "name": "python3"
  },
  "language_info": {
   "codemirror_mode": {
    "name": "ipython",
    "version": 3
   },
   "file_extension": ".py",
   "mimetype": "text/x-python",
   "name": "python",
   "nbconvert_exporter": "python",
   "pygments_lexer": "ipython3",
   "version": "3.7.3"
  },
  "nbTranslate": {
   "displayLangs": [
    "*"
   ],
   "hotkey": "alt-t",
   "langInMainMenu": true,
   "sourceLang": "en",
   "targetLang": "fr",
   "useGoogleTranslate": true
  },
  "toc": {
   "base_numbering": 1,
   "nav_menu": {},
   "number_sections": true,
   "sideBar": true,
   "skip_h1_title": false,
   "title_cell": "Table of Contents",
   "title_sidebar": "Contents",
   "toc_cell": false,
   "toc_position": {},
   "toc_section_display": true,
   "toc_window_display": false
  }
 },
 "nbformat": 4,
 "nbformat_minor": 4
}
