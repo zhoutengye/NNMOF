{
 "cells": [
  {
   "cell_type": "markdown",
   "metadata": {},
   "source": [
    "# Flooding algorithm\n",
    "For Equations\n",
    "\\begin{equation}\n",
    "  \\label{eq:cut-1}\n",
    "  m_{1}x+m_{2}y+m_{3}z = \\alpha\n",
    "\\end{equation}\n",
    "Supposed it ranks as $m_{1}<m_{2}<m_{3}$.\n",
    "\n",
    "Three intercepts on the coordcates are\n",
    "\\begin{equation}\n",
    "  m_{1}x+m_{2}y+m_{3}z = \\alpha\n",
    "\\end{equation}\n",
    "\n",
    "\\begin{equation}\n",
    "  \\begin{aligned}\n",
    "  \\label{eq:cut-1}\n",
    "  h_{1} = \\frac{\\alpha}{m_{1}} \\\\\n",
    "  h_{2} = \\frac{\\alpha}{m_{2}} \\\\\n",
    "  h_{3} = \\frac{\\alpha}{m_{3}}\n",
    "  \\end{aligned}\n",
    "\\end{equation}\n",
    "\n",
    "where $h_{1} < h_{2} < h_{3}$.\n",
    "\n",
    "\\subsection{Cut 1}\n",
    "\n",
    "\\begin{equation}\n",
    "\\begin{aligned}\n",
    "\\label{eq:cut1}\n",
    "V &= \\frac{1}{6}h_{1}h_{2}h_{3} \\\\\n",
    "& = \\frac{\\alpha}{6m_{1}m_{2}m_{3}}\n",
    "\\end{aligned}\n",
    "\\end{equation}\n",
    "\n",
    "\\begin{equation}\n",
    "\\begin{aligned}\n",
    "\\label{eq:cut1}\n",
    "  c_{x1} = \\frac{1}{4}m_{1} \\\\\n",
    "  c_{x2} = \\frac{1}{4}m_{2} \\\\\n",
    "  c_{x3} = \\frac{1}{4}m_{3}\n",
    "\\end{aligned}\n",
    "\\end{equation}\n",
    "\n"
   ]
  },
  {
   "cell_type": "code",
   "execution_count": 2,
   "metadata": {},
   "outputs": [],
   "source": [
    "Needs[\"Notation`\"];\n",
    "Symbolize[ParsedBoxWrapper[SubscriptBox[\"_\", \"_\"]]]"
   ]
  },
  {
   "cell_type": "code",
   "execution_count": 13,
   "metadata": {},
   "outputs": [
    {
     "data": {
      "text/html": [
       "<style>\n",
       "\t\t\t\t\t\t\t\t\t\t\t\t\t.grid-container {\n",
       "\t\t\t\t\t\t\t\t\t\t\t\t\t\tdisplay: inline-grid;\n",
       "\t\t\t\t\t\t\t\t\t\t\t\t\t\tgrid-template-columns: auto;\n",
       "\t\t\t\t\t\t\t\t\t\t\t\t\t}\n",
       "\t\t\t\t\t\t\t\t\t\t\t\t</style>\n",
       "\n",
       "\t\t\t\t\t\t\t\t\t\t\t\t<div><div class=\"grid-container\"><div class=\"grid-item\"><img alt=\"Output\" src=\"data:image/png;base64,iVBORw0KGgoAAAANSUhEUgAAAJQAAAAkCAIAAADglIT2AAAAhXpUWHRSYXcgcHJvZmlsZSB0eXBlIGV4aWYAAHjaVYvBDcMwDAP/mqIjyLJM2uMYiQNkg45fuu0n9yApgbT1vi97felp2dgxABc5csRU6P6juNciDXn+X9MfZGWgoRhTluEkhnJXkqKFN+LCAahYcIbnIV8gNQN3o86928QyPusLVffpbh/5eCey76LuBgAAAAlwSFlzAAALEwAACxMBAJqcGAAAADx0RVh0U29mdHdhcmUAQ3JlYXRlZCB3aXRoIHRoZSBXb2xmcmFtIExhbmd1YWdlIDogd3d3LndvbGZyYW0uY29tXKKmhQAAACF0RVh0Q3JlYXRpb24gVGltZQAyMDIwOjA2OjEwIDIwOjE4OjMx4q9P7wAABAJJREFUaIHtmk1I8mAAx7dlah1ks6IC6aJUSqBEHfQeBYPokNVUguqQHepgH6foFHTsUgQRQeqhxAVGiUGRBHVYHxRSHYIiyA4FBZprduh5D0JF0ZzTXt/t3e809fnPn89fH3Q+MAAAkhAmCJdBXq8Xx/GioqKVlRUez5FlnIWXl5eRkRG9Xq9Wq3Ecv7q6+ptxduLx+OjoqF6vV6lUFotld3c353FO5SmVytbW1tLS0oyePldxFqanpwsLC8PhcDQaNRgMBEH8zTg7+/v7CIJsb2/f3t52dnbiOE7TdI7jAAAAwMnJSUNDg9PpLC8v9/v9XV1dGIatr6+DT5hMpuXlZfADLperpaUldRwOhzUazePjI/c4C1zcAAD39/cwDDMMw8ONPZ69G03TMAxfXl7yc/sp/lEeDMMLCwtzc3MKhSIUCo2NjVmt1s9D2Wc/mUyaTKbZ2dlEIqHVajc3N78MSFsewzChUOj7/VzcAABbW1tarZafG3s8GzeapiORiM1mczgcPNzY4x/lKRQKAABFUanX4PP56urqPg9NO/vn5+dlZWU2m21wcPD7o2nj8Xh8amrq+/1c3FJT4PF4+LmljfN2q62tRRAEx/FYLMbDjT0ue18/YRiGIAhBkPeDTFd5vV5vsVh8Pl80Gs00yw67WzKZJAjCbDY7HA4eblzivN0uLi4YhiFJ0mAw7Ozs6HS6jNzY4zIod6ytrV1fX/f09LhcLq/Xyz0YDAYpinp9faUoimEYCIImJiY4vnsSiURbW1tNTc3MzAwPt7TxbNxSKJVKu93udrsDgcDw8DB3t/Tx94+/UqkEABweHup0OgCA3+/PaNm8u7urrKw8Pj6madpgMCwuLn4ZkM2y+ZPb09OT2WweGhpiOS2LG8c4Pzen0zk/P//w8PD8/Ly6uqpSqfb29ri7cYmnL8/tdqMoiqJoQUFBcXExiqJ2u/3LWd7e3pqamiYnJ1M3I5FISUnJ2dkZxzjvCero6IAgCMMwuVwuk8lkMpnL5eLuxiXO2+3m5qa7u7u6ulqlUtXX15Mk+T3O4sYlDgPpCotgyfhbicS/g1SegJHKEzBSeQJGKk/ASOUJmI8rLOPj43n0kOCI1Wo1Go2pY+l3noCRlk0BI5UnYKTyBIxUnoCRyhMw4i/v9zYe5h3xl/d7Gw/zjhjKOz09bWxsHBgYqKioIEmSIAi1Wr2xsZF6tL29vb+/X5Tl5XIPSx45OjpyOp1Go9FutwcCgaqqqqWlJRzH8+31u4ikPLlc3tfXd3BwoNFompubY7FYMBjMt9SvI4ZlE8rFvkUh8l+8SLEilSdgRF6ex+PBMAzDsEgk0tvbi2EYv23R/ybSX0ICRuSfPHEjlSdg/gAmAtCXTLQwtgAAAABJRU5ErkJggg==\"></div><div class=\"grid-item\"><img alt=\"Output\" src=\"data:image/png;base64,iVBORw0KGgoAAAANSUhEUgAAAJQAAAAkCAIAAADglIT2AAAAhXpUWHRSYXcgcHJvZmlsZSB0eXBlIGV4aWYAAHjaVYvBDcMwDAP/mqIjyLJM2uMYiQNkg45fuu0n9yApgbT1vi97felp2dgxABc5csRU6P6juNciDXn+X9MfZGWgoRhTluEkhnJXkqKFN+LCAahYcIbnIV8gNQN3o86928QyPusLVffpbh/5eCey76LuBgAAAAlwSFlzAAALEwAACxMBAJqcGAAAADx0RVh0U29mdHdhcmUAQ3JlYXRlZCB3aXRoIHRoZSBXb2xmcmFtIExhbmd1YWdlIDogd3d3LndvbGZyYW0uY29tXKKmhQAAACF0RVh0Q3JlYXRpb24gVGltZQAyMDIwOjA2OjEwIDIwOjE4OjMx4q9P7wAABABJREFUaIHtmk1I+mAcx7flmnWQ2QtRRIeUyhEo0UXvQrCILpZvBJ3apQ72copOQccuvUBEkHoo0cCIMCiSoAKpiKQ6BEWQHQoqMtfs0PM/CBW9zDlX/h/Z5/Q4f9/t6/PdHnX7oQAARAZOMCFFXq+XpumioqLFxUURx8hSzsPz8/PAwIBOpyspKaFp+vz8/C/l/MTj8cHBQZ1Op1KpTCbT1taW5HJB4SmVyra2trKysowOL5Wch/HxcRzHw+FwLBajKMpms/2lnJ+dnR0MwzY2Nq6urjo7O2maZllWYjkAAABweHjY3NzMMExFRYXf77darWq1emVlBXzAYDAsLCyAH3C5XC0tLalxOByurq6+u7sTLudBiDcAwM3NDYqiHMeJ8MYvz94by7Ioip6dnYnz9pP8PTwURWdnZ6enpwmCCIVCQ0NDFovlYyn/7CeTSYPBMDk5mUgkNBrN2trap4K04XEcFwqFvm4X4g0AsL6+rtFoxHnjl2fjjWXZaDRqt9udTqcIb/zy9/AIggAARCKR1Gfw+XyNjY0fS9PO/snJSXl5ud1u7+3t/fpuWnk8Hh8bG/u6XYi31BR4PB5x3tLKRXtraGjAMIym6cfHRxHe+OWKt/UTRVEEQTAMextkusrrdDqTyeTz+WKxWKZafvi9JZNJm81mNBqdTqcIb0Lkor2dnp5yHBcIBCiK2tzc1Gq1GXnjlysQ6VheXr64uOju7na5XF6vV7hwdXU1Eom8vLxEIhGO4xAEGRkZEXj2JBKJ9vb2+vr6iYkJEd7SyrPxlkKpVDocDrfbHQwG+/v7hXtLL3+7/JVKJQBgb29Pq9UCAPx+f0bL5vX1dWVl5cHBAcuyFEXNzc19Kshm2fzJ2/39vdFo7Ovr49ktjzeBcnHeGIaZmZm5vb19enpaWlpSqVTb29vCvQmRpw/P7XaTJEmSZEFBQXFxMUmSDofj015eX1/NZvPo6GjqZTQaLS0tPT4+FigXPUEdHR0IgqjV6sLCQoVCoVAoXC6XcG9C5KK9XV5ednV11dXVqVSqpqamQCDwVc7jTYgcBfIdFmjJ+FeJzP+DHB7EyOFBjBwexMjhQYwcHsS832EZHh7OoQ8ZgVgsFr1enxrL//MgRl42IUYOD2Lk8CBGDg9i5PAgJs/D+9XmvpyT5+H9anNf7vn22SNcZN8bCClS9rDkkP39fYZh9Hq9w+EIBoM1NTXz8/M0TX+sOTo6qq2tJQgiVyalJ9dnjwRI0hsII3nynZe2N9BqtYpu7vtvyZPweEgkEq2trVVVVVNTU7n2IjF5Ht7Dw4PZbKYoir+rE1LyPLyenp7d3V2Px0MQBI7jOI5/2/YKKfIjIYjJ8ysvv5HDg5h/VJ8uwxZl+kMAAAAASUVORK5CYII=\"></div><div class=\"grid-item\"><img alt=\"Output\" src=\"data:image/png;base64,iVBORw0KGgoAAAANSUhEUgAAAJQAAAAkCAIAAADglIT2AAAAhXpUWHRSYXcgcHJvZmlsZSB0eXBlIGV4aWYAAHjaVYvBDcMwDAP/mqIjyLJM2uMYiQNkg45fuu0n9yApgbT1vi97felp2dgxABc5csRU6P6juNciDXn+X9MfZGWgoRhTluEkhnJXkqKFN+LCAahYcIbnIV8gNQN3o86928QyPusLVffpbh/5eCey76LuBgAAAAlwSFlzAAALEwAACxMBAJqcGAAAADx0RVh0U29mdHdhcmUAQ3JlYXRlZCB3aXRoIHRoZSBXb2xmcmFtIExhbmd1YWdlIDogd3d3LndvbGZyYW0uY29tXKKmhQAAACF0RVh0Q3JlYXRpb24gVGltZQAyMDIwOjA2OjEwIDIwOjE4OjMx4q9P7wAABB1JREFUaIHtmk1I+m4Ax7dlaR1EeyGKbkq1EWTRRTsHwSC6WPlC0M0ORdgLBNFJ8NilCDIK1EOJFkaEQS8SFSERhVSHXiTIDhUF2eYs6PkfhIr6N+fc72fbb5/T1Oe7fdxXH50+MAAAEuEnCJNBbrcbx/H8/Pz5+XkWx8gwTkM8Hh8YGEBRtLCwEMfxy8vLvxmnJxaLDQ4Ooigql8t1Ot3W1hbncUblyWSylpaW4uLitA7PVZyGsbGx3NzcYDAYjUYxDDMYDH8zTs/u7i6CIOvr69fX1+3t7TiOkyTJcRwAAAA4PDxsaGiwWCylpaVer7ejo0OpVC4vL4NPaDSaubk58ANWq7W5uTm5HQwGKyoqHh4emMdpYOIGALi9vYVhmKIoFm708czdSJKEYfjs7Iyd20/xj/JgGJ6enp6cnJRKpYFAYGhoSK/Xfx5Kf/YTiYRGo5mYmCAIQqVSra6ufhmQsjyKogKBwPf7mbgBANbW1lQqFTs3+ngmbiRJhsNho9FoNptZuNHHP8qTSqUAgFAolHwOHo+npqbm89CUZ//k5KSkpMRoNPb09Hx/NGU8FovZ7fbv9zNxS54Cl8vFzi1lnLVbdXU1giA4jj89PbFwo49L3udPGIYhCEIQ5H0j3VkeRVGdTufxeKLRaLpZeujdEomEwWDQarVms5mFG5M4a7fT01OKonw+H4Zhm5ubarU6LTf6uATijqWlpUgk0tXVZbVa3W438+DKykooFHp5eQmFQhRFQRA0OjrK8NVDEERra2tVVdX4+DgLt5TxTNySyGQyk8nkdDr9fn9/fz9zt9Tx97e/TCYDAOzv76vVagCA1+tNa9q8ubkpKys7ODggSRLDsJmZmS8DMpk2f3J7fHzUarW9vb00u6VxYxhn52axWKampu7u7p6fnxcWFuRy+c7ODnM3JvHU5TmdToVCoVAocnJyCgoKFAqFyWT6spe3t7empiabzZa8GQ6Hi4qKjo+PGcZZn6C2tjYIgpRKZV5enkQikUgkVquVuRuTOGu3q6urzs7OyspKuVxeX1/v8/m+x2ncmMRhIP7CwlvS/lYi8nsQy+MxYnk8RiyPx4jl8RixPB7z8QvLyMhIFj1EGKLX62tra5Pb4nUejxGnTR4jlsdjxPJ4jFgejxHL4zECLy/D9Xe/HIGXl+H6u9/O//73yC8yX3/HU4RwkX50dFRXV+dwOF5fX/v6+vx+/8bGRiQS8Xg8yQHxePzi4sJutyMI4nK5smvLJdl+9XAAJ+vv+IhAPvNSrr8jCMJgMGAYdn5+nh3FP4BAyktJcgEdhmF+vz/bLpwh8PK6u7sdDsf9/T1BEIuLi3t7e1qtNttSnCHw8oaHh7e3txsbG8vLy2022+zsrE6ny7YUZwjh2+Y/i8DfecJGLI/H/AfmZ0mcaxLJwQAAAABJRU5ErkJggg==\"></div></div></div>"
      ],
      "text/plain": [
       "m1 x1 + m2 x2 + m3 x3\n",
       "---------------------\n",
       "         m1\n",
       "m1 x1 + m2 x2 + m3 x3\n",
       "---------------------\n",
       "         m2\n",
       "m1 x1 + m2 x2 + m3 x3\n",
       "---------------------\n",
       "         m3"
      ]
     },
     "execution_count": 13,
     "metadata": {
      "text/html": [],
      "text/plain": []
     },
     "output_type": "execute_result"
    }
   ],
   "source": [
    "h1 = al / m1\n",
    "h2 = al / m2\n",
    "h3 = al / m3"
   ]
  },
  {
   "cell_type": "code",
   "execution_count": 8,
   "metadata": {},
   "outputs": [
    {
     "data": {
      "text/html": [
       "<div><img alt=\"Output\" src=\"data:image/png;base64,iVBORw0KGgoAAAANSUhEUgAAAI4AAAASCAIAAAACO3FnAAAAhXpUWHRSYXcgcHJvZmlsZSB0eXBlIGV4aWYAAHjaVYvBDcMwDAP/mqIjyLJM2uMYiQNkg45fuu0n9yApgbT1vi97felp2dgxABc5csRU6P6juNciDXn+X9MfZGWgoRhTluEkhnJXkqKFN+LCAahYcIbnIV8gNQN3o86928QyPusLVffpbh/5eCey76LuBgAAAAlwSFlzAAALEwAACxMBAJqcGAAAADx0RVh0U29mdHdhcmUAQ3JlYXRlZCB3aXRoIHRoZSBXb2xmcmFtIExhbmd1YWdlIDogd3d3LndvbGZyYW0uY29tXKKmhQAAACF0RVh0Q3JlYXRpb24gVGltZQAyMDIwOjA2OjEwIDIwOjE2OjI0awH9EgAAA3JJREFUWIXtmE9I8mAcgLdluf4wphUSdFPSjQ4jOqT3IBhEF6upBB0CL3VYf46dgo4dKoKICJMwUaGIMiqSIIkxYiDVISiC7FBQkLlmh97vIHyE+5pzRh/CntOc7zMf35+8B2EAAKRTCSD/O0BHLfqoKgZ9VBWDPqqKociogsEgTdO1tbWbm5sanl6mrsD7+/vExARBEGazmabpm5ub39SVyWQyk5OTBEFgGOZyuU5OTn5ELzIqFEV7e3ubmpq0RZepKzA3N1ddXZ1IJNLpNEmSDMP8pq5MMplEEOTo6Oj+/n5gYICmaVEUf0Dneb6rq2tkZMRiscRiMbfbbTab9/b2wBcoigqFQuAbWJbt6enJXycSidbW1ufnZ/W6AoIgdHZ2+v1+i8USiUQGBwdNJtPOzk7BssfHRxiGJUnS0Kasl98miiIMw9fX19ravuoQz/MwDK+trc3Pz6MoenBwwLIswzBfBeW9zuVyFEUtLi5ms1mr1bq/v1+woOioJEmKx+Py+4IgwDC8srKytLRkNBrj8fjU1JTb7S5Ydnh4aLVatbUp6+W0iaKYSqU8Ho/P59PQJtchnufr6+sBAMlk0m63AwA2NjYoivqqFd3ry8vL5uZmj8czOjoqf7eonslkZmdn5fcFQTAajQAAjuPyuxkOh9vb2+VfeH19XVtbUV1zm8PhQBCEpunX11cNbXLdAEEQDMMQBCEI8vei1NOZIAiXyxUOh9PpdKmuMsptuVyOYRin0+nz+TS0qdE1t11dXUmSFI1GSZI8Pj622Wwltcl1g4ZEOdvb27e3t8PDwyzLBoNB9eLu7i7HcR8fHxzHSZIEQdD09LTK30o2m+3r67Pb7QsLCxraiurltOVBUdTr9QYCga2trfHxcfVt/9Z5nm9oaAAAnJ2dORwOAEAoFCrpAHx4eGhpaTk/PxdFkSTJ1dXVggXlHIAoigIAeJ632WwAgEgkkj9kXl5enE7n2NiYwmMV2lTq2tr8fv/y8vLT09Pb21ssFsMw7PT0VH3bd7rSqAKBAI7jOI5XVVXV1dXhOO71egs+7/Pzs7u7e2ZmJv8ylUo1NjZeXFyo1DVvR39/PwRBJpOppqbGYDAYDAaWZdW3qdE1t93d3Q0NDbW1tWEY1tHREY1G5bpC23c6DPR/1isE/Y+likEfVcWgj6pi+ANN5z/TWqfxdAAAAABJRU5ErkJggg==\"></div>"
      ],
      "text/plain": [
       "m1 x1 + m2 x2 + m3 x3"
      ]
     },
     "execution_count": 8,
     "metadata": {
      "text/html": [],
      "text/plain": []
     },
     "output_type": "execute_result"
    }
   ],
   "source": []
  },
  {
   "cell_type": "code",
   "execution_count": null,
   "metadata": {},
   "outputs": [],
   "source": []
  }
 ],
 "metadata": {
  "kernelspec": {
   "display_name": "Wolfram Language 12",
   "language": "Wolfram Language",
   "name": "wolframlanguage12"
  },
  "language_info": {
   "codemirror_mode": "mathematica",
   "file_extension": ".m",
   "mimetype": "application/vnd.wolfram.m",
   "name": "Wolfram Language",
   "pygments_lexer": "mathematica",
   "version": "12.0"
  },
  "nbTranslate": {
   "displayLangs": [
    "*"
   ],
   "hotkey": "alt-t",
   "langInMainMenu": true,
   "sourceLang": "en",
   "targetLang": "fr",
   "useGoogleTranslate": true
  },
  "toc": {
   "base_numbering": 1,
   "nav_menu": {},
   "number_sections": true,
   "sideBar": true,
   "skip_h1_title": false,
   "title_cell": "Table of Contents",
   "title_sidebar": "Contents",
   "toc_cell": false,
   "toc_position": {},
   "toc_section_display": true,
   "toc_window_display": false
  }
 },
 "nbformat": 4,
 "nbformat_minor": 4
}
