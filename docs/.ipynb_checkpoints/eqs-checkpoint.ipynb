{
 "cells": [
  {
   "cell_type": "code",
   "execution_count": 183,
   "metadata": {
    "ExecuteTime": {
     "end_time": "2020-06-20T14:00:36.434070Z",
     "start_time": "2020-06-20T14:00:36.428683Z"
    }
   },
   "outputs": [],
   "source": [
    "from sympy import *\n",
    "from sympy.parsing.sympy_parser import parse_expr"
   ]
  },
  {
   "cell_type": "code",
   "execution_count": 257,
   "metadata": {
    "ExecuteTime": {
     "end_time": "2020-06-20T14:23:20.030706Z",
     "start_time": "2020-06-20T14:23:20.027322Z"
    }
   },
   "outputs": [],
   "source": [
    "m1 = symbols('m_1')\n",
    "m2 = symbols('m_2')\n",
    "m3 = symbols('m_3')\n",
    "al = symbols('a')\n",
    "h1 = al / m1\n",
    "h2 = al / m2\n",
    "h3 = al / m3"
   ]
  },
  {
   "cell_type": "code",
   "execution_count": 258,
   "metadata": {
    "ExecuteTime": {
     "end_time": "2020-06-20T14:23:20.356808Z",
     "start_time": "2020-06-20T14:23:20.347144Z"
    }
   },
   "outputs": [],
   "source": [
    "ratio1 = (h1-1)/h1\n",
    "ratio13 = ratio1**3\n",
    "ratio2 = (h2-1)/h2\n",
    "ratio23 = ratio2**3\n",
    "ratio3 = (h3-1)/h3\n",
    "ratio33 = ratio3**3"
   ]
  },
  {
   "cell_type": "code",
   "execution_count": 259,
   "metadata": {
    "ExecuteTime": {
     "end_time": "2020-06-20T14:23:20.757538Z",
     "start_time": "2020-06-20T14:23:20.747519Z"
    }
   },
   "outputs": [],
   "source": [
    "VA = h1*h2*h3/6\n",
    "V1 = VA * ratio13\n",
    "V2 = VA * ratio23\n",
    "V3 = VA * ratio33\n",
    "V12 = VA * ratio13 * ratio23\n",
    "V13 = VA * ratio13 * ratio33\n",
    "V23 = VA * ratio23 * ratio33"
   ]
  },
  {
   "cell_type": "code",
   "execution_count": 260,
   "metadata": {
    "ExecuteTime": {
     "end_time": "2020-06-20T14:23:21.122936Z",
     "start_time": "2020-06-20T14:23:21.118145Z"
    }
   },
   "outputs": [],
   "source": [
    "cxa = h1/4\n",
    "cx1 = cxa * ratio1 + 1\n",
    "cx2 = cxa * ratio2\n",
    "cx3 = cxa * ratio3\n",
    "cx12 = cxa * ratio1 * ratio2 + 1\n",
    "cx13 = cxa * ratio1 * ratio3\n",
    "cx23 = cxa * ratio2 * ratio3"
   ]
  },
  {
   "cell_type": "code",
   "execution_count": 261,
   "metadata": {
    "ExecuteTime": {
     "end_time": "2020-06-20T14:23:21.588472Z",
     "start_time": "2020-06-20T14:23:21.578931Z"
    }
   },
   "outputs": [],
   "source": [
    "cya = h2/4\n",
    "cy1 = cya * ratio1\n",
    "cy2 = cya * ratio2 + 1\n",
    "cy3 = cya * ratio3\n",
    "cy12 = cya * ratio1 * ratio2\n",
    "cy13 = cya * ratio1 * ratio3 + 1\n",
    "cy23 = cya * ratio2 * ratio3"
   ]
  },
  {
   "cell_type": "code",
   "execution_count": 262,
   "metadata": {
    "ExecuteTime": {
     "end_time": "2020-06-20T14:23:22.005811Z",
     "start_time": "2020-06-20T14:23:21.996546Z"
    }
   },
   "outputs": [],
   "source": [
    "cza = h3/4\n",
    "cz1 = cza * ratio1\n",
    "cz2 = cza * ratio2\n",
    "cz3 = cza * ratio3 + 1\n",
    "cz12 = cza * ratio1 * ratio2\n",
    "cz13 = cza * ratio1 * ratio3\n",
    "cz23 = cza * ratio2 * ratio3 + 1"
   ]
  },
  {
   "cell_type": "markdown",
   "metadata": {},
   "source": [
    "# Forward algorithm"
   ]
  },
  {
   "cell_type": "markdown",
   "metadata": {
    "ExecuteTime": {
     "end_time": "2020-06-20T12:41:40.433099Z",
     "start_time": "2020-06-20T12:41:40.430439Z"
    }
   },
   "source": [
    "## cut 1\n",
    "volume:\n",
    "\n",
    "$$ V = \\frac{a^3}{6 m_{1} m_{2} m_{3}} $$\n",
    "\n",
    "centroid:\n",
    "$$c_x = \\frac{a}{4 m_{1}} $$\n",
    "$$c_y = \\frac{a}{4 m_{2}} $$\n",
    "$$c_z = \\frac{a}{4 m_{3}} $$"
   ]
  },
  {
   "cell_type": "code",
   "execution_count": 263,
   "metadata": {
    "ExecuteTime": {
     "end_time": "2020-06-20T14:23:23.243456Z",
     "start_time": "2020-06-20T14:23:23.224909Z"
    }
   },
   "outputs": [
    {
     "name": "stdout",
     "output_type": "stream",
     "text": [
      "\\frac{a^{3}}{6 m_{1} m_{2} m_{3}}\n"
     ]
    },
    {
     "data": {
      "text/latex": [
       "$\\displaystyle \\frac{a^{3}}{6 m_{1} m_{2} m_{3}}$"
      ],
      "text/plain": [
       "a**3/(6*m_1*m_2*m_3)"
      ]
     },
     "execution_count": 263,
     "metadata": {},
     "output_type": "execute_result"
    }
   ],
   "source": [
    "V = simplify(VA)\n",
    "print(latex(V))\n",
    "V"
   ]
  },
  {
   "cell_type": "code",
   "execution_count": 264,
   "metadata": {
    "ExecuteTime": {
     "end_time": "2020-06-20T14:23:23.658105Z",
     "start_time": "2020-06-20T14:23:23.634954Z"
    }
   },
   "outputs": [
    {
     "name": "stdout",
     "output_type": "stream",
     "text": [
      "\\frac{a}{4 m_{1}}\n",
      "\\frac{a}{4 m_{2}}\n",
      "\\frac{a}{4 m_{3}}\n"
     ]
    }
   ],
   "source": [
    "cx = simplify(cxa)\n",
    "cy = simplify(cya)\n",
    "cz = simplify(cza)\n",
    "print(latex(cx))\n",
    "print(latex(cy))\n",
    "print(latex(cz))"
   ]
  },
  {
   "cell_type": "markdown",
   "metadata": {
    "ExecuteTime": {
     "end_time": "2020-06-20T12:40:38.128074Z",
     "start_time": "2020-06-20T12:40:38.123156Z"
    }
   },
   "source": [
    "## cut 2\n",
    "volume:\n",
    "\n",
    "$$ V = \\frac{a^{2}}{2 m_{2} m_{3}} - \\frac{a m_{1}}{2 m_{2} m_{3}} + \\frac{m_{1}^{2}}{6 m_{2} m_{3}} $$\n",
    "\n",
    "centroid:\n",
    "$$ c_x = \\frac{6 a^{2} - 8 a m_{1} + 3 m_{1}^{2}}{4 \\left(3 a^{2} - 3 a m_{1} + m_{1}^{2}\\right)} $$\n",
    "$$ c_y = \\frac{a^{4} - \\left(a - m_{1}\\right)^{4}}{4 m_{1} m_{2} \\left(3 a^{2} - 3 a m_{1} + m_{1}^{2}\\right)}$$\n",
    "$$ c_z = \\frac{a^{4} - \\left(a - m_{1}\\right)^{4}}{4 m_{1} m_{3} \\left(3 a^{2} - 3 a m_{1} + m_{1}^{2}\\right)}$$"
   ]
  },
  {
   "cell_type": "code",
   "execution_count": 265,
   "metadata": {
    "ExecuteTime": {
     "end_time": "2020-06-20T14:23:25.027326Z",
     "start_time": "2020-06-20T14:23:25.019325Z"
    }
   },
   "outputs": [
    {
     "name": "stdout",
     "output_type": "stream",
     "text": [
      "\\frac{a^{2}}{2 m_{2} m_{3}} - \\frac{a m_{1}}{2 m_{2} m_{3}} + \\frac{m_{1}^{2}}{6 m_{2} m_{3}}\n"
     ]
    },
    {
     "data": {
      "text/latex": [
       "$\\displaystyle \\frac{a^{2}}{2 m_{2} m_{3}} - \\frac{a m_{1}}{2 m_{2} m_{3}} + \\frac{m_{1}^{2}}{6 m_{2} m_{3}}$"
      ],
      "text/plain": [
       "a**2/(2*m_2*m_3) - a*m_1/(2*m_2*m_3) + m_1**2/(6*m_2*m_3)"
      ]
     },
     "execution_count": 265,
     "metadata": {},
     "output_type": "execute_result"
    }
   ],
   "source": [
    "V = expand(VA-V1)\n",
    "print(latex(V))\n",
    "V"
   ]
  },
  {
   "cell_type": "code",
   "execution_count": 266,
   "metadata": {
    "ExecuteTime": {
     "end_time": "2020-06-20T14:23:26.406921Z",
     "start_time": "2020-06-20T14:23:26.214389Z"
    },
    "scrolled": true
   },
   "outputs": [
    {
     "name": "stdout",
     "output_type": "stream",
     "text": [
      "\\frac{6 a^{2} - 8 a m_{1} + 3 m_{1}^{2}}{4 \\left(3 a^{2} - 3 a m_{1} + m_{1}^{2}\\right)}\n",
      "\\frac{a^{4} - \\left(a - m_{1}\\right)^{4}}{4 m_{1} m_{2} \\left(3 a^{2} - 3 a m_{1} + m_{1}^{2}\\right)}\n",
      "\\frac{a^{4} - \\left(a - m_{1}\\right)^{4}}{4 m_{1} m_{3} \\left(3 a^{2} - 3 a m_{1} + m_{1}^{2}\\right)}\n"
     ]
    },
    {
     "data": {
      "text/latex": [
       "$\\displaystyle \\frac{6 a^{2} - 8 a m_{1} + 3 m_{1}^{2}}{4 \\left(3 a^{2} - 3 a m_{1} + m_{1}^{2}\\right)}$"
      ],
      "text/plain": [
       "(6*a**2 - 8*a*m_1 + 3*m_1**2)/(4*(3*a**2 - 3*a*m_1 + m_1**2))"
      ]
     },
     "execution_count": 266,
     "metadata": {},
     "output_type": "execute_result"
    }
   ],
   "source": [
    "cx = (cxa*VA - cx1*V1) / V\n",
    "cy = (cya*VA - cy1*V1) / V\n",
    "cz = (cza*VA - cz1*V1) / V\n",
    "print(latex(simplify(cx)))\n",
    "print(latex(simplify(cy)))\n",
    "print(latex(simplify(cz)))\n",
    "simplify(cx)"
   ]
  },
  {
   "cell_type": "markdown",
   "metadata": {},
   "source": [
    "## cut 3\n",
    "volume:\n",
    "\n",
    "$$ V = \\frac{a^{2}}{2 m_{2} m_{3}} - \\frac{a m_{1}}{2 m_{2} m_{3}} + \\frac{m_{1}^{2}}{6 m_{2} m_{3}} $$\n",
    "\n",
    "centroid:\n",
    "$$ \\frac{4 a^{4} - m_{1} \\left(a - m_{1}\\right)^{2} \\left(16.0 a - 15.0 m_{1}\\right)}{16 m_{1}^{2} \\left(3 a^{2} - 3 a m_{1} + m_{1}^{2}\\right)} $$\n",
    "$$\\frac{4 a^{4} - m_{1}^{2} \\left(a - m_{1}\\right)^{2}}{16 m_{1} m_{2} \\left(3 a^{2} - 3 a m_{1} + m_{1}^{2}\\right)}$$\n",
    "$$\\frac{4 a^{4} - m_{1}^{2} \\left(a - m_{1}\\right)^{2}}{16 m_{1} m_{3} \\left(3 a^{2} - 3 a m_{1} + m_{1}^{2}\\right)}$$"
   ]
  },
  {
   "cell_type": "code",
   "execution_count": 286,
   "metadata": {
    "ExecuteTime": {
     "end_time": "2020-06-20T14:30:56.005604Z",
     "start_time": "2020-06-20T14:30:55.945270Z"
    }
   },
   "outputs": [
    {
     "name": "stdout",
     "output_type": "stream",
     "text": [
      "\\frac{a^{3}}{6 m_{1} m_{2} m_{3}} - \\frac{m_{1}^{2} \\left(\\frac{a}{m_{1}} - 1\\right)^{3}}{6 m_{2} m_{3}} - \\frac{m_{2}^{2} \\left(\\frac{a}{m_{2}} - 1\\right)^{3}}{6 m_{1} m_{3}} - \\frac{m_{3}^{2} \\left(\\frac{a}{m_{3}} - 1\\right)^{3}}{6 m_{1} m_{2}}\n"
     ]
    },
    {
     "data": {
      "text/latex": [
       "$\\displaystyle \\frac{a^{3} - \\left(a - m_{1}\\right)^{3} - \\left(a - m_{2}\\right)^{3} - \\left(a - m_{3}\\right)^{3}}{6 m_{1} m_{2} m_{3}}$"
      ],
      "text/plain": [
       "(a**3 - (a - m_1)**3 - (a - m_2)**3 - (a - m_3)**3)/(6*m_1*m_2*m_3)"
      ]
     },
     "execution_count": 286,
     "metadata": {},
     "output_type": "execute_result"
    }
   ],
   "source": [
    "V11 = h1*h2*h3/6\n",
    "V22 = (h1-1)**3/h1**3*h1*h2*h3/6\n",
    "V33 = (h2-1)**3/h2**3*h1*h2*h3/6\n",
    "V44 = (h3-1)**3/h3**3*h1*h2*h3/6\n",
    "V = V11-V22-V33-V44\n",
    "print(latex(V))\n",
    "simplify(V)"
   ]
  },
  {
   "cell_type": "code",
   "execution_count": 283,
   "metadata": {
    "ExecuteTime": {
     "end_time": "2020-06-20T14:28:50.114025Z",
     "start_time": "2020-06-20T14:28:50.103980Z"
    }
   },
   "outputs": [
    {
     "data": {
      "text/latex": [
       "$\\displaystyle - \\frac{a^{3}}{3 m_{1} m_{2} m_{3}} + \\frac{a^{2}}{2 m_{2} m_{3}} + \\frac{a^{2}}{2 m_{1} m_{3}} + \\frac{a^{2}}{2 m_{1} m_{2}} - \\frac{a m_{1}}{2 m_{2} m_{3}} - \\frac{a m_{2}}{2 m_{1} m_{3}} - \\frac{a m_{3}}{2 m_{1} m_{2}} + \\frac{m_{1}^{2}}{6 m_{2} m_{3}} + \\frac{m_{2}^{2}}{6 m_{1} m_{3}} + \\frac{m_{3}^{2}}{6 m_{1} m_{2}}$"
      ],
      "text/plain": [
       "-a**3/(3*m_1*m_2*m_3) + a**2/(2*m_2*m_3) + a**2/(2*m_1*m_3) + a**2/(2*m_1*m_2) - a*m_1/(2*m_2*m_3) - a*m_2/(2*m_1*m_3) - a*m_3/(2*m_1*m_2) + m_1**2/(6*m_2*m_3) + m_2**2/(6*m_1*m_3) + m_3**2/(6*m_1*m_2)"
      ]
     },
     "execution_count": 283,
     "metadata": {},
     "output_type": "execute_result"
    }
   ],
   "source": [
    "V = VA-V1-V2-V3\n",
    "expand(V)"
   ]
  },
  {
   "cell_type": "code",
   "execution_count": 300,
   "metadata": {
    "ExecuteTime": {
     "end_time": "2020-06-20T14:41:48.325378Z",
     "start_time": "2020-06-20T14:41:48.214855Z"
    }
   },
   "outputs": [
    {
     "data": {
      "text/latex": [
       "$\\displaystyle \\frac{a^{2} \\left(3 - 2 a\\right) + m_{1}^{2} \\left(- 3 a + m_{1}\\right) + m_{2}^{2} \\left(- 3 a + m_{2}\\right) + m_{3}^{2} \\left(- 3 a + m_{3}\\right)}{6 m_{1} m_{2} m_{3}}$"
      ],
      "text/plain": [
       "(a**2*(3 - 2*a) + m_1**2*(-3*a + m_1) + m_2**2*(-3*a + m_2) + m_3**2*(-3*a + m_3))/(6*m_1*m_2*m_3)"
      ]
     },
     "execution_count": 300,
     "metadata": {},
     "output_type": "execute_result"
    }
   ],
   "source": [
    "VV=simplify((al**2*(3-al*2) + m1**2*(m1-3*al)+m2**2*(m2-3*al)+m3**2*(m3-3*al))/(6*m1*m2*m3))\n",
    "simplify(expand(VV))"
   ]
  },
  {
   "cell_type": "code",
   "execution_count": 202,
   "metadata": {
    "ExecuteTime": {
     "end_time": "2020-06-20T14:07:16.711024Z",
     "start_time": "2020-06-20T14:07:16.378026Z"
    }
   },
   "outputs": [
    {
     "data": {
      "text/latex": [
       "$\\displaystyle \\frac{a^{3} \\left(a^{3} + a^{2} \\left(2 a - 3\\right) + m_{1}^{2} \\left(3 a - m_{1}\\right) + m_{2}^{2} \\left(3 a - m_{2}\\right) + m_{3}^{2} \\left(3 a - m_{3}\\right) - \\left(a - m_{1}\\right)^{3} - \\left(a - m_{2}\\right)^{3} - \\left(a - m_{3}\\right)^{3}\\right) + \\left(a - m_{1}\\right)^{3} \\left(a - m_{2}\\right)^{3} + \\left(a - m_{1}\\right)^{3} \\left(a - m_{3}\\right)^{3} + \\left(a - m_{2}\\right)^{3} \\left(a - m_{3}\\right)^{3}}{6 a^{3} m_{1} m_{2} m_{3}}$"
      ],
      "text/plain": [
       "(a**3*(a**3 + a**2*(2*a - 3) + m_1**2*(3*a - m_1) + m_2**2*(3*a - m_2) + m_3**2*(3*a - m_3) - (a - m_1)**3 - (a - m_2)**3 - (a - m_3)**3) + (a - m_1)**3*(a - m_2)**3 + (a - m_1)**3*(a - m_3)**3 + (a - m_2)**3*(a - m_3)**3)/(6*a**3*m_1*m_2*m_3)"
      ]
     },
     "execution_count": 202,
     "metadata": {},
     "output_type": "execute_result"
    }
   ],
   "source": [
    "expand(V-VV)"
   ]
  },
  {
   "cell_type": "code",
   "execution_count": 298,
   "metadata": {
    "ExecuteTime": {
     "end_time": "2020-06-20T14:41:34.669903Z",
     "start_time": "2020-06-20T14:41:34.662969Z"
    }
   },
   "outputs": [
    {
     "data": {
      "text/latex": [
       "$\\displaystyle - \\frac{a^{3}}{6 m_{1} m_{2} m_{3}} + \\frac{a^{2}}{2 m_{2} m_{3}} + \\frac{a^{2}}{2 m_{1} m_{3}} - \\frac{a m_{1}}{2 m_{2} m_{3}} - \\frac{a m_{2}}{2 m_{1} m_{3}} + \\frac{m_{1}^{2}}{6 m_{2} m_{3}} + \\frac{m_{2}^{2}}{6 m_{1} m_{3}}$"
      ],
      "text/plain": [
       "-a**3/(6*m_1*m_2*m_3) + a**2/(2*m_2*m_3) + a**2/(2*m_1*m_3) - a*m_1/(2*m_2*m_3) - a*m_2/(2*m_1*m_3) + m_1**2/(6*m_2*m_3) + m_2**2/(6*m_1*m_3)"
      ]
     },
     "execution_count": 298,
     "metadata": {},
     "output_type": "execute_result"
    }
   ],
   "source": [
    "VV=(al**2*(3*(m1+m2)-al) + m1**2*(m1-3*al)+m2**2*(m2-3*al))/(6*m1*m2*m3)\n",
    "V-VV"
   ]
  },
  {
   "cell_type": "code",
   "execution_count": 287,
   "metadata": {
    "ExecuteTime": {
     "end_time": "2020-06-20T14:39:23.799925Z",
     "start_time": "2020-06-20T14:39:23.790515Z"
    }
   },
   "outputs": [
    {
     "data": {
      "text/latex": [
       "$\\displaystyle - \\frac{a^{3}}{6 m_{1} m_{2} m_{3}} + \\frac{a^{2}}{2 m_{2} m_{3}} + \\frac{a^{2}}{2 m_{1} m_{3}} - \\frac{a m_{1}}{2 m_{2} m_{3}} - \\frac{a m_{2}}{2 m_{1} m_{3}} + \\frac{m_{1}^{2}}{6 m_{2} m_{3}} + \\frac{m_{2}^{2}}{6 m_{1} m_{3}}$"
      ],
      "text/plain": [
       "-a**3/(6*m_1*m_2*m_3) + a**2/(2*m_2*m_3) + a**2/(2*m_1*m_3) - a*m_1/(2*m_2*m_3) - a*m_2/(2*m_1*m_3) + m_1**2/(6*m_2*m_3) + m_2**2/(6*m_1*m_3)"
      ]
     },
     "execution_count": 287,
     "metadata": {},
     "output_type": "execute_result"
    }
   ],
   "source": []
  },
  {
   "cell_type": "code",
   "execution_count": 302,
   "metadata": {
    "ExecuteTime": {
     "end_time": "2020-06-20T14:42:35.308243Z",
     "start_time": "2020-06-20T14:42:35.299158Z"
    }
   },
   "outputs": [
    {
     "data": {
      "text/latex": [
       "$\\displaystyle 0.455072$"
      ],
      "text/plain": [
       "0.455072000000000"
      ]
     },
     "execution_count": 302,
     "metadata": {},
     "output_type": "execute_result"
    }
   ],
   "source": [
    "V.subs(m1,1/3).subs(m2,1/3).subs(m3,1/3).subs(al,0.48)"
   ]
  },
  {
   "cell_type": "code",
   "execution_count": 303,
   "metadata": {
    "ExecuteTime": {
     "end_time": "2020-06-20T14:42:35.824119Z",
     "start_time": "2020-06-20T14:42:35.810231Z"
    }
   },
   "outputs": [
    {
     "data": {
      "text/latex": [
       "$\\displaystyle 0.455072$"
      ],
      "text/plain": [
       "0.455072000000000"
      ]
     },
     "execution_count": 303,
     "metadata": {},
     "output_type": "execute_result"
    }
   ],
   "source": [
    "VV.subs(m1,1/3).subs(m2,1/3).subs(m3,1/3).subs(al,0.48)"
   ]
  },
  {
   "cell_type": "code",
   "execution_count": null,
   "metadata": {
    "ExecuteTime": {
     "end_time": "2020-06-20T14:43:13.101727Z",
     "start_time": "2020-06-20T14:43:13.087747Z"
    }
   },
   "outputs": [],
   "source": []
  },
  {
   "cell_type": "code",
   "execution_count": null,
   "metadata": {},
   "outputs": [],
   "source": []
  }
 ],
 "metadata": {
  "hide_input": false,
  "kernelspec": {
   "display_name": "Python 3",
   "language": "python",
   "name": "python3"
  },
  "language_info": {
   "codemirror_mode": {
    "name": "ipython",
    "version": 3
   },
   "file_extension": ".py",
   "mimetype": "text/x-python",
   "name": "python",
   "nbconvert_exporter": "python",
   "pygments_lexer": "ipython3",
   "version": "3.7.4"
  },
  "nbTranslate": {
   "displayLangs": [
    "*"
   ],
   "hotkey": "alt-t",
   "langInMainMenu": true,
   "sourceLang": "en",
   "targetLang": "fr",
   "useGoogleTranslate": true
  },
  "toc": {
   "base_numbering": 1,
   "nav_menu": {},
   "number_sections": true,
   "sideBar": true,
   "skip_h1_title": false,
   "title_cell": "Table of Contents",
   "title_sidebar": "Contents",
   "toc_cell": false,
   "toc_position": {},
   "toc_section_display": true,
   "toc_window_display": false
  }
 },
 "nbformat": 4,
 "nbformat_minor": 2
}
