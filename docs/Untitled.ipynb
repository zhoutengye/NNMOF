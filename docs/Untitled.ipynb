{
 "cells": [
  {
   "cell_type": "code",
   "execution_count": 906,
   "metadata": {
    "ExecuteTime": {
     "end_time": "2020-06-21T17:26:19+08:00",
     "start_time": "2020-06-21T09:26:19.143Z"
    }
   },
   "outputs": [],
   "source": [
    "volume[alpha_,mm1_,mm2_,mm3_] := 1/6 * alpha^3 / mm1 / mm2 / mm3\n",
    "centroidx[alpha_,mm1_,mm2_,mm3_] := 1/4 * alpha / mm1\n",
    "centroidy[alpha_,mm1_,mm2_,mm3_] := 1/4 * alpha / mm2\n",
    "centroidz[alpha_,mm1_,mm2_,mm3_] := 1/4 * alpha / mm3\n",
    "momentx[vof, cx] := vof * cx\n",
    "momenty[vof, cy] := vof * cy\n",
    "momentz[vof, cz] := vof * cz"
   ]
  },
  {
   "cell_type": "code",
   "execution_count": 716,
   "metadata": {
    "ExecuteTime": {
     "end_time": "2020-06-21T17:10:33+08:00",
     "start_time": "2020-06-21T09:10:33.101Z"
    }
   },
   "outputs": [
    {
     "data": {
      "text/html": [
       "<style>\n",
       "\t\t\t\t\t\t\t\t\t\t\t\t\t.grid-container {\n",
       "\t\t\t\t\t\t\t\t\t\t\t\t\t\tdisplay: inline-grid;\n",
       "\t\t\t\t\t\t\t\t\t\t\t\t\t\tgrid-template-columns: auto;\n",
       "\t\t\t\t\t\t\t\t\t\t\t\t\t}\n",
       "\t\t\t\t\t\t\t\t\t\t\t\t</style>\n",
       "\n",
       "\t\t\t\t\t\t\t\t\t\t\t\t<div><div class=\"grid-container\"><div class=\"grid-item\"><img alt=\"Output\" src=\"data:image/png;base64,iVBORw0KGgoAAAANSUhEUgAAAGAAAAARCAIAAACthD4LAAAAp3pUWHRSYXcgcHJvZmlsZSB0eXBlIGV4aWYAAHjaVU7bDQMhDPtnio6QFw6Mg66c1A06fs0drVQriY3lRJT5fp3lsaDWStRs6IAQ0aPboGhyw1kqKkaObdmPL1+3X+4TIjZak2XqPvI9thGehgrN4AyTTHTqRsWJWkxq4sQBMKh4msRBnsjkGhLVxMdaXLCZ/+kJ5/vJH7m5XD3Y4DRXrqontV4+weAHN8g5obi8ZjAAAAAJcEhZcwAACxMAAAsTAQCanBgAAAA8dEVYdFNvZnR3YXJlAENyZWF0ZWQgd2l0aCB0aGUgV29sZnJhbSBMYW5ndWFnZSA6IHd3dy53b2xmcmFtLmNvbVyipoUAAAAhdEVYdENyZWF0aW9uIFRpbWUAMjAyMDowNjoyMSAxNzoxMDozM/QdMn4AAALbSURBVFiF7ZfNSypRFMDvRDVOIGrOwqAUxw+wqNwEgkTaTOZCkiQ3IbYrXBRCGxN3bgbcxID4BxjRIlz1IaRkoJgbwRAEFwO2zAxD7GvRvIVgPdOmnvJ04W8155yZ371zhrmXCzEMA/q0ZqDbE+h1+g1iod8gFvoN+qBYLG5vb2MYtrS0VE8OdnFCvcbQ0BBBEDAMZzKZenLg6upqZWUFx3G5XH5ycoJhmNFobHOkRCJhMpkMBoNMJjs9PZXJZARB9KCzAT6fbzab5+bm/srGYjEYhrPZ7Pr6ularLRaLAoHg9vaW+QHlcvn19fVrPh6PDw8P39zc2O12jUZzf3+PoihN091y/oqjoyOCIOrhIABApVJNTU0pFIrJyUkURcViMU3TExMTrC2/uLhQq9VyufxrSalUTk9PKxQKDMOEQqFEIqFpWiqV/n9nNBpNJpMAAA6HY7Vag8FgLb+xsfGTd/xYgyAIarigKGp/fz8QCCwvL7OKmtLgvLu7c7vdLy8vT09PBwcHIyMj7TsfHx93d3chCKpWqyRJisXihvtxHMdxvB56PJ5fDffdIr2zs/P8/Ny0FAqF8vl8NptNpVJCoVCr1c7Pz7MOxuVySZJEUZSiqLOzs7W1tfadPB7P7/fDMExRVCwWs9vtrI/8in/cxSwWCwDg+Pi41e/QFARBEAQBABQKBZ1O1xEnAODh4cHhcPD5/EAg8LV6eXmZSqUAABwOx2KxHB4e1vI2m218fJxV3oVtPhKJQBA0MzPTKeHY2JjP5wsGg+fn57Uuf0av1+v1+nrocrlaeWw2WyKRqFarlUpFKpWKRKJkMgm+X9JJkgyHwx3cI8Lh8Obm5vv7e6eEpVKpUqkwDHN9fb21tdUpbR2IaXGaL5VKLpcrk8mMjo4uLCzs7e21/6nT6fTi4uLq6ioAYHZ21ul0tu/M5XJerxdBkLe3N7fbrVKp2nd+pmWD+tTon8VY+APVyusfKxqYXAAAAABJRU5ErkJggg==\"></div><div class=\"grid-item\"><img alt=\"Output\" src=\"data:image/png;base64,iVBORw0KGgoAAAANSUhEUgAAAIEAAAARCAIAAAB1pFhEAAAAp3pUWHRSYXcgcHJvZmlsZSB0eXBlIGV4aWYAAHjaVU7bDQMhDPtnio6QFw6Mg66c1A06fs0drVQriY3lRJT5fp3lsaDWStRs6IAQ0aPboGhyw1kqKkaObdmPL1+3X+4TIjZak2XqPvI9thGehgrN4AyTTHTqRsWJWkxq4sQBMKh4msRBnsjkGhLVxMdaXLCZ/+kJ5/vJH7m5XD3Y4DRXrqontV4+weAHN8g5obi8ZjAAAAAJcEhZcwAACxMAAAsTAQCanBgAAAA8dEVYdFNvZnR3YXJlAENyZWF0ZWQgd2l0aCB0aGUgV29sZnJhbSBMYW5ndWFnZSA6IHd3dy53b2xmcmFtLmNvbVyipoUAAAAhdEVYdENyZWF0aW9uIFRpbWUAMjAyMDowNjoyMSAxNzoxMDozM/QdMn4AAANrSURBVFiF7ZhfKHtvHMef823n2FmJzrhYMZwhLvy74AYxE4Vkc3Yn7o6UEDfb8Sfh4hQZp3RyPbmSO0ybpiSb1mqlNEJy4VBnWTIa274XpyS2HL5+2+/bd6+r5+/n/T7n85znOT1QJBIBSRLKr0QbSJLMwf+AZA4STzIHiSeZg8TzeQ729/fb2tqamppUKtXGxoZKpWpsbPyvbf07ogAACQDg9PR0eXkZwzCe5/v7+10uV01NjUKheB1ktVpdLtfc3NzMzMzh4WFRUdHFxUVeXt6n0f1+P4qiCIJ87Do7O2NZFsMwn8/X19fn8XiqqqqysrL+UlGRRDUgCYVCi4uLJpMJhuFgMEhRlEwm0+v1b2cWFhaWlJQUFBTgOC6Xy3Nycs7Pz8U4s1qt5eXl+fn579rD4bDJZJqfn0cQ5Pn52Wg0oiiq0+n+UtGdnZ2DgwMAgFQq1ev1ZrNZaO/p6cnOzv7UgGR7e7u9vR2GYQAAgiBXV1cGgyGqEgRB7woMwywsLLAs29zc/OmreYvNZmtpaRGWKgzD19fXQ0NDYkRvb28pinp6egoEAisrKzKZLA6ifr9/ZGQEgqCHhweappVK5bvxGo1Go9G8VsfGxr5kQOL1ejs7O4VBPp/P7XZXVFSIfKqBgYHHx8eoXevr6ycnJ0dHR06nUy6XV1dX19bWvvZ6vd7W1lahfHd353A4KisrxSimpqbSNJ2RkcEwzObmJkEQcRBNS0tbWlpKSUlhGGZ3d7e7u1vMrI/EMiDJzMy8ublRKpUvLy+jo6MdHR3BYDDqZvolhG98bW0t6rYgiOI4HgqFKIoiCCIQCIhZ1CiKoigKALi8vKyvr4+PKABA2L7T09NZlv3Ya7fbnU4nAEAqlep0utXVVaG9q6vr7WETy4CEIIiJiQm73c5x3PDwMMdxk5OTJEnm5uaKMfc9tFrt+Pj43t4ex3GDg4M8z09NTZEkieO4mOk2mw2CoNLS0riJKhSK2dlZs9m8tbX17ggBAKjVarVa/VqNtZnHMgAifwZN0xaL5Q+DfAmLxUKSZDgcjpsiz/P39/eRSMThcPT29v54fCjy3XtTnucNBoPH48EwrK6uzmg0fi/Ol3C73Q0NDVqtFgBQVlYW61D9WY6Pj6enp1EUFf4bi4uLfzb+93OQ5KdI3lUknt8PDXfWn1VX6AAAAABJRU5ErkJggg==\"></div><div class=\"grid-item\"><img alt=\"Output\" src=\"data:image/png;base64,iVBORw0KGgoAAAANSUhEUgAAAJkAAAARCAIAAABB3ZlYAAAAp3pUWHRSYXcgcHJvZmlsZSB0eXBlIGV4aWYAAHjaVU7bDQMhDPtnio6QFw6Mg66c1A06fs0drVQriY3lRJT5fp3lsaDWStRs6IAQ0aPboGhyw1kqKkaObdmPL1+3X+4TIjZak2XqPvI9thGehgrN4AyTTHTqRsWJWkxq4sQBMKh4msRBnsjkGhLVxMdaXLCZ/+kJ5/vJH7m5XD3Y4DRXrqontV4+weAHN8g5obi8ZjAAAAAJcEhZcwAACxMAAAsTAQCanBgAAAA8dEVYdFNvZnR3YXJlAENyZWF0ZWQgd2l0aCB0aGUgV29sZnJhbSBMYW5ndWFnZSA6IHd3dy53b2xmcmFtLmNvbVyipoUAAAAhdEVYdENyZWF0aW9uIFRpbWUAMjAyMDowNjoyMSAxNzoxMDozM/QdMn4AAAPDSURBVFiF7ZjNSypdGMDPXHRyhChyWhRlNZbQoq9FEESUGQUVkaa0CYMWRpsK3ah9EEUgBGlC+AcYLaLaVUaGQUW6EYogFBFEKIsUI9SydO5iXuJ9rSmd6/W+N+a3mnOewzM/nWc+ngPhOA5ovgUMssDd3Z1Go3l6eopEImtra2w2O5tatAYFJYjsvoxGo+FwGEVRg8FQXFwskUiy7EprpKv0g2wpgiAoigIAvF4vn8/PoiStkRLvlUivJYHFYoEgqLa2Nht2tEb6/EcJJ8dsNsvl8kQi8cmaLEBrkJGkRHpfOhyOwcHBWCw2MjKi1+v/HTo9Pe3t7e3s7OTxeDs7Ozwer6Oj4zfVHa2RhhKO4y6XS6lULi4uKhQKj8ezsbFxfX39STmcnJzAMHxxcSGTyZqamu7v71EU9Xg8qZRSKBR6fn7+MOR2uwkNpVLpdru3trZ8Pt/31kiRFJUY8Xh8ZWVFp9MxmcxYLKbRaNhstlQq/bwo+Hx+TU1NVVUVhmEcDqesrMzj8VRUVHxZTQcHB/X19ZWVlUnziURCp9MtLy/DMPzy8qJWqxEEEYvF31jj8PDw7OwMAMBisaRSqclkIuaHh4dLS0spKDH29/f7+vqYTCYAAIZhn8+nUqm++iv+AYKgpAODwaDX641GY1dXV4pJCCwWS3d3NwzDAAAmk3lzczM5OUlN41d6wQxqPDw8KJVKCILC4bBWq+VyuUnrhUKhUCh8G05PT/+iEsPpdA4MDBCDYDDocDgaGhpStH/P+Ph4NBr9MLS9ve1yuS4vL+12O4fDaW5ubmlpeYs6nc6enh7iOBQK2Wy2xsZGag65ublarZZovHZ3d5N6waxp5OXlra6u5uTkGAyGo6MjmUxGLU/qSozCwsLb21sul/v6+jo1NdXf3x+LxYgqyCzEY2Fzc/PDhxuhgWFYPB7XaDQSiSQSiVDbXkEQBEEQAIDX621ra/tTGgCAYDA4NjaWn59vNBrfR61Wq91uBwCwWCyxWLy+vk7MDw0NlZSUUFBiSCSS2dlZq9Xq9/sVCoXf75+bm5PL5eXl5dR+ADVEItHMzMzx8bHf75+YmAgEAvPz83K5HMMwagmp9YKZ1SgqKlpaWjKZTHt7e+/fcAKBQCAQvA3JXm1pKGXwc4tAq9WazeaMp02L/0MvGAgEHh8fcRy32Wyjo6NZOCPpfiwFAoGASqU6Pz8vKChobW1Vq9WZypwWDoejvb1dJBIBAOrq6lL/eMksV1dXCwsLCIIQ3UF1dfXvPmMmryXNn+WL/Viav4if85s/GOeSa+8AAAAASUVORK5CYII=\"></div><div class=\"grid-item\"><img alt=\"Output\" src=\"data:image/png;base64,iVBORw0KGgoAAAANSUhEUgAAAJkAAAARCAIAAABB3ZlYAAAAp3pUWHRSYXcgcHJvZmlsZSB0eXBlIGV4aWYAAHjaVU7bDQMhDPtnio6QFw6Mg66c1A06fs0drVQriY3lRJT5fp3lsaDWStRs6IAQ0aPboGhyw1kqKkaObdmPL1+3X+4TIjZak2XqPvI9thGehgrN4AyTTHTqRsWJWkxq4sQBMKh4msRBnsjkGhLVxMdaXLCZ/+kJ5/vJH7m5XD3Y4DRXrqontV4+weAHN8g5obi8ZjAAAAAJcEhZcwAACxMAAAsTAQCanBgAAAA8dEVYdFNvZnR3YXJlAENyZWF0ZWQgd2l0aCB0aGUgV29sZnJhbSBMYW5ndWFnZSA6IHd3dy53b2xmcmFtLmNvbVyipoUAAAAhdEVYdENyZWF0aW9uIFRpbWUAMjAyMDowNjoyMSAxNzoxMDozM/QdMn4AAAPFSURBVFiF7ZjNSypdHIDPvK9OjiBJ2iIoS8mgRV9EEESUuQgSQk13YTujjYVu1D6QIhKCrIHwDzBaRLUsK8OgIt0IRRCKCSKURg5GZmnp3MW8yMXS1OtV3vBZnXN+Z84883E+IRzHQZkfASld4OnpSaVSQRD08vKi1+tZLFYxtcoaeShBGfplNBqtqKhAUZROp8tksmKKljWyIUXpnwxVMQwTCoUOh0MqlRbNr6yRPSlK/+p0unRVaTRaZ2en1+sNh8PNzc3FcyxrZEeKUtp+iWFYOBzmcrkCgeDw8LCYimWNbPislHbtEwgEFhYWEASJxWJarfb30Pn5+dLSUiwWu729RVFUoVCw2WyLxfI3jMsaOSjhOO5yuVQq1eLiolKp9Hg8W1tbd3d3eHrOzs5gGL66upLJZN3d3Y+Pj0wm0+PxZLgkSSgUikajX4bcbjehoVKp3G73zs6Oz+f72RpZkqUSKR6Pr62tGQwGMplMfGEqlfrt9N7U1NTS0sLlcjkcDoPBqK+v93g8bDb727/p6Oiovb29sbExpTyRSBgMhpWVFRiG39/fNRoNgiBisfgHaxwfH19cXAAAKBSKVCo1mUxE+djYWF1dXR5KpIODg+HhYTKZDACAYdjn86nV6u9exX9AEJSSQFF0dXXVaDQODg5m2QiBxWIZGhqCYRgAQCaT7+/vp6am8tN4eHjQarVvb2+RSGRjY4NKpZZE49stKZ/P5/P5yezMzMwfKpGcTufIyAiRwTDM4XB0dHRkaf8ZhULx+vr6ZWh3d9flcl1fX9vtdgaD0dPT09vbm4w6nU6BQECkQ6GQzWbr6urKz4FGo+n1eiaTiaLo3t6eRCIpiUZlZeX6+jqx/zs5Ocl7S5q9Eqm6ujoQCLBYrI+Pj+npaaFQGIvFiL+gsBDDwvb29peDG6HB4XDi8bhWq5VIJJFIJKculQRBEARBAABer7e/v79UGgAADMMmJibodLrRaPwctVqtdrsdAEChUMRi8ebmJlE+OjpaW1ubhxJJIpHMzc1ZrVa/369UKv1+v06nk8vlDQ0N+T1AfohEotnZ2dPTU7/fPzk5GQwG5+fn5XI5h8PJr0GLxQJBUGtrawk1ampqlpeXTSbT/v7+5xmOx+PxeLxkNt3UloNSAZdbBHq93mw2F7zZnDCbzXK5PJFIlNAhGAw+Pz/jOG6z2cbHx4twx0znsbkSDAbVavXl5WVVVVVfX59GoylUyznhcDgGBgZEIhEAoK2tLfvFS2G5ubn5ff9XhKOiQn7LMqUl09l6mf8XvwD8lMEAG9YZGQAAAABJRU5ErkJggg==\"></div></div></div>"
      ],
      "text/plain": [
       "m  + m  + m  == 1\n",
       " 1    2    3\n",
       "α m  + α m  + α m  == α\n",
       "   1      2      3\n",
       " 2       2       2        2\n",
       "α  m  + α  m  + α  m  == α\n",
       "    1       2       3\n",
       " 3       3       3        3\n",
       "α  m  + α  m  + α  m  == α\n",
       "    1       2       3"
      ]
     },
     "execution_count": 720,
     "metadata": {
      "text/html": [],
      "text/plain": []
     },
     "output_type": "execute_result"
    }
   ],
   "source": [
    "m1 = Subscript[m, 1];\n",
    "m2 = Subscript[m, 2];\n",
    "m3= Subscript[m, 3];\n",
    "al = \\[Alpha];\n",
    "\n",
    "ass0 =      m1 +      m2 +      m3 == 1\n",
    "ass1 =   al*m1 +   al*m2 +   al*m3 == al\n",
    "ass2 = al^2*m1 + al^2*m2 + al^2*m3 == al^2\n",
    "ass3 = al^3*m1 + al^3*m2 + al^3*m3 == al^3"
   ]
  },
  {
   "cell_type": "code",
   "execution_count": 701,
   "metadata": {
    "ExecuteTime": {
     "end_time": "2020-06-21T17:09:57+08:00",
     "start_time": "2020-06-21T09:09:56.708Z"
    }
   },
   "outputs": [
    {
     "data": {
      "text/html": [
       "<style>\n",
       "\t\t\t\t\t\t\t\t\t\t\t\t\t.grid-container {\n",
       "\t\t\t\t\t\t\t\t\t\t\t\t\t\tdisplay: inline-grid;\n",
       "\t\t\t\t\t\t\t\t\t\t\t\t\t\tgrid-template-columns: auto;\n",
       "\t\t\t\t\t\t\t\t\t\t\t\t\t}\n",
       "\t\t\t\t\t\t\t\t\t\t\t\t</style>\n",
       "\n",
       "\t\t\t\t\t\t\t\t\t\t\t\t<div><div class=\"grid-container\"><div class=\"grid-item\"><img alt=\"Output\" src=\"data:image/png;base64,iVBORw0KGgoAAAANSUhEUgAAAEAAAAAmCAIAAAD7pgrOAAAAqHpUWHRSYXcgcHJvZmlsZSB0eXBlIGV4aWYAAHjaVU7bDQMhDPtnio6QFw6Mg66c1A06fs0drVSLOMaKo5T5fp3lsaDWStRs6IAQ0aPboGhyw/lUVIw9tmW/fvm6/XKvELHRmixT95Lvso3wNFRoBjlMMtGpGxUZtZjUxIkD4KDiaRIH+0QmY0hUEx8ruGAz/6cnnP8nL3JzuWqwQDZXRtXzcjq5Oq8uHzguOa6INPyIAAAACXBIWXMAAAsTAAALEwEAmpwYAAAAPHRFWHRTb2Z0d2FyZQBDcmVhdGVkIHdpdGggdGhlIFdvbGZyYW0gTGFuZ3VhZ2UgOiB3d3cud29sZnJhbS5jb21coqaFAAAAIXRFWHRDcmVhdGlvbiBUaW1lADIwMjA6MDY6MjEgMTc6MDk6NTaSRQdNAAADdUlEQVRYhe2YS0gqURjH9TbTUJA9hCBBhxaRQk+jmE2rXiBEUq1qUUxgUBHkIqaHYeEmXBQ0qEW4iIooiTYtJBBaCC0KQpBa1DA11CKQhkpEwZm78OJ0s3Linhy6+Fsdz3zf/3z/8czMOUfO87zsJ/NL6gL+FSgDY5yfny8tLcEwDEHQysoKDMMg1fnvJxqNchzH83x3dzdN02DFMzGFcnNzj4+PW1tbMQxDURSwOtj78RGxWOz09LSvr+/29hascib+AYZhIAhqaGioqanx+/1gxQE/xF6v1+fzFRcXh0Ihm822uro6Pj5+dnY2OTmZl5cHw/DY2BjYEUFOoZubG6vVmmgHg0Gr1UqSJED9dwFpwGKxPD09JX/W1taGw2GA+u8C8hl4fn4uKChItP1+v1qtzs/PB6j/LiANQBAUjUZlMtnDw8Pm5qZerwco/hFyHtxa6Orqam1traSk5PHx0WKxbG1tsSxrNpsBf3r/BqQBSfjxi7msAanJGpCaP2shm80mbR1fZXZ2NtHIvkalJmtAav4vA9fX1waDQaVS6XQ6u90uVU1fI7kzCIfDKIru7e1xHMey7OHh4XfvRYAgGCBJEsfxT0JVKtXExERZWdnu7m5zczOKond3d5+rZyBFMGAymRwOx8LCQktLy8DAAEVRb0IhCHK5XG63u7CwkKIog8Hgdrs/ryYDKcIzcH9/b7fbq6ur9/f3GxsbOzs7+ZRvXG9vb0VFRX19fXl5uU6noygq7RT97hTBQGlp6fT0tNFoVCgUo6OjLMsyDJOaIJfL3zSOjo4wDJuamvpojDcp8XicIAgcx9vb24PBoJgUmUw2MzNjMpn6+/u9Xu/rSOFcSKvVXl5epkqkpa2tTaFQHBwciIzPyckZGRnRaDSBQMDpdJIkKSZrbm4OQZBAILC8vNzR0ZHsFwzgOF5XVzc4OFhVVbWzs6NUKjUajciavkpCmabpyspKkSkIggwPD1MUtb6+/rpfMKBUKj0ez9DQEMuyarXa4/EArDgVhmE2Nja2t7fFp8zPz/t8PofDsbi4KPR+/k4QycnJCUEQ4uNpmu7q6gqFQiLjOY5LnApHIhEMw15fArCcJgji4uKCpummpian0wlBac5bI5GIVqvV6/VFRUUIgrhcrrRDvLy8mM3meDwei8V6enqMRmPyUnY/IDW/ASH3boZRPgERAAAAAElFTkSuQmCC\"></div><div class=\"grid-item\"><img alt=\"Output\" src=\"data:image/png;base64,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\"></div><div class=\"grid-item\"><img alt=\"Output\" src=\"data:image/png;base64,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\"></div><div class=\"grid-item\"><img alt=\"Output\" src=\"data:image/png;base64,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\"></div><div class=\"grid-item\"><img alt=\"Output\" src=\"data:image/png;base64,iVBORw0KGgoAAAANSUhEUgAAAFsAAAAmCAIAAAAk6HDRAAAAqHpUWHRSYXcgcHJvZmlsZSB0eXBlIGV4aWYAAHjaVU7bDQMhDPtnio6QFw6Mg66c1A06fs0drVQrcYJlR5T5fp3lsaDWStRs6IAQ0aPb4NLkhrNUVIwztmS/eem69XKfELHRmixR95HvsY3wNFRoBjlMMtG5N25k1GJSEycOgEbF0yQOzolMxpCoJj5WcMFm/rsnnO8nf+TmcvVgg2yujKrnpXRy9aTxAzgyOa/t1jWTAAAACXBIWXMAAAsTAAALEwEAmpwYAAAAPHRFWHRTb2Z0d2FyZQBDcmVhdGVkIHdpdGggdGhlIFdvbGZyYW0gTGFuZ3VhZ2UgOiB3d3cud29sZnJhbS5jb21coqaFAAAAIXRFWHRDcmVhdGlvbiBUaW1lADIwMjA6MDY6MjEgMTc6MDk6NTflQjfbAAAFZUlEQVRoge2abSi7XRzHr92bxyHP2mjzEAulKFqEF56VMA8vCM1zeOGhmIgwT++EMA+RF5QiifL0ghJaaYiIaLY2hYm0jbHr+r/Y3e7rf9n/7+ziP3f3vc+r6/zO+X3PuX4753d2zkZAEAQyguKv7x7Avw7Sdw/g22hoaLi9vZXL5bm5uXFxcf9UIP9Xnp+fEQQ5ODhgs9lou+6ICAQCuVxuiHEZhO3tbZ324uLi6OhooVCINurOIysrK5aWlgaavn+eq6urq6ur9/aWlhY2mz0wMPCT9X3klpaW1tfXv/AjolKpVVVVFAplZmYmPDycTqdLJBJDaqpUqqamJrQFhmGRSIQgiFKpZDKZ6CodmXV+fp7H42mLCoWio6PD1NRUpVKFhoYGBATw+XwWiwX+Ed3c3DAYjPb29qKiIoFAUFFRsbKywmazwRU+qWliYkIikR4eHmxtbTUWuVze1tamVqtVKlVdXR26MTYiCIKYmJgQCAStpbOzs6ysjEqlQhBUWVkpEAiqqqr0fYH09PSTk5PAwEAPDw9fX9/Ly0t9FT6pGRkZubGxkZKSoilaWVkNDw/rbInNIzKZjEKhaIsKhQKGYU04IAjy8fEhk8n4Uow2ytqHtbU1JpNZX1+PQ02nplqt5nA4+fn5sbGxx8fH6Jaurq4SiQREEztHyGSyUqnUFi8uLry8vLTFxcXFpqYmjAufz19dXdUWaTRabm4uSN8xMTE2Njbz8/Pvq/BpEonEsrIyGo12eHg4ODjY39+vrVIoFGQyGWRU2IhYWFgoFApt0dHR8ebmRvPc09MTFRV1f3+PcQkJCQkJCQHpDBzcmjQaDYIgoVDIYDDQ9tPT04CAABAFHZnVxsbm6enJ2toagiAKhWJmZtbd3f34+MhkMqOioqqrq8lkcmRkJI7hGgaxWDw5OTk1NYU2HhwcZGRkAPm/36ukUunQ0NAnd0dAdnd3ORzOFwoKhcLk5GSZTIY2isXivr4+QAUdc4RCoby9vb29vZFIf/bUw+FwTk5OhELh3d3d4ODg57tTKpURERFBQUE1NTVmZmZDQ0Ma++zsbHFxMaAIATHeBvyM8TYAizEiWIwRwfJ3MuNyud87jm+nsbFR82DMrFiMqwaLMSJYjBHBYowIFjwRQRCkp6eHwWC4ubklJiaenZ19+bC+ETxHid7e3qWlpa2tLScnp83NTc0p+b8DjvOli4sL5kYfDZfLLS8v9/b2TkhIGBkZcXZ2bm5u/r2gYVwA0XvVXF9fm5ubSySS7OzsmJgY7fkSzdra2s7Ozvn5+dHR0cLCwvj4+IeyhnEBQe9VI5VKZTIZj8drb2+HYZjFYtnb22dmZqLbxMbGOjg40On01NRUf39/kUikVquJROJvZA3jAoLec8TZ2dnOzm5iYsLd3d3T07OiomJ5eVlnS81tMPpav6CgwNbW9uXl5VfiGBc+n5+Tk5OWlsbhcABd9vf38/LyCgsLS0tLX19f9X07CMccoVKpcrn88fFR89sH+oU/ZGxsTCqVgrd3c3MbHx8nkUgsFuvu7s7R0fFDFz8/v4mJCQKBkJaWJpVK6XQ6eHca9J4jRCKxpKSktrYWhuGnpycej5eUlKSvCCBUKpVEIiEI8vz8bGdnB+Jiamq6ubkZHR3NZDJxhAPC932kpaXF0tLSz88vODg4MzMzNTUVhwg4XC63oKAAPEGEhYV1d3fv7++LxWI8/X3JjgVOfHy85m8KgLS2tg4PD4O3F4lEMAwjCNLV1TU9Pa33+HDsvrjZ3t4uKio6OjoqLS2dm5sDcRkYGBgdHd3Z2WGz2b/K3xj29vaysrLy8/MvLy/xLWfj/QgW40kPyw9A3Nf7boMYjAAAAABJRU5ErkJggg==\"></div><div class=\"grid-item\"><img alt=\"Output\" src=\"data:image/png;base64,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\"></div><div class=\"grid-item\"><img alt=\"Output\" src=\"data:image/png;base64,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\"></div></div></div>"
      ],
      "text/plain": [
       "     3\n",
       "    α\n",
       "----------\n",
       "6 m  m  m\n",
       "   1  2  3\n",
       "        3\n",
       "(α - m )\n",
       "      1\n",
       "----------\n",
       "6 m  m  m\n",
       "   1  2  3\n",
       "        3\n",
       "(α - m )\n",
       "      2\n",
       "----------\n",
       "6 m  m  m\n",
       "   1  2  3\n",
       "        3\n",
       "(α - m )\n",
       "      3\n",
       "----------\n",
       "6 m  m  m\n",
       "   1  2  3\n",
       "             3\n",
       "(α - m  - m )\n",
       "      1    2\n",
       "--------------\n",
       "  6 m  m  m\n",
       "     1  2  3\n",
       "             3\n",
       "(α - m  - m )\n",
       "      1    3\n",
       "--------------\n",
       "  6 m  m  m\n",
       "     1  2  3\n",
       "             3\n",
       "(α - m  - m )\n",
       "      2    3\n",
       "--------------\n",
       "  6 m  m  m\n",
       "     1  2  3"
      ]
     },
     "execution_count": 701,
     "metadata": {
      "text/html": [],
      "text/plain": []
     },
     "output_type": "execute_result"
    }
   ],
   "source": [
    "VA = volume[al, m1, m2, m3]\n",
    "V1 = volume[al-m1, m1, m2, m3]\n",
    "V2 = volume[al-m2, m1, m2, m3]\n",
    "V3 = volume[al-m3, m1, m2, m3]\n",
    "V12 = volume[al-m1-m2, m1, m2, m3]\n",
    "V13 = volume[al-m1-m3, m1, m2, m3]\n",
    "V23 = volume[al-m2-m3, m1, m2, m3]"
   ]
  },
  {
   "cell_type": "code",
   "execution_count": 792,
   "metadata": {
    "ExecuteTime": {
     "end_time": "2020-06-21T17:15:26+08:00",
     "start_time": "2020-06-21T09:15:25.780Z"
    }
   },
   "outputs": [
    {
     "data": {
      "text/html": [
       "<style>\n",
       "\t\t\t\t\t\t\t\t\t\t\t\t\t.grid-container {\n",
       "\t\t\t\t\t\t\t\t\t\t\t\t\t\tdisplay: inline-grid;\n",
       "\t\t\t\t\t\t\t\t\t\t\t\t\t\tgrid-template-columns: auto;\n",
       "\t\t\t\t\t\t\t\t\t\t\t\t\t}\n",
       "\t\t\t\t\t\t\t\t\t\t\t\t</style>\n",
       "\n",
       "\t\t\t\t\t\t\t\t\t\t\t\t<div><div class=\"grid-container\"><div class=\"grid-item\"><img alt=\"Output\" src=\"data:image/png;base64,iVBORw0KGgoAAAANSUhEUgAAAB4AAAAgCAIAAACKIl8oAAAAqHpUWHRSYXcgcHJvZmlsZSB0eXBlIGV4aWYAAHjaVU7bDQMhDPtnio6QFw6Mg66c1A06fs0drVQriY3lRJT5fp3lsaDWStRs6IAQ0aPboGhyw1kqKkaObdmPL1+3X+4TIjZak2XqPvI9thGehgrN4AyTTHTqRsWJWkxq4sQBMKh4msRBnsjkGhLVxMdaXLCZ/+kJ5/vJH7m5XD3Y4DRXrqontXq9nMrgBzf8OadayIsdAAAACXBIWXMAAAsTAAALEwEAmpwYAAAAPHRFWHRTb2Z0d2FyZQBDcmVhdGVkIHdpdGggdGhlIFdvbGZyYW0gTGFuZ3VhZ2UgOiB3d3cud29sZnJhbS5jb21coqaFAAAAIXRFWHRDcmVhdGlvbiBUaW1lADIwMjA6MDY6MjEgMTc6MTU6MjUzu1Y4AAAB4klEQVRIie2WsYvyMBjG0yMuYimKi4KIQwcnqZODji7O/gGOLgo6VbBbBx0c6qJ16KSD7g4iCA5CB0FwsIiliOAiFavSwaHkBsX7vrvPttznDXfcM70JyS/Jy5s8wRBC4GsE7QwaDAaj0cjtdu/3e5ZleZ7P5/NPQG82G1EUq9UqAGCxWFQqFa/Xa2dDAFmJYZjT6XRvRiIRXdctZyGEXizXPp/POI5f48lkEggEnE6nnU1boyGEl8sFALDb7drtdjQatcMFAGCWFSLLcqvV8ng8h8OBYZhOp6NpWrFYdDgc/4v+tKwT8ov+BujbRWdZ9lnEcrl8DX6L76ei6/U6hmHH4/HJaFmWu92uXR8x15++YBhGPB4fj8cEQWia9s41/H5/oVDw+Xy9Xi+RSASDwe12a+Iyf6FrtVo2m0UIuVyuj2gIYbPZFASBIAhFUVKplCAIJug3210ulzzPT6dTkyOm02lJkiiKCoVC4XBYURSTwbdcG4aRyWQ4jrvb4CNhGPYuGA6HsVisVCr9Gz2fz1VVzeVyJEmSJKnrOkVR/X7ffJmrkskkx3Ef+28JoShqtVrde3Ecn81mBEHYQT/SF14Z6y+OHYmiSNP0wwr5tGialiRpvV6rqtpoNCC8Mb/ne/0KVo7De2VdnacAAAAASUVORK5CYII=\"></div><div class=\"grid-item\"><img alt=\"Output\" src=\"data:image/png;base64,iVBORw0KGgoAAAANSUhEUgAAAD8AAAAhCAIAAADh4eRjAAAAqHpUWHRSYXcgcHJvZmlsZSB0eXBlIGV4aWYAAHjaVU7bDQMhDPtnio6QFw6Mg66c1A06fs0drVQriY3lRJT5fp3lsaDWStRs6IAQ0aPboGhyw1kqKkaObdmPL1+3X+4TIjZak2XqPvI9thGehgrN4AyTTHTqRsWJWkxq4sQBMKh4msRBnsjkGhLVxMdaXLCZ/+kJ5/vJH7m5XD3Y4DRXrqontXq9nMrgBzf8OadayIsdAAAACXBIWXMAAAsTAAALEwEAmpwYAAAAPHRFWHRTb2Z0d2FyZQBDcmVhdGVkIHdpdGggdGhlIFdvbGZyYW0gTGFuZ3VhZ2UgOiB3d3cud29sZnJhbS5jb21coqaFAAAAIXRFWHRDcmVhdGlvbiBUaW1lADIwMjA6MDY6MjEgMTc6MTU6MjUzu1Y4AAADKklEQVRYhe2YzUsqURiHj5ETJERhEGqkUhkhSEKIFNVCEnFRFG7aBFJBiVFjCxNEWmQfi6hFm0DpD0gkohY2y6DMjZuhtMiFRJCLZNCkrJy78CLduaYz3jN+wH1WM2fe+Z2H4zCedzgkSYKapa7SAn8gEoksFotQKDw6OhoeHpZIJE9PTwXqORDXPpVKbWxsIAiSTqcHBgYUCkUgEJicnKSfwOVy9/f3EQRBUTQYDJrNZoPBYDQaf6qvh6H9m83NTZPJJBQKAQDLy8vBYBBFUaYhBoPh9vZWqVRKpdLe3t5IJFKgGNqTk0qlMplMVh0AIJPJeDxeY2NjCVEcDodygGGYWq222WyUSmhr//Dw0NnZmTs9PT11OByUmkAgcH5+njvt6OiYnp6mEz46OtrU1HR8fEwZh2bf2toai8Wyx3t7exqN5uXlhVKjUqlUKhWsGQFEe4FA0NDQsL29TRCEWq3WaDQWi4XH442MjMCaIg9kjeD3+1dXVymDgCTJ5+dnk8kkFot1Ol0lxIpjtVrHxsYUCsXs7OzHx0duvB4AwOVytVotgiChUIjFX/kf2NrayjteBwBoaWkZHx/v7+8vrxIEGLzvCYJIp9PsqZQAA3sMw6LRKHsqJQDtjbm+vg4rqih2uz17QMve6/Xe3d3hOH59fc3n8wcHB4eGhn5KLCe07LP7RI/H09fX19XVxbISA+oBAFNTU36/P5lMvr6+SqXS9vb2i4uLSovRAub+vvxUV2/FlHLYJxIJiURSQqdSlHLYr6ysdHd3s5HMur3P54tEInq9/u9LTqfTbDbLZDK9Xu9yudra2tbW1hiFs2tPEMTS0tLBwUEmk8lbgGHY1dXV/f09juMnJyeHh4eM8tm1R1F0YWHhe8dIQavV8vl8sVg8MTEhl8uj0ejX1xf9fBbtz87OwuHw4uJi0cps953rwQEAMzMzzc3N7+/vhW+E+UWEgsfjicViPT09AIB4PP75+Xlzc+Pz+ejc63a7C3+HysKi/feHeGdn5/HxcXd3F+4Utf1vVb1duU6ne3t7K1xTjWt/eXk5NzeH4/j8/LzX6y1Q+X+XVjl+AackHU0ucIz4AAAAAElFTkSuQmCC\"></div><div class=\"grid-item\"><img alt=\"Output\" src=\"data:image/png;base64,iVBORw0KGgoAAAANSUhEUgAAACkAAAAhCAIAAADLURXMAAAAqHpUWHRSYXcgcHJvZmlsZSB0eXBlIGV4aWYAAHjaVU7bDQMhDPtnio6QFw6Mg66c1A06fs0drVSLOMaKo5T5fp3lsaDWStRs6IAQ0aPboGhyw/lUVIw9tmW/fvm6/XKvELHRmixT95Lvso3wNFRoBjlMMtGpGxUZtZjUxIkD4KDiaRIH+0QmY0hUEx8ruGAz/6cnnP8nL3JzuWqwQDZXRtWTWr1eDq8uHzgAOagcgJMQAAAACXBIWXMAAAsTAAALEwEAmpwYAAAAPHRFWHRTb2Z0d2FyZQBDcmVhdGVkIHdpdGggdGhlIFdvbGZyYW0gTGFuZ3VhZ2UgOiB3d3cud29sZnJhbS5jb21coqaFAAAAIXRFWHRDcmVhdGlvbiBUaW1lADIwMjA6MDY6MjEgMTc6MTU6MjaqsgeCAAACpklEQVRIie2XQUgiURjHn2sq2EVQEA1GIzRFCOog4cEOgoiXKDwLIoKKoqPHJDpY0kHsIGhQCB68KB6kDuZdwYsQgxGiiImHARUR1CR1DxOuqzW6MW4L6//0zfe++X7vMfPe/Ic0Go3AN+kHgb02NjYcDgeXy41Go3K5nM/n12o1nHrSeN2dTufi4oJKpfb7fZlMtrOzk81mj4+PF2dTKBS/30+lUmEYzuVyFotFo9HodLrP6tfGkcfjMZvNXC4XAGC323O5HAzDi4MxaTSap6en3d3dzc1NsVhcKpVwit/ZnU5nOBxiYACAUCjs9/t0Ov1P2QAAEok0GQwGg5OTExRFq9Wqz+eTSCTT7GKxuLW1Nc7e3d2dnp5ONc1msw8PD+NLCIK0Wu3cqZDJZLPZDEHQ4+NjIBDw+/3TbBaLhaIoFl9dXSkUikajMdVFKpVKpdK5sFlBEAQAKJfL29vbk/l3NofDodFol5eXrVZrf39foVA4HI719fWDg4MvwGb18vISDocjkchv2dHyVS6XDw8P6/X6VP7XHluSut2uSCTa29tjMBg0Gi0YDI6Hls7GEZHn2oq9mN73mNvt/mtIl8uFBat3bcX+d9jtdpvP53/BRxDAdjqdAoGAcPB8djKZLJVKarV6duj8/NxisQiFQrVafXNzw2azz87OCGO3Wi2bzXZ9fT0cDj8sSKVSmUymUCggCJJIJEKhEGFsGIZNJtOkl5qSUqlkMpk8Hu/o6EgikVQqlcFgQAD7/v7++fnZarXObYF5wrFFBADo9XoGg/H6+op/49pnA7FYDEVRzGE1m823t7d8Pp9MJudOBQBwe3uL/1cwhz358LxeL+ZwFwEvru88W5blFVUqVa/Xw68hft3pdNpgMCAIYjQa4/E4TuX/+v3+Cbbn4sUHmi9RAAAAAElFTkSuQmCC\"></div><div class=\"grid-item\"><img alt=\"Output\" src=\"data:image/png;base64,iVBORw0KGgoAAAANSUhEUgAAACkAAAAhCAIAAADLURXMAAAAqHpUWHRSYXcgcHJvZmlsZSB0eXBlIGV4aWYAAHjaVU7bDQMhDPtnio6QFw6Mg66c1A06fs0drVSLOMaKo5T5fp3lsaDWStRs6IAQ0aPboGhyw/lUVIw9tmW/fvm6/XKvELHRmixT95Lvso3wNFRoBjlMMtGpGxUZtZjUxIkD4KDiaRIH+0QmY0hUEx8ruGAz/6cnnP8nL3JzuWqwQDZXRtWTWr1eDq8uHzgAOagcgJMQAAAACXBIWXMAAAsTAAALEwEAmpwYAAAAPHRFWHRTb2Z0d2FyZQBDcmVhdGVkIHdpdGggdGhlIFdvbGZyYW0gTGFuZ3VhZ2UgOiB3d3cud29sZnJhbS5jb21coqaFAAAAIXRFWHRDcmVhdGlvbiBUaW1lADIwMjA6MDY6MjEgMTc6MTU6MjaqsgeCAAACpUlEQVRIie2XwUsicRTHfy7pQKdAQTJIU1REELxIdPAilHhTPAsikopSowfBQorS6BB5EEFQ/AOUINGDevJi4EUQMUKcg0gHA0VE00Fn9mC4rps6G1MtrN/Tm/fevM/7Mb/5zRsKjuPgm/SDxFpbW1t2u53FYkWjUblczuFwnp+fF+RTJuvu9Xper5dGo6Eoure3J5FI8vm8RqMhzqZSqX6/n0ajwTBcKBSsVqtWq9Xr9fPy1ybW1dWVxWJhsVgAgOPj40KhAMMwcfBYWq328fFRKpXu7OyIRCIEQRYkv7F7vR6GYWMwAEAgEKAour6+/rdsAACFQpkxTk5OXl5eut2uTqc7ODiYZVerVR6PN/EmEgm32z1TNJ/Pp9PpyeX29rZOpyPSjdvthiCoWCz6fL532AwGo9FojG2fz6dQKJrN5kwJmUwmk8mIwGYEQdDh4SGCIKFQaNr/ts83NzchCLq+vna5XFwu12Qy3d/fZ7PZD5De1fn5uV6vDwQCv3nxTxaGYbVaDcfx19fX3d3d6dDanEZJU7fbvbi4GI1GKIo6nc7p0K/3++tF5rm2YhPT2167vLz8MuTp6enYWO21FfvfYXc6HQ6H84E5ggS2w+Hg8/mkg5ezU6kUgiAqlerPkMfjsVqtAoFApVKFQiEmk3l2dkYau91uHx0dBYNBDMPeTchkMg8PD5VKpVQqxePxSCRCGhuGYbPZPD1LzWh/f59Op7PZbLVaLRaLa7XaaDQigZ1MJp+enmw229IS45lwMhkCAAwGw8bGxmAwWHzj3NkhFos1Gg2hUAgAaLVaw+GwXC6nUqmlrQAAwuHw4r+CJezph3dzc1Ov129vb4mAies7z5bPmhWVSmW/31+cQ/66c7mc0WgslUomk+nu7m5B5v/6/f4JPzriY+98DQAAAAAASUVORK5CYII=\"></div><div class=\"grid-item\"><img alt=\"Output\" src=\"data:image/png;base64,iVBORw0KGgoAAAANSUhEUgAAAFsAAAAhCAIAAAA57UBpAAAAqHpUWHRSYXcgcHJvZmlsZSB0eXBlIGV4aWYAAHjaVU7bDQMhDPtnio6QFw6Mg66c1A06fs0drVSLOMaKo5T5fp3lsaDWStRs6IAQ0aPboGhyw/lUVIw9tmW/fvm6/XKvELHRmixT95Lvso3wNFRoBjlMMtGpGxUZtZjUxIkD4KDiaRIH+0QmY0hUEx8ruGAz/6cnnP8nL3JzuWqwQDZXRtWTWr1eDq8uHzgAOagcgJMQAAAACXBIWXMAAAsTAAALEwEAmpwYAAAAPHRFWHRTb2Z0d2FyZQBDcmVhdGVkIHdpdGggdGhlIFdvbGZyYW0gTGFuZ3VhZ2UgOiB3d3cud29sZnJhbS5jb21coqaFAAAAIXRFWHRDcmVhdGlvbiBUaW1lADIwMjA6MDY6MjEgMTc6MTU6MjaqsgeCAAADnUlEQVRoge2ZT0jyYBzHH9+EQUIZBpHFUipLulTEEKI6SEJepOjSpUMRlBSlXRZGJBTRIeoQaFAGHbpkItEI2yUKyroEsbI/JEOjw6BklEWR7j0IYvb+8c9sK/qcnj3Pz+++fPdsjt8EDMOAH2L4xbWBdxQVFRmNRqlUura21tjYKJPJbm9vP1uTYY9gMGgymcxms8lkwjDM7/evr68npSAUCq1Wq81my83N9Xq9Wq3WZrOl6SpZTWGaVyCWqakpvV4vlUoBAENDQ8fHxwaDIVmR9vZ2j8dTU1Mjl8uVSqXX603fWFKarN01T09P4XA4EgcAQKFQiESi7OzsFKQEAkHcAMdxlUo1MjKSsr04zVAohKJoV1eXRqM5PT2NrWRtj1xfX5eWlkYPNzc3x8bG4mqOjo62t7ejhzAMd3Z2JiLe3Nyck5PjdDo/LqWmmZWVpdfrYRg+OTmxWCzz8/PRJdYSyc/PpygqMp6bm1Or1ff393E1CIIgCMLWGdPUhGEYAECSZEVFRew8a4kUFhZCEDQ9PU3TtEqlUqvVRqNRJBI1NTWxdQrW8fv9Kysrq6ur72bTfJJ/Gm63G0VRFgVJktTpdHd3d3HzAoZhKIoym80YhimVyq2tLY4u2L9AUdTj8ZAkiSCIxWIRCtPd2s/Pz5WVlbW1tWKxGIIgq9UaXRIwDBMIBHZ3d3d2ds7Pz/mZyGfyCwCQl5en0+nq6uq4NsMLkngfoWn69fU1c1Z4QhKJ4Dju8/kyZ4UnsPbvOzExwZYUJ4yOjkYGCSXicDguLy8Jgjg8PJRIJPX19Q0NDX9T/OoklEhbWxsAwG63V1dXl5WVZdgSxwgBAB0dHW63+/HxMRgMyuXy4uLivb09ro1xhoD56aG9h189ND7Ar0QeHh5kMlkKfSYW4Vciw8PD5eXl3HrgUSIulyvSB/24NDk52d/fr1AotFrt4uJiQUHB+Ph4hmzwJRGapgcHBxcWFsLh8B8LcBw/ODi4uroiCGJjY2N5eTlDTviSiMFg6Ovri+1LxqHRaCQSSUlJSWtra1VVlc/nC4VCmXDCi0QwDLu4uBgYGPhvZaRvHG0jAwC6u7vFYvHLywtbZtj8OpEydrudoqhIvzMQCLy9vZ2dnblcrkR+u7S0lP5Xrlh4kUjsQ2FmZubm5mZ2dpYrM7y4a3jFd3iLb2lpcTqdEASxova198j+/n5PTw9BEL29vQ6HgxXN77BH2OVr75FM8Buv8DxBTKQiCgAAAABJRU5ErkJggg==\"></div><div class=\"grid-item\"><img alt=\"Output\" src=\"data:image/png;base64,iVBORw0KGgoAAAANSUhEUgAAAFsAAAAhCAIAAAA57UBpAAAAqHpUWHRSYXcgcHJvZmlsZSB0eXBlIGV4aWYAAHjaVU7bDQMhDPtnio6QFw6Mg66c1A06fs0drVSLOMaKo5T5fp3lsaDWStRs6IAQ0aPboGhyw/lUVIw9tmW/fvm6/XKvELHRmixT95Lvso3wNFRoBjlMMtGpGxUZtZjUxIkD4KDiaRIH+0QmY0hUEx8ruGAz/6cnnP8nL3JzuWqwQDZXRtWTWr1eDq8uHzgAOagcgJMQAAAACXBIWXMAAAsTAAALEwEAmpwYAAAAPHRFWHRTb2Z0d2FyZQBDcmVhdGVkIHdpdGggdGhlIFdvbGZyYW0gTGFuZ3VhZ2UgOiB3d3cud29sZnJhbS5jb21coqaFAAAAIXRFWHRDcmVhdGlvbiBUaW1lADIwMjA6MDY6MjEgMTc6MTU6MjaqsgeCAAADmklEQVRoge2Z3Ss0URzHz2privLSKlli18tqc0Np2xI3QvZG5EZKSVgilgvLaDMhuZC98lJr/QHWtmTSmhsvxXKjNFkvmTTkYpJtY8hmZ56LrW2sx/PY3Vkz5HN15pzTd75955zT9DsSlmXBLxzihDbwhoyMjP7+frlcvry8XF5erlAobm9vv1qT5Q+apmEYRhAEhmEURa+vr1dWVsJSkEql8/PzVqs1KSmJIAidTme1WqN0Fa6mNMovwGVycrKrq0sulwMA+vr6jo6ODAZDuCINDQ1ut7u4uFipVKrVaoIgojcWliZvu+bp6YlhmEAcAACVSpWQkBAfHx+BlEQiCWlgGKbVaoeGhiK2914ThuH29vampian08mdydsauby8zM3NDT6ur6+bTKaQOYeHh5ubm8HHrKys5ubmz4hXVlYmJiY6HI73QxFrmkwmCIKOj4/NZnN1dXWwn7dEUlNTKYoKtM1mc0VFxf39fcgcjUaj0Wj4emOUmhAEdXR0EARhsVi4/bztmvT0dAiCpqamhoeHc3Jy9Hr96urq9vY2X/qxAEGQlpaW2dnZN71RnuRfhsvlMhqNfKkxDEOSJMuyz8/PWq2WOyQFAFAUhSAIiqJqtXpjY0OY7/VPjEaj2+2+urq6u7ubm5uTSqPd7DRNj42N+f1+n883ODjIHZKwLOvxeHZ2dra2tk5PT8WZyFcSBwBISUmpra0tKSkR2owoCONk9Xq9Pp8vdlZEQhiJYBhGkmTsrIgE3v5HxsfH+ZIShJGRkUDjU4nY7fbz83Mcxw8ODmQyWWlpaVlZ2UeK351PJVJfXw8AsNlsRUVFeXl5MbYkMFIAQGNjo8vlenx8pGlaqVRmZmbu7u4KbUwwJOxvDe0t4qqhiQFxJfLw8KBQKCKoM/GIuBIZGBjIz88X1oOIEnE6nYE66PuhiYmJ7u5ulUql0+ksFktaWtro6GiMbIglEa/X29vbu7CwwDDMXydgGLa/v39xcYHj+Nra2tLSUoyciCURg8HQ2dnJrUuGUFVVJZPJsrOz6+rqCgsLSZL0+/2xcCKKRFAUPTs76+np+e/MQN04WD0GALS2tiYnJ7+8vPBlhs/biYix2WwURRUUFAAAPB7P6+vryclJSIn8IxYXF6O/5eIiikS4h8L09PTNzc3MzIxQZkSxa0TFT/iLr6mpcTgcEATxova918je3l5bWxuO43q93m6386L5E9YIv3zvNRIL/gBH0z4KoJ9cUwAAAABJRU5ErkJggg==\"></div><div class=\"grid-item\"><img alt=\"Output\" src=\"data:image/png;base64,iVBORw0KGgoAAAANSUhEUgAAAEUAAAAhCAIAAAAAivEyAAAAqHpUWHRSYXcgcHJvZmlsZSB0eXBlIGV4aWYAAHjaVU7bDQMhDPtnio6QFw6Mg66c1A06fs0drVSLOMaKo5T5fp3lsaDWStRs6IAQ0aPboGhyw/lUVIw9tmW/fvm6/XKvELHRmixT95Lvso3wNFRoBjlMMtGpGxUZtZjUxIkD4KDiaRIH+0QmY0hUEx8ruGAz/6cnnP8nL3JzuWqwQDZXRtWTWr1eDq8uHzgAOagcgJMQAAAACXBIWXMAAAsTAAALEwEAmpwYAAAAPHRFWHRTb2Z0d2FyZQBDcmVhdGVkIHdpdGggdGhlIFdvbGZyYW0gTGFuZ3VhZ2UgOiB3d3cud29sZnJhbS5jb21coqaFAAAAIXRFWHRDcmVhdGlvbiBUaW1lADIwMjA6MDY6MjEgMTc6MTU6MjaqsgeCAAADJUlEQVRYhe2YT0gqQRzHx5ewUIeEAslgMyJLPNVBPNVByPBiUWcvEpkU5npckYREPIQeogzMwEOX/hwiDxZ4LOgSiBghLqLRYSNDSi1pd99hez7Zes90J5Pwc5qdmf3+5rvLzuzvJ2AYBvwgfkHU6u3txTBMIpHs7e2NjY1JpdLb29tGazJ/yOfzOI47HA4cx0OhUCaTOTg4YGpBKBT6fL5AINDZ2UkQhFarDQQCNSnw1xSWjblcLpPJJJFIAADLy8uXl5cWi6XWxzk7O3t1dTUyMtLf3y+XywmCqP2V8NJ881MoFGiaZs0AAGQyWalUam9vryO8QCCobFAUheM4SZI3Nzcej0ehUPDXBADgOH53d5fP5/V6vUaj4fpJJpMDAwPl3uPjY7vdzhG9uLg4OTkpX6Ioqtfrqy6lra3NZDKhKBqNRjc3N9fX1/lrAgDsdjuCINFo1Ov1fuCnu7ubJEm27fV61Wp1NpvlSCiVSqVS+ZlgHFAUBQCkUqmhoSFYmgiCzM/PEwTh9/sr+9/89PT0IAjidrtzuZxKpVKr1RiGdXR0jI+P1xHsPZlMJhgM7u7uQlFjcTgckUhkY2PD7Xb/7eW5/3yGVCql0+nu7+9hCdI0nU6nGYYpFosqlapySMB88XlaLBaHh4dHR0dFIhGCID6fj7/m09MThmEURZVKpZmZmampqfLQl/tpMDD/D5qBlp/m5m2/Xl1d/d518MRms7GN1n7Q3LT8NDctP//m8fFRKpXWkQVCBKYfq9U6ODgIUbAOoPkJh8Nsfv9+yOl0Li4uymQyrVbr9/vFYvHKygqsuBzg+MnlcmazeWtri6bpDyecnp6en58nEolYLHZ0dLSzswMl7nvg+LFYLAsLC5UZO4eJiYmurq6+vr7p6WmFQpFOpymKghKaAwQ/oVDo+vp6aWmp6ky2mlGuaQAADAaDSCR6eXnhvwwWYfUp1djf3ydJkq0NPDw8vL6+xuPxcDj8mXu3t7f51xwrgeCn8mNYW1tj61L8Zevjp52njaiH/J/Jycnn52dYat/5fs7Ozubm5mKxmNFoPDw8hKLZyn+am9/A7l5HYkfcdgAAAABJRU5ErkJggg==\"></div></div></div>"
      ],
      "text/plain": [
       " α\n",
       "----\n",
       "4 m\n",
       "   1\n",
       "    α - m\n",
       "         1\n",
       "1 + ------\n",
       "     4 m\n",
       "        1\n",
       "α - m\n",
       "     2\n",
       "------\n",
       " 4 m\n",
       "    1\n",
       "α - m\n",
       "     3\n",
       "------\n",
       " 4 m\n",
       "    1\n",
       "    α - m  - m\n",
       "         1    2\n",
       "1 + -----------\n",
       "       4 m\n",
       "          1\n",
       "    α - m  - m\n",
       "         1    3\n",
       "1 + -----------\n",
       "       4 m\n",
       "          1\n",
       "α - m  - m\n",
       "     2    3\n",
       "-----------\n",
       "   4 m\n",
       "      1"
      ]
     },
     "execution_count": 792,
     "metadata": {
      "text/html": [],
      "text/plain": []
     },
     "output_type": "execute_result"
    }
   ],
   "source": [
    "cxa = centroidx[al, m1, m2, m3]\n",
    "cx1 = centroidx[al-m1, m1, m2, m3]+1\n",
    "cx2 = centroidx[al-m2, m1, m2, m3]\n",
    "cx3 = centroidx[al-m3, m1, m2, m3]\n",
    "cx12 = centroidx[al-m1-m2, m1, m2, m3]+1\n",
    "cx13 = centroidx[al-m1-m3, m1, m2, m3]+1\n",
    "cx23 = centroidx[al-m2-m3, m1, m2, m3]"
   ]
  },
  {
   "cell_type": "code",
   "execution_count": 778,
   "metadata": {
    "ExecuteTime": {
     "end_time": "2020-06-21T17:14:13+08:00",
     "start_time": "2020-06-21T09:14:12.785Z"
    }
   },
   "outputs": [
    {
     "data": {
      "text/html": [
       "<style>\n",
       "\t\t\t\t\t\t\t\t\t\t\t\t\t.grid-container {\n",
       "\t\t\t\t\t\t\t\t\t\t\t\t\t\tdisplay: inline-grid;\n",
       "\t\t\t\t\t\t\t\t\t\t\t\t\t\tgrid-template-columns: auto;\n",
       "\t\t\t\t\t\t\t\t\t\t\t\t\t}\n",
       "\t\t\t\t\t\t\t\t\t\t\t\t</style>\n",
       "\n",
       "\t\t\t\t\t\t\t\t\t\t\t\t<div><div class=\"grid-container\"><div class=\"grid-item\"><img alt=\"Output\" src=\"data:image/png;base64,iVBORw0KGgoAAAANSUhEUgAAAB4AAAAgCAIAAACKIl8oAAAAqHpUWHRSYXcgcHJvZmlsZSB0eXBlIGV4aWYAAHjaVU/bDQMhDPtnio6QFw6Mg66c1A06fs0drVSL2MZKIijz/TrLY0GtlajZ0AEhoke3QdPkhvOoqBg1dmQ/vXLdeblXiNhoTVaoe8l32UZ4Gio0gxwmmej0jY6MWkxq4sQBsFHxNImDOpHJMSSqiY81uGAz/7snnPcnX+TmctVggWyuHFVPevW4mF8oHzfgOaL697poAAAACXBIWXMAAAsTAAALEwEAmpwYAAAAPHRFWHRTb2Z0d2FyZQBDcmVhdGVkIHdpdGggdGhlIFdvbGZyYW0gTGFuZ3VhZ2UgOiB3d3cud29sZnJhbS5jb21coqaFAAAAIXRFWHRDcmVhdGlvbiBUaW1lADIwMjA6MDY6MjEgMTc6MTQ6MTI+Tvc9AAACE0lEQVRIie2Wv6/pYBjH314ViWiKnIUEMTSIQWrmH7BY/AFGkZCw0s1AQoRFGToIEnaDRWKQGCQSAxGNiB9Lo1FExND0Dkfcc849t20udzg35zs9fd6nn/fp27fvt5AgCODfCJZT1Ol0ut2uTqdjWTaVSpXL5Wg0+gT0arUaDAaZTAYAMJlM0un0y8uLnIaAICWCII7H4/3S5XKdz2fJuwRB+CE59+l0QhDkNe73+yaTSa1Wy2laGg3D8PV6BQAwDFOr1dxutxwuAACS3CE0TVcqFb1ev9/vCYKo1+scx8XjcaVS+Sj6ryW9IN/oL4C+feipVOpZxGQy+Rp8b77/FV0sFiEIOhwOT0bTNN1sNuX6iLje+gLP8x6Pp9froSjKcdwH1zAajbFYzGAwtFotr9drsVi2262Iy7xD53K5UCgkCIJGo/kdDcMwSZIURaEoulgsfD4fRVEi6F+2O5vNyuXycDgUecRAIDCdTnEct1qtDodjsViIFN/QPM8Hg8FCoXC3wT8JgqC3Ac/ziUSCYZjNZpPP551O573y9hrH4/Fut4tEIhiGYRh2Pp9xHG+32+LTAAAUCkU4HKYoKpvNlkqlT7rGcXw+n9+zCIKMRiMURSXRAACz2QwAWC6XNpvtE/SDWq/X1Wq10Wi8y4r/psjRcrn0+/0sy37IP3qoXi4Xu93udru1Wq1KpSJJ8j70Nc/rn90F1qKAs2kHAAAAAElFTkSuQmCC\"></div><div class=\"grid-item\"><img alt=\"Output\" src=\"data:image/png;base64,iVBORw0KGgoAAAANSUhEUgAAACkAAAAhCAIAAADLURXMAAAAqHpUWHRSYXcgcHJvZmlsZSB0eXBlIGV4aWYAAHjaVU/bDQMhDPtnio6QFw6Mg66c1A06fs0drVSL2MZKIijz/TrLY0GtlajZ0AEhoke3QdPkhvOoqBg1dmQ/vXLdeblXiNhoTVaoe8l32UZ4Gio0gxwmmej0jY6MWkxq4sQBsFHxNImDOpHJMSSqiY81uGAz/7snnPcnX+TmctVggWyuHFVPevW4mF8oHzfgOaL697poAAAACXBIWXMAAAsTAAALEwEAmpwYAAAAPHRFWHRTb2Z0d2FyZQBDcmVhdGVkIHdpdGggdGhlIFdvbGZyYW0gTGFuZ3VhZ2UgOiB3d3cud29sZnJhbS5jb21coqaFAAAAIXRFWHRDcmVhdGlvbiBUaW1lADIwMjA6MDY6MjEgMTc6MTQ6MTI+Tvc9AAACqElEQVRIie2WTUsqURjHj9dJISEQBV8SXxCNCAQ3MriwhdTCXeI6kHChDNjYxkAkUFMXoqAYwoAfwBYhCqkfwJiNG0lElAhxIVJIMEiUcxeKN+aWTt3Je+H6Xz1z5s/5PeecmfM8LJIkwV/SDwbn2tzc9Hg8Uqk0l8uZTCalUtnr9eb4WbN1EwRxfn7O4XCen5+NRqNOp8Nx3Gq10mevra2lUikOh4OiaK1WQxDEZrPZ7faP/NAsCofDLpdLKpUCAI6Pj2u1Goqi9MET2Wy2RqOh1+tVKtX29nan05ljnu45QRDj8XgCBgBotVoej7e+vv5ZNgCAxWJRgkqlAsPw6ekpxTldd7vdVqvVs9FCoeD3+ylWHMfL5fLsUS6XHx4e0slmb29vY2Pj6urqfbZQKOz3+5M4kUiYzeaHhweK1WAwGAwGOjCamrIlEgmXy41Go8PhEIZhs9ns8Xh4PN7u7i6DMKrIpejm5sbr9VIGocXZ/bG8Xm+j0bi7uxsMBhcXFxA0hf76v5cvJu+1FZuepsceDAaXhvT5fJNg9a2t2P8O++npSalUfqGPYIB9cnKi0WgYBy9ml0qlTqdjsVh+fxUKhRAE0Wq1FosFwzCRSHR2dsYYezgcut3uTCYzHo/fNVQqlWq12mq16vV6Pp/PZrOMsVEUdTqdb3spivb39wUCgUKhODg42NnZub+/f319pc/+sH4Xi8Vms4lh2MIpJj3hrDPEcTyZTBIEodFoIpHIV9iXl5f9fn9rawsA8Pj4+PLycnt7WyqVFqYik8my2SwEQVardTAYCIXCT7PfHl4sFut2u/F4fCEYADBptEmSHI1GfD5/jvO77pZgMHh0dMRms+d4vqWOBQIBsVjscDjm25hfdzqdxjCsWq3a7fbr6+s5zv+1fv8ERAdqD9D1JqgAAAAASUVORK5CYII=\"></div><div class=\"grid-item\"><img alt=\"Output\" src=\"data:image/png;base64,iVBORw0KGgoAAAANSUhEUgAAAD8AAAAhCAIAAADh4eRjAAAAqHpUWHRSYXcgcHJvZmlsZSB0eXBlIGV4aWYAAHjaVU/bDQMhDPtnio6QFw6Mg66c1A06fs0drVSL2MZKIijz/TrLY0GtlajZ0AEhoke3QdPkhvOoqBg1dmQ/vXLdeblXiNhoTVaoe8l32UZ4Gio0gxwmmej0jY6MWkxq4sQBsFHxNImDOpHJMSSqiY81uGAz/7snnPcnX+TmctVggWyuHFVPevW4mF8sHzfkOaMRaGA0AAAACXBIWXMAAAsTAAALEwEAmpwYAAAAPHRFWHRTb2Z0d2FyZQBDcmVhdGVkIHdpdGggdGhlIFdvbGZyYW0gTGFuZ3VhZ2UgOiB3d3cud29sZnJhbS5jb21coqaFAAAAIXRFWHRDcmVhdGlvbiBUaW1lADIwMjA6MDY6MjEgMTc6MTQ6MTNJScerAAADd0lEQVRYhdWYTUgqURiGj6kT1UoUKpNppDRCiIKQKLKFIORGEjdtAomgTKjRZRFB9reIgqQIBoQWbZIWUZC5bGHNRgjpl8QsWgz9MFRTDKl3MRfxem/jKDPmfVdnznnPy8PHMHO+I0qlUuC/VdlPA/yhuro6l8ulVCq3t7cNBgOCIA8PDyx+EY+1pyhqbm4OgiCapjs7O1taWnAct1qt3BOkUqnX64UgCEXRcDjsdDptNpvdbv/OL+ED+7fm5+cdDodSqQQAjI+Ph8NhFEXzDbHZbOfn521tbWq1urm5ORqNsph5o6coKplMMugAAK1WS9N0ZWVlAVEikShzkEgkJiYmCIK4v79fXl7W6XRpJ2/0Nzc3DQ0N6ce9vb2pqaksD47jh4eH6UcYhgcGBnImi8Vih8MBw/Dp6en6+rrX600v8UavUCgIgmDGKysrRqPx+fk5y6PX6/V6fQHhMAwDAGKxWFNTU+Y8b/S1tbXl5eWLi4skSXZ0dBiNRpfLVVVV1dPTw0v+3d3d5ubm1tbWH7Op/0GxWMxisTw9PWXNlwEACIIYHR1FEKS3t5eXOvGrj48Pg8EgEoncbvfw8HDmkgQAIJVKTSYTBEEXFxc/RMimioqK29vbfy6VAQBkMpnFYmlvby8uFQ/K46RAkiRN08KhFKA86IPBYDweFw6lAPH2xfR4PHxF5dTk5CQz4ES/s7NzdXUViUROTk7kcnlXV1d3d/d3icUUJ3rmnOj3+1tbWxsbGwVGykMSAEB/f//x8fHb29v7+7tarVapVEdHRz8Nxkl8nu+Lr9LqrfJVMehfX18RBCmgU8mpYtC73W6NRiNEsuD0gUAgGo2azea/l2ZnZ51Op1arNZvNGIZVV1dPT0/nFS4sPUmSY2NjGxsbyWTyn4ZgMBgKha6vryORyO7urs/nyytfWHoURUdGRjI7xiyZTCa5XF5fX9/X16fT6eLxeCKR4J7P551Clvb39y8vLzEMy+lkuu90M47j+OrqKkVRGo1mYWGBZaOA9H6/nyAIphN9eXn5+vo6OzsLBAI5N6pUKp/PJ5FIrFbr4+OjQqH4zikgfeZLvLS0xNxncNnIXKukUqnPz0+ZTMbiLN2/lcfjGRwcFIvFLJ4SPSnMzMzU1NQMDQ2x20qx9mtraxiGhUIhu91+cHDA4izR2nNUKdaeu34BtIDw6DCAfjwAAAAASUVORK5CYII=\"></div><div class=\"grid-item\"><img alt=\"Output\" src=\"data:image/png;base64,iVBORw0KGgoAAAANSUhEUgAAACkAAAAhCAIAAADLURXMAAAAqHpUWHRSYXcgcHJvZmlsZSB0eXBlIGV4aWYAAHjaVU/bDQMhDPtnio6QFw6Mg66c1A06fs0drVSL2MZKIijz/TrLY0GtlajZ0AEhoke3QdPkhvOoqBg1dmQ/vXLdeblXiNhoTVaoe8l32UZ4Gio0gxwmmej0jY6MWkxq4sQBsFHxNImDOpHJMSSqiY81uGAz/7snnPcnX+TmctVggWyuHFVPevW4mF8sHzfkOaMRaGA0AAAACXBIWXMAAAsTAAALEwEAmpwYAAAAPHRFWHRTb2Z0d2FyZQBDcmVhdGVkIHdpdGggdGhlIFdvbGZyYW0gTGFuZ3VhZ2UgOiB3d3cud29sZnJhbS5jb21coqaFAAAAIXRFWHRDcmVhdGlvbiBUaW1lADIwMjA6MDY6MjEgMTc6MTQ6MTNJScerAAACyElEQVRIie2Wz0sqURTHry91oF0klBZliUYIQpshWrQRCtwproUhxAxBJxdBhiT+qBaRYAjBgH9AbpSCzJUrYTaCiBLiLCRcqCgSjjLkzFsoPt88NYup9+D1XZ2558v93Ms9c+/hMQwD/pJ+cDjXwsLC4eGhRCK5vb3d3t6WSqWlUmmMn9ffN0mSPp9PKBRSFLW1taVSqXAc1+l0k7MFAsH19bVQKERRNJVKWSwWvV6PIMgoP78fnZ2dHRwcSCQSAIDNZkulUiiKTg7uSq/X53K5jY2NlZWV9fV1giDGmHtskiRpmu6CAQAKhYKiqOnp6feyAQA8Ho8VOByOSqXSbDYNBsPu7i6bXSgUZDJZf/Tu7s7pdLImxXH88fGx/7m0tGQwGCZZjdPphCAonU77/f4hbJFIVC6Xu7Hf71er1bVajTUFDMMwDE8CYwmCIJPJRBAEhmGD4706F4vFEARdXFwcHx+vrq7u7+9HIpFEIvEB0lC5XC4EQYLB4G+jzCeLpuliscgwTKvV2tzcHEzxRyyUMzWbTbfb3el0KIo6OjoaTP36v79eXN5r3+zJ1Ks1j8fzZciTk5Nu8F1r3+x/h/3y8iKVSj/QR3DAttvtcrmcc/Db7FgsRhCERqP5M+X1ei0Wi0Kh0Gg0GIbNzc2dnp5yxm40Glar9ebmhqbpoYZ4PJ5MJvP5fCaTiUajoVCIMzaKomazebCXYmlnZ2d2dnZ5eVmr1SqVymKx2Ol0JmePfL/v7++fnp5YXc5QdXvCfmeI43ggECBJUi6Xn5+ff4QdDofL5fLa2hoAoF6vv76+ZrPZWCz25lIWFxdDoRCfz9fpdNVqVSQSvZs9eHiXl5fPz89XV1dvggEA3UabYZh2uz0zMzPG+Vl3i8fj2dvbm5qaGuP5lHfM7XbPz88bjcbxNu73HQwGMQxLJpMIgjw8PIxx/q/v909k4YAmoPvMqAAAAABJRU5ErkJggg==\"></div><div class=\"grid-item\"><img alt=\"Output\" src=\"data:image/png;base64,iVBORw0KGgoAAAANSUhEUgAAAFsAAAAhCAIAAAA57UBpAAAAqHpUWHRSYXcgcHJvZmlsZSB0eXBlIGV4aWYAAHjaVU/bDQMhDPtnio6QFw6Mg66c1A06fs0drVSL2MZKIijz/TrLY0GtlajZ0AEhoke3QdPkhvOoqBg1dmQ/vXLdeblXiNhoTVaoe8l32UZ4Gio0gxwmmej0jY6MWkxq4sQBsFHxNImDOpHJMSSqiY81uGAz/7snnPcnX+TmctVggWyuHFVPevW4mF8sHzfkOaMRaGA0AAAACXBIWXMAAAsTAAALEwEAmpwYAAAAPHRFWHRTb2Z0d2FyZQBDcmVhdGVkIHdpdGggdGhlIFdvbGZyYW0gTGFuZ3VhZ2UgOiB3d3cud29sZnJhbS5jb21coqaFAAAAIXRFWHRDcmVhdGlvbiBUaW1lADIwMjA6MDY6MjEgMTc6MTQ6MTNJScerAAADxUlEQVRoge2ZTUgyQRzGx9cFIaEShcrElNKSLhUhQlQHyYMXSbp0CSo6JEFplw0jkozqEAVFGohChy5ZRCRlXqIOmpcgLPsgWTQ6LJVIaRHpvgdBzPcrdcwV3t9pdmb22YdnZ2eX/1IIggD/SeJHvg18orKyUqPRsNnsjY2NtrY2Ho93f3//3ZoEPMLhsFar1el0Wq3WZrMFAoHNzc20FBAEMRqNZrO5pKTE5/PJ5XKz2Zylq3Q1kSzvQDIzMzMqlYrNZgMARkZGTk9P1Wp1uiJdXV1er7exsZHP54tEIp/Pl72xtDShPTWRSCQWi8XjAAAIhUI6nV5UVJSBFIVCSWk4HA6JRDI2NpaxvRTNaDSKomhfX59MJjs/P0+eCW2N3N7eVldXJw53d3cnJiZS5rjd7oODg8Qhl8vt6en5inhHR0dxcfH29vavQ5lpUqlUlUrF5XLPzs4MBsPy8nJiCFoiLBYLx/F4e3FxUSqVPj09pcwRi8VisRjWFbPU5HK5AAAMw2pra5P7oSVSUVFBo9Hm5uZCoZBEIpFKpRqNhk6nt7e3w7oEdAKBwNra2vr6+qfeLHfyb8PlcqEoClEQwzCFQvH4+JjSTyEIAsdxnU5ns9lEItHe3l6ebtjfQFHU6/ViGCYWiw0GA4Jku7RfX1/r6uqamppKS0tpNJrRaEwMUQiCCAaDR0dHh4eHl5eX5EzkO/kBAGAwGAqForm5Od9mSEEa3yOhUOj9/T13VkhCGok4HA6/3587KyQB2ttXr9fDksoL4+Pj8caXEtna2rq+vvZ4PCcnJ0wms6WlpbW19U+Khc6XElEqlQAAq9Xa0NBQU1OTY0t5BgEAdHd3u1yul5eXcDjM5/M5HM7x8XG+jeUNCvG/hvYZctXQyAC5Enl+fubxeBnUmSBCrkRGR0cFAkF+PZAoEbvdHq+D/jo0PT09NDQkFArlcrnJZCorK5ucnMyRDbIkEgqFhoeHV1dXY7HYbyc4HA6n03lzc+PxeHZ2diwWS46ckCURtVo9ODiYXJdMQSaTMZnMqqqqzs7O+vp6v98fjUZz4QRmLT5jbDbb1dWVyWT658x43ThRRna73UtLS5FIRCAQzM7OQjFDikSsViuO4/F6ZzAY/Pj4uLi4sNvt/zyRw+FYLBYEQZRK5cPDA4vFyt4MKRJJ3hTm5+fv7u4WFha+cmL8ZwhBEG9vbwwGA4oZsuwj2aDX6/v7+6lUKhS1gv+Kn5qaKi8vHxgYgCVY2GtkZWXFZDI5nc7e3t79/X0omgW/RqBT2GskF/wE349MURvZ2UgAAAAASUVORK5CYII=\"></div><div class=\"grid-item\"><img alt=\"Output\" src=\"data:image/png;base64,iVBORw0KGgoAAAANSUhEUgAAAEUAAAAhCAIAAAAAivEyAAAAqHpUWHRSYXcgcHJvZmlsZSB0eXBlIGV4aWYAAHjaVU/bDQMhDPtnio6QFw6Mg66c1A06fs0drVSL2MZKIijz/TrLY0GtlajZ0AEhoke3QdPkhvOoqBg1dmQ/vXLdeblXiNhoTVaoe8l32UZ4Gio0gxwmmej0jY6MWkxq4sQBsFHxNImDOpHJMSSqiY81uGAz/7snnPcnX+TmctVggWyuHFVPevW4mF8sHzfkOaMRaGA0AAAACXBIWXMAAAsTAAALEwEAmpwYAAAAPHRFWHRTb2Z0d2FyZQBDcmVhdGVkIHdpdGggdGhlIFdvbGZyYW0gTGFuZ3VhZ2UgOiB3d3cud29sZnJhbS5jb21coqaFAAAAIXRFWHRDcmVhdGlvbiBUaW1lADIwMjA6MDY6MjEgMTc6MTQ6MTNJScerAAADIklEQVRYhe2YwUsqURTGx9fAgEEhCamFmaERrdyIKzdhgTulnRCIVBZBmYusEVE0yoUoBFYw6B9gQkVC6qqV4UaQSCIawqKFiBGhieRMC33iGw3Uue8lD3+rO/fOfOd8c2fuzLkMkiSh/4hfALVGRkY2Nzd5PF4gEJDL5QKB4OXl5V9rkr/J5/MoitpsNhRFQ6HQ09NTMBgk2wGG4aOjI5/PNzg4iOO4Uqn0+XxtKdDXhGvG9vb2VldXeTweBEEbGxuJRMJgMLR7O+fn51OplEQiGR8fn5qawnG8/SmhpVl93gqFAkEQFTMQBInF4v7+fiaT2UF4BoNBaUSjUZlMtr293YHad5ooii4tLWk0mnA4XH9mdX4eHh4mJiZqvRcXFxaLhSIaj8cjkUjtkM/nLywstJKNQqEYGBg4PT1tHOpY02KxIAiSTCY9Hs/c3Fytv+qHzWZnMplK2+PxzMzM5HI5ioRUKpVKpa0Ea52ONREEWV5exnEcw7D6/urzxuVyEQRxOp07OztCoVCv15+dnV1dXQFI+a9hs9m0Wq3X6/2jl+b60yLX19cmkwmUGkEQ6XSaJMmPjw+ZTFY/BH9jHiQmkymVSj0+Pmaz2cPDQximGzSfz9vt9nK5XCqVtra26ocYZO//oJvp+eluqq+mw+H42TxoYjabK43eetDd9Px0Nz0/3/P+/i4QCDqoAgEC0o/RaBSJRAAFOwCYn3A4XKnvG4d2d3fX1tbEYrFSqcQwbHh42Gq1gopLAYyft7e39fX14+NjgiCanhCNRmOx2P39/c3Nzfn5ud/vBxK3ETB+DAbDyspKfcVOYXZ2dmhoaGxsTKVSTU9Pp9PpcrkMJDQFAPVPKBS6u7uj1L1Nqexm1PY04vH4wcFBoVAQiUT7+/v0M4GA+Dk5OclkMpOTkxAEvb6+fn5+3t7eUrZdmjI6Our3+2EYVqvV2WyWzWbTTwaAn/qXweVyPT8/u93uVi6sbI+RJFksFlksFv1MoG74njocDp1O19fXB0Tth/+v7XY7h8NZXFwEJfiT8+P1ejEMi8ViWq328vISiGav/uluvgDS8oyd1dwGGgAAAABJRU5ErkJggg==\"></div><div class=\"grid-item\"><img alt=\"Output\" src=\"data:image/png;base64,iVBORw0KGgoAAAANSUhEUgAAAFsAAAAhCAIAAAA57UBpAAAAqHpUWHRSYXcgcHJvZmlsZSB0eXBlIGV4aWYAAHjaVU/bDQMhDPtnio6QFw6Mg66c1A06fs0drVSL2MZKIijz/TrLY0GtlajZ0AEhoke3QdPkhvOoqBg1dmQ/vXLdeblXiNhoTVaoe8l32UZ4Gio0gxwmmej0jY6MWkxq4sQBsFHxNImDOpHJMSSqiY81uGAz/7snnPcnX+TmctVggWyuHFVPevW4mF8sHzfkOaMRaGA0AAAACXBIWXMAAAsTAAALEwEAmpwYAAAAPHRFWHRTb2Z0d2FyZQBDcmVhdGVkIHdpdGggdGhlIFdvbGZyYW0gTGFuZ3VhZ2UgOiB3d3cud29sZnJhbS5jb21coqaFAAAAIXRFWHRDcmVhdGlvbiBUaW1lADIwMjA6MDY6MjEgMTc6MTQ6MTNJScerAAAD5UlEQVRoge2ZTUgqXwDFr09hoBYlCpWJKaUlbipChKgWQoEby9q0ESIikqC05YQkGeUiEgozEIUWbbIWkZQJEbWw3AQifZLIGC2mD5H8CEnnvxD8+3rv8TKvOcL7re7MvXM4nLnMDGcoBEGAf2Txo9gGfqK2tlaj0bBYrM3Nzc7OTi6X+/Dw8N2aBDyi0SiKojqdDkVRh8MRDAa3trZyUqDRaGaz2Wq1VlRU+P1+mUxmtVrzdJWrJi3PO5DN/Py8SqVisVgAgMnJyfPzc7VanavIwMDA5eVlS0sLj8cTCoV+vz9/YzlpQkskFoulUql0HAAAgUCQSCTKysq+IEWhULIHyWQSRVEcx+/v75eWlkQiUf6aAAAURR8fH6PRqFKp7OnpyayElsjd3V19fX3mcHd3V6vVfljj8XgODg4yhxwOR6lU/lWZSqWqVCoOh+P1eldXV1dWVvLXBABotVoEQbxer9FoLEgiTCYTx/H02Gg0SqXSl5eXD2vEYrFYLP6COIfDAQAEAoHGxkZYmgiCjI6O+v1+i8WSfR5aIjU1NQiCGAyGcDgskUikUqlGoykvL+/q6oKiHwwG19fXNzY2oKil0el0h4eHJpPJYDD8fzbPJ/n3EAgE5HL58/MzLMFUKoVhGEEQ8XhcIpFkT1EIgsBxXKfTORwOoVC4t7cH8SZAIR6PNzU1tba2VlZWIghiNpvz14xEIhqNJplMJhKJ/v7+3t7ezBSFIIhQKHR8fHx0dHR1dUXCRL6ZHwAAOp0ul8vb2tqKbYYU5PAVHw6HE4lE4ayQhBwScblcGIYVzgpJgPb21ev1sKSKwvT0dHrwqUS2t7dvbm58Pt/Z2RmDwWhvb+/o6PiTYqnzqUQUCgUAwG63Nzc3NzQ0FNhSkaEBAAYHB09PTyORSDQa5fF4bDb75OSk2MaKBoX416H9DLk6NDJArkReX1+5XO4XeiaIkCuRqakpPp9fXA8kSsTpdKZ70F+n5ubmxsfHBQKBTCazWCxVVVUzMzMFskGWRMLh8MTExNraWiqV+u0Cl8vldrtvb299Pt/Ozo7NZiuQE7Ikolarx8bGsnvJD3R3dzMYjLq6ur6+PpFIhGFYMpkshBOYXfyXcTgc19fXH9q935LujTPtscfjWV5ejsVifD5/YWEBihlSJGK323EcT3eooVDo/f394uLC6XT+9UI2m22z2Wg0mkKheHp6YjKZ+ZshRSLZD4XFxcX0X4jPXJj+GUIQxNvbG51Oh2KGLM+RfNDr9cPDw1QqFYpayX/Fz87OVldXj4yMwBIs7T1iMpksFovb7R4aGtrf34eiWfJ7BDqlvUcKwX8VNWnM6/djUAAAAABJRU5ErkJggg==\"></div></div></div>"
      ],
      "text/plain": [
       " α\n",
       "----\n",
       "4 m\n",
       "   2\n",
       "α - m\n",
       "     1\n",
       "------\n",
       " 4 m\n",
       "    2\n",
       "    α - m\n",
       "         2\n",
       "1 + ------\n",
       "     4 m\n",
       "        2\n",
       "α - m\n",
       "     3\n",
       "------\n",
       " 4 m\n",
       "    2\n",
       "    α - m  - m\n",
       "         1    2\n",
       "1 + -----------\n",
       "       4 m\n",
       "          2\n",
       "α - m  - m\n",
       "     1    3\n",
       "-----------\n",
       "   4 m\n",
       "      2\n",
       "    α - m  - m\n",
       "         2    3\n",
       "1 + -----------\n",
       "       4 m\n",
       "          2"
      ]
     },
     "execution_count": 778,
     "metadata": {
      "text/html": [],
      "text/plain": []
     },
     "output_type": "execute_result"
    }
   ],
   "source": [
    "cya = centroidy[al, m1, m2, m3]\n",
    "cy1 = centroidy[al-m1, m1, m2, m3]\n",
    "cy2 = centroidy[al-m2, m1, m2, m3]+1\n",
    "cy3 = centroidy[al-m3, m1, m2, m3]\n",
    "cy12 = centroidy[al-m1-m2, m1, m2, m3]+1\n",
    "cy13 = centroidy[al-m1-m3, m1, m2, m3]\n",
    "cy23 = centroidy[al-m2-m3, m1, m2, m3]+1"
   ]
  },
  {
   "cell_type": "code",
   "execution_count": 785,
   "metadata": {
    "ExecuteTime": {
     "end_time": "2020-06-21T17:15:19+08:00",
     "start_time": "2020-06-21T09:15:18.751Z"
    }
   },
   "outputs": [
    {
     "data": {
      "text/html": [
       "<style>\n",
       "\t\t\t\t\t\t\t\t\t\t\t\t\t.grid-container {\n",
       "\t\t\t\t\t\t\t\t\t\t\t\t\t\tdisplay: inline-grid;\n",
       "\t\t\t\t\t\t\t\t\t\t\t\t\t\tgrid-template-columns: auto;\n",
       "\t\t\t\t\t\t\t\t\t\t\t\t\t}\n",
       "\t\t\t\t\t\t\t\t\t\t\t\t</style>\n",
       "\n",
       "\t\t\t\t\t\t\t\t\t\t\t\t<div><div class=\"grid-container\"><div class=\"grid-item\"><img alt=\"Output\" src=\"data:image/png;base64,iVBORw0KGgoAAAANSUhEUgAAAB4AAAAgCAIAAACKIl8oAAAAqHpUWHRSYXcgcHJvZmlsZSB0eXBlIGV4aWYAAHjaVU7bDQMhDPtnio6QFw6Mg66c1A06fs0drVSLOMaKo5T5fp3lsaDWStRs6IAQ0aPboGhyw/lUVIw9tmW/fvm6/XKvELHRmixT95Lvso3wNFRoBjlMMtGpGxUZtZjUxIkD4KDiaRIH+0QmY0hUEx8ruGAz/6cnnP8nL3JzuWqwQDZXRtWTWr1ezOvKBzgCOak9geMfAAAACXBIWXMAAAsTAAALEwEAmpwYAAAAPHRFWHRTb2Z0d2FyZQBDcmVhdGVkIHdpdGggdGhlIFdvbGZyYW0gTGFuZ3VhZ2UgOiB3d3cud29sZnJhbS5jb21coqaFAAAAIXRFWHRDcmVhdGlvbiBUaW1lADIwMjA6MDY6MjEgMTc6MTU6MThmJ3lGAAACDElEQVRIie2Wu6viQBTGJ0tEEENQbBRELK0kVhZaC9pai1baKGhj4QPEFFoIPkCMiJUW+h/YCBaChSCkUMSQImDjA18EUYizhRfX695N5K5b3OV+1ZkzM7+ZDGfmCwIhBP9G6DODOp1Ot9tVqVTr9ZokSYqiQqHQC9Acxw0Gg2w2CwAYj8eZTEaj0TyzIQCllEgk9vv9rWk2m3mel5wFIfwhufbhcMAw7Br3+329Xq9QKJ7ZtDQaRdHT6QQAWCwWjUbDYrE8wwUAIJIVwjBMtVpVq9WbzSaRSDSbze12G4lEZDLZ36I/LekD+UZ/AfTbRSdJ8lXEeDx+Db6L739FF4tFBEF2u92L0QzDtFqtZ31EXPe+IAiCzWbr9Xo4jm+32wfX0Ol04XBYq9W222273W4wGObzuYjLvEPncrlAIAAhVCqVv6NRFK1UKvV6HcdxlmWdTme9XhdB/7Ld6XRKUdRwOBT5RLfbPZlMCIIwGo0mk4llWZHBb2hBELxeb6FQuNngn4QgyEMQi8WWyyXP8x6Px+FwPKJpml6tVsFg8NrkeZ4giFKp5HK5xFcCACSTSblcTtN0Pp//AE0QxGw2u2UxDBuNRjiOS3IBAHK53O/3syxbq9Xu86+5MqlUyufzlcvld1nx3xRJXS4XjuMghMfj0Wq1flwhnxPP8+l0WhCE8/kcjUbvu77me/0TawPWAyGxLg8AAAAASUVORK5CYII=\"></div><div class=\"grid-item\"><img alt=\"Output\" src=\"data:image/png;base64,iVBORw0KGgoAAAANSUhEUgAAACkAAAAhCAIAAADLURXMAAAAqHpUWHRSYXcgcHJvZmlsZSB0eXBlIGV4aWYAAHjaVU7bDQMhDPtnio6QFw6Mg66c1A06fs0drVSLOMaKo5T5fp3lsaDWStRs6IAQ0aPboGhyw/lUVIw9tmW/fvm6/XKvELHRmixT95Lvso3wNFRoBjlMMtGpGxUZtZjUxIkD4KDiaRIH+0QmY0hUEx8ruGAz/6cnnP8nL3JzuWqwQDZXRtWTWr1ezOvKBzgCOak9geMfAAAACXBIWXMAAAsTAAALEwEAmpwYAAAAPHRFWHRTb2Z0d2FyZQBDcmVhdGVkIHdpdGggdGhlIFdvbGZyYW0gTGFuZ3VhZ2UgOiB3d3cud29sZnJhbS5jb21coqaFAAAAIXRFWHRDcmVhdGlvbiBUaW1lADIwMjA6MDY6MjEgMTc6MTU6MThmJ3lGAAACtUlEQVRIie2WT0jyYBzHn71sixp4KZAM0hCNCoIuMgrqIBZ4K3cOPBqD2gIxiOhglgdRSJBAyFuHOkTUwXbxpgxkO4QikcSKHUYUEniQ2t6D4ht7a6733dv7wuv39NuzL8/n+bM9zxdSFAX8JX0zsK+hoSGapi0Wy/Hx8ezsrM1mE0VRww+1512v1yORCIqijUZjenp6cnKSZdmlpSX9bARBkskkiqIURXEcR5IkQRB+v/8jP9yudnd3V1ZWLBYLAGBtbY3jOIqi9IObIgiiXC5PTU2NjIyMjY1Vq1UNc2vN6/W6LMtNMADA6XRiGNbX1/dZNgAAgiBVwTAMjuMbGxsqZ2veNzc3dru93Xp+fr61taWysix7eXnZfhweHl5eXtYzGo/HYzKZTk9P32cPDAxIktSsE4mE2+1+fHxUWV0ul8vl0gPTqRZ7cHCwp6cnGo3WajUcx91uN03TGIbNzc0ZCFNL+RIVCoVQKKRqhDuP7rcVCoXK5fLt7e3Dw0MqlYLhFvTH//31MvJc67L1qbXt4XD4y5Cbm5vNovutddn/Dvv5+dlms/1CjjCAvb6+7nA4DAd3Zmez2Wq16vV6f361s7NDkqTT6fR6vel02mw2b29vG8au1Wqrq6sHBweyLL9rYBgmn89fX19fXV2dnZ0dHh4axqYoKhAIvM1SKs3Pz/f391ut1sXFxYmJCUEQXl9f9bM/vL8vLi4qlUo6ne7YRTMTtpMhz/PxeBxBEBiG9/f3EQT5NPvk5ESSpNHRUQDA09PTy8tLqVTKZrMdhzI+Pp7JZCAI8vl8oihardZPs99uXiwWu7+/j8fjHcEAABRFc7lcOBxeWFjQAIM/dLbMzMxEo1Ge5+/u7rR8hsdCQRBkWVYUZW9v7+joSMNpfFYsFovBYLC3txdBEJIkNZz/6/39Hf1C2Fm+T7/3AAAAAElFTkSuQmCC\"></div><div class=\"grid-item\"><img alt=\"Output\" src=\"data:image/png;base64,iVBORw0KGgoAAAANSUhEUgAAACkAAAAhCAIAAADLURXMAAAAqHpUWHRSYXcgcHJvZmlsZSB0eXBlIGV4aWYAAHjaVU7bDQMhDPtnio6QFw6Mg66c1A06fs0drVSLOMaKo5T5fp3lsaDWStRs6IAQ0aPboGhyw/lUVIw9tmW/fvm6/XKvELHRmixT95Lvso3wNFRoBjlMMtGpGxUZtZjUxIkD4KDiaRIH+0QmY0hUEx8ruGAz/6cnnP8nL3JzuWqwQDZXRtWTWr1ezOvKBzgCOak9geMfAAAACXBIWXMAAAsTAAALEwEAmpwYAAAAPHRFWHRTb2Z0d2FyZQBDcmVhdGVkIHdpdGggdGhlIFdvbGZyYW0gTGFuZ3VhZ2UgOiB3d3cud29sZnJhbS5jb21coqaFAAAAIXRFWHRDcmVhdGlvbiBUaW1lADIwMjA6MDY6MjEgMTc6MTU6MThmJ3lGAAAC2UlEQVRIie2WTUgqURTH77yckXITGIQGoyLahyDYQqIgF0KCm/BjHbRMBmwM3CTSwkoXoZBQgZC4sEWtpBbWpl0giCJhiCSi4mLAQgQFyZm3GDGfvkaL8b0Hr//qzDmH87vzce/8IYqiwF/SDxZnzczM2Gw2oVB4eXm5uroqFovL5TJDP9S573q9fnBwgCBIs9lcXl5WKpWxWMxoNA7PhmHY7/cjCILjeCKRwDDMbDZvbm5+1M/pRIeHhxaLRSgUAgC2t7cTiQSO48ODaZnN5qenJ5VKJZFI5ufnc7kcQ3ObXa/XSZKkwQAAuVzebDYnJiY+ywYAQBDUHbRard3dXYIgSqWS1+tVKBS97OfnZ6lU2sleX187nc6eobFY7Pb2tnOJoujGxsbApYyNjVksFhRFU6nUycmJ3+/vZU9NTREEQcc+n0+r1b68vPRMUavVarV6IKxfKIoCAPL5/OzsbHe+zRYIBFwu1+PxVKvVpaUlrVZrs9l4PJ5Go/kCrF/FYjEUCoXD4V+y1OiVz+fX19crlUpP/n2PjUiNRmNubm5xcXFycpLL5Z6ennZKI2cziM1z7Zs9nNp7zOVy/TGkw+Ggg+9v7Zv977BrtZpYLP6Cj2CBvbOzI5PJWAcPZkej0Vwup9fr+0v7+/sYhsnlcr1eHwgEpqen9/b2WGNXq1Wr1Xp2dkaS5G8b7u7uHh4estns4+NjJBI5Pz9njY3j+NbWVreX6tHa2hqfzxeJRAaDQaFQFAqFVqs1PJvzUeHm5iaTyQQCgYEjaE/YsYjJZNLr9cIwzOFwjo+PYRj+NPvq6oogCNphvb6+vr29pdPpaDQ6cCkLCwvBYBCCIJPJVC6XRSLRp9ndL+/o6Ih2uAPBAAAEQe7v710ul06nYwCDEZ0tKysrHo8nmUwWi0WmPtadYaFQIEmSoii3231xccHQ+eEz/7Li8bjdbh8fH4dhGMMwhs7/9f/9E5XY7tJwn5FlAAAAAElFTkSuQmCC\"></div><div class=\"grid-item\"><img alt=\"Output\" src=\"data:image/png;base64,iVBORw0KGgoAAAANSUhEUgAAAD8AAAAhCAIAAADh4eRjAAAAqHpUWHRSYXcgcHJvZmlsZSB0eXBlIGV4aWYAAHjaVU7bDQMhDPtnio6QFw6Mg66c1A06fs0drVQrcYzlRJT5fp3lsaDWStRs6IAQ0aPboGhyw1kqKsYZ27LfvHzdfrlPiNhoTZap+8j32EZ4Gio0gxwmmejUjYqMWkxq4sQBMKh4msTBOZHJNSSqiY+1uGAz/9MTzveTP3JzuXqwQTZXrqontXq9uDP4ATgGOaokSMGhAAAACXBIWXMAAAsTAAALEwEAmpwYAAAAPHRFWHRTb2Z0d2FyZQBDcmVhdGVkIHdpdGggdGhlIFdvbGZyYW0gTGFuZ3VhZ2UgOiB3d3cud29sZnJhbS5jb21coqaFAAAAIXRFWHRDcmVhdGlvbiBUaW1lADIwMjA6MDY6MjEgMTc6MTU6MTkRIEnQAAADhklEQVRYhdWYTUgqURiGz1ycGYo2YRCZpPZjWBAFIZHUJlBwE5WL2giu+mGgpqCgQpKsmEUoFEEh1D4JiiTMTdGiEkIJ6ZdmMYaLCQqpMRhS78JLeL1po8yY91mdmfOdl4fDcZxvoHg8Dv5bfv20wF9UVlaOj49LJJLt7e3Ozk65XB4KhTLUQzzufSQSWVxcRBCEZdn29vampiav19vb28s9AYbh1dVVBEFwHPf5fBiGGQwGk8mUrl7Eh/YflpaWRkZGJBIJAGBsbMzn8+E4nm2IwWC4vr5uaWlRKBQqlYokyQzFvNlHIpFYLJZQBwAolUqWZYuLi3OIgiAoZTAzM/P09MQwjNFo1Ol0n5W82T88PNTU1Hxe7u/vm83mlBqv13t4ePh5WVVVZTQauYSbzWYURS8vL+12uyD2ZWVlNE0nxna7vaur6/n5OaVGrVar1eocwlEUHRwcJEnS4XAk3+ftmVNRUYGiKEEQ09PT1dXVQ0NDu7u7x8fHfOVbLBaTybS2tvbX3XjBE4vFKIqKx+Pv7+9tbW3JUyIAAE3TFovF5XKpVKqDgwO+dosvGIaZn5+PRqMsy05NTSVPiQAAMAxrtVoEQW5ubn7IMBMlJSUbGxtfTv0CAJSWlnZ3d7e2tubXigey+NWGw2GWZYVTyYEs7D0eD0VRwqnkAG/Pe6vVylfUt8zOziYGnOx3dnbu7u4CgcD5+blYLNZoNB0dHekS8wkn+8R7otPpbG5urq2tFVgpC0QAgIGBgbOzs7e3N4ZhFAqFVCo9OTn5aTFO8Pl+n38Kq7fKlnzYv76+yuXyHDqVb8mH/cTERF1dnRDJgtu73W6SJPV6/b9TCwsLGIYplUq9Xu9wOMrLy+fm5rIKF9Y+HA6Pjo6ur6/HYrEvCzwez+np6f39fSAQ2Nvb29zczCpfWHscx4eHh5M7xhS0Wq1YLJbJZD09PY2NjRRFRaNR7vl8flNIweVy3d7epvRyX5Lovj97cL/fb7PZYBgWiUQrKyswDKdbKKC90+mkabq+vh4A8PLy8vHxcXV15Xa7v13Y0NCwtbUFQVBfX18oFJLJZOkqBbRPPsTLy8uPj482m43LQgRBjo6OrFarTqfLoA4K9t9Ko9EQBOH3+4PBYIayQnxTCAaDUqkUgiCCIGQyWX9/f7pKAU9OzlxcXExOThYVFcEwjGFYhspC3HvuFOi558hv7VH106ovCkUAAAAASUVORK5CYII=\"></div><div class=\"grid-item\"><img alt=\"Output\" src=\"data:image/png;base64,iVBORw0KGgoAAAANSUhEUgAAAEUAAAAhCAIAAAAAivEyAAAAqHpUWHRSYXcgcHJvZmlsZSB0eXBlIGV4aWYAAHjaVU7bDQMhDPtnio6QFw6Mg66c1A06fs0drVQrcYzlRJT5fp3lsaDWStRs6IAQ0aPboGhyw1kqKsYZ27LfvHzdfrlPiNhoTZap+8j32EZ4Gio0gxwmmejUjYqMWkxq4sQBMKh4msTBOZHJNSSqiY+1uGAz/9MTzveTP3JzuXqwQTZXrqontXq9uDP4ATgGOaokSMGhAAAACXBIWXMAAAsTAAALEwEAmpwYAAAAPHRFWHRTb2Z0d2FyZQBDcmVhdGVkIHdpdGggdGhlIFdvbGZyYW0gTGFuZ3VhZ2UgOiB3d3cud29sZnJhbS5jb21coqaFAAAAIXRFWHRDcmVhdGlvbiBUaW1lADIwMjA6MDY6MjEgMTc6MTU6MTkRIEnQAAADO0lEQVRYhe2YTUgqURiGz9xmkhIsKAgtZozI/la5GISgFpKBm4hatGrRThFKhZiYiAIjZhEKBRqIRYs2FUTkwty0K4JIpJSIZGjChVAhUm1SW+gV79S96cwp5eKzOnN+3vO983PO+QZJp9PgP+IXRK3m5maLxaJQKHZ2dvr7+5VKZTQa/WnN9G+en59pml5cXKRp2uv1chy3t7eXLgYURV0ul8fjqauri0Qier3e4/EUpSBeE80ZW15eNhqNCoUCADA9PX1xcWE2m4u9nWNjY+FwuLe3t7W1taurKxKJFP9IRGlm37eXl5dUKpUxAwBQqVRSqbS2tlbA9AiC8Ap+v1+j0czOzgpQ+1QzmUxSFDU5OanT6a6urvJ7Zp/P7e1tW1tbrvbw8HB+fp4nenZ2dnR0lLvEcXxiYqKQaAYHB2Uy2f7+/scmYZpVVVVGoxHH8WAw6HQ619bW+H4aGxtjsVim7HA4tFrt4+MjT4UkSZIkCzFQOII1cRwHALAs29HRkV+f9SOXyyUSCcMw8Xhco9FotVqLxSKVSgcGBsQH/U1wHLe1tbW9vf1Hrcj1p0BOT08pioIoyLLs8PDww8MDrx5Jf/9+SlFUOBxmWZYkSafTiaLo12P+yevra2dnp1qtrq+vl0gkLpcr1/QTfn4SmOeDcqDip7zJfpo2m620cYhkbm4uU6isB+VNxU95U/HzdxKJhFKpFJAFQgSmH6vV2t7eDlFQAND8+Hy+TH7/sWlpaclkMqlUKr1e73a7m5qaFhYWYM3LA46feDw+NTW1vr6eSqU+7eD3+09OTm5ubi4vLw8ODjY2NqDM+xE4fsxms8FgyM/Yeeh0uoaGBoIgRkZGenp67u7ukskklKl5iE1FAABer/f6+trtdn/ZM/M3I/dzIxAI2O12DMNQFF1dXcUwTHwwEPzs7u7GYrFMHv/09PT29hYKhXw+35cDu7u7Nzc3EQQZHR2NRqMEQYgPBoKf/I9hZWXl/v7ebrcXMrC6uvr4+Nhmsw0NDUExA0q+n/b19TEMEwgEOI6DIljK8zXHcS0tLQiCMAxDEMT4+Lh4TQjvm2DOz89nZmZqamowDDOZTFA0K/lPefMOoE+KXsGSckEAAAAASUVORK5CYII=\"></div><div class=\"grid-item\"><img alt=\"Output\" src=\"data:image/png;base64,iVBORw0KGgoAAAANSUhEUgAAAFsAAAAhCAIAAAA57UBpAAAAqHpUWHRSYXcgcHJvZmlsZSB0eXBlIGV4aWYAAHjaVU7bDQMhDPtnio6QFw6Mg66c1A06fs0drVQrcYzlRJT5fp3lsaDWStRs6IAQ0aPboGhyw1kqKsYZ27LfvHzdfrlPiNhoTZap+8j32EZ4Gio0gxwmmejUjYqMWkxq4sQBMKh4msTBOZHJNSSqiY+1uGAz/9MTzveTP3JzuXqwQTZXrqontXq9uDP4ATgGOaokSMGhAAAACXBIWXMAAAsTAAALEwEAmpwYAAAAPHRFWHRTb2Z0d2FyZQBDcmVhdGVkIHdpdGggdGhlIFdvbGZyYW0gTGFuZ3VhZ2UgOiB3d3cud29sZnJhbS5jb21coqaFAAAAIXRFWHRDcmVhdGlvbiBUaW1lADIwMjA6MDY6MjEgMTc6MTU6MTkRIEnQAAADz0lEQVRoge2YS0gqURzGz1xmGioowiAyabSHYW0KQgSpTZTgJnosiiBo0wuhLCjLkCQjXIRC0APE2mdRkYS5sVpkQSQh2YOGGMPFEImUBZLOXQhh1r2kjjlBv9WZc8588/HNnD/DH6IoCvwSwZ9UG3hHQUHB0NAQm81eXV2tra3lcrkej+e7NSn68Pv9SqVSrVYrlUqz2ex2u9fW1mJSgGF4cXHRaDRmZ2fjOC6VSo1GY4KuYtWEE3wDkczMzPT397PZbADA4ODg6empXC6PVaS1tdXlclVVVfF4PIFAgON44sZi0qTt1Dw/P4dCoXAcAAA+n5+ZmZmRkRGHFARBUQOr1SoSicbGxuK291FTqVR2d3d3dHRYLJbInbR9Izc3N8XFxW+X29vbKpUqas/x8fHu7u7bZWFhYWdn51fE6+vrs7KyNjY2Pi7FralSqVAUPTs70+v1EonkbZ62RHJzc0mSDI/1en1dXd3Dw0PUHqFQKBQK6Xpigpooivb09OA4bjAYIudpOzX5+fkoimq12vHx8aKiot7e3s3Nzb29Pbr0k4Fare7q6pqfn383m2Al/zbsdrtCoaBLLRQKEQRBUdTLy4tIJIpcggEAJEmq1Wqz2SwQCHZ2dlLzvv6LQqFwuVy3t7f39/cLCwswnOhh9/v9U1NTwWAwEAiMjo5GLkEURXm93v39fZvNdnFxwcxEvpM/AICcnJzGxsbq6upUm2EEMVRWn88XCASSZ4UhxJCI1WolCCJ5VhgCbf8jGo2GLqmUMDExER58KZH19fWrqyun03l0dMRiscRicU1Nzb8UfzpfSqS5uRkAYDKZKisrS0pKkmwpxcAAgPb2drvd/vT05Pf7eTweh8M5ODhItbGUAVG/PbT3MKuHxgSYlcjj4yOXy42jz0QjzEpkeHi4tLQ0tR4YlIjFYgn3QT8uTU9Py2QyPp8vlUoNBkNeXt7k5GSSbDAlEZ/PNzAwsLS0FAqFPt1gtVoPDw+vr6+dTufW1tby8nKSnDAlEblc3tfXF9mXjKKhoYHFYmEY1tTUVFFRQRBEMBhMhhM6e/FxYzabLy8vo7p7nxLuG791jx0Oh06nQxAEhuG5uTkEQRI3w4hETCYTSZJlZWUAAK/X+/r6en5+HtUi/5Ty8vKVlRUIglpaWjweD4ZhiZthRCKRRWF2dvbu7k6n033lxrS0NJvNptFoJBIJLXEA5tSRuBGLxVqt1uFwuN1uWgR/9l+82+3mcDgQBGm1WgzD2traEtdkxKmJm5OTk5GRkfT0dARBZDIZLZo/+xtJBj++jtDOXxc0TaQUWusMAAAAAElFTkSuQmCC\"></div><div class=\"grid-item\"><img alt=\"Output\" src=\"data:image/png;base64,iVBORw0KGgoAAAANSUhEUgAAAFsAAAAhCAIAAAA57UBpAAAAqHpUWHRSYXcgcHJvZmlsZSB0eXBlIGV4aWYAAHjaVU7bDQMhDPtnio6QFw6Mg66c1A06fs0drVQrcYzlRJT5fp3lsaDWStRs6IAQ0aPboGhyw1kqKsYZ27LfvHzdfrlPiNhoTZap+8j32EZ4Gio0gxwmmejUjYqMWkxq4sQBMKh4msTBOZHJNSSqiY+1uGAz/9MTzveTP3JzuXqwQTZXrqontXq9uDP4ATgGOaokSMGhAAAACXBIWXMAAAsTAAALEwEAmpwYAAAAPHRFWHRTb2Z0d2FyZQBDcmVhdGVkIHdpdGggdGhlIFdvbGZyYW0gTGFuZ3VhZ2UgOiB3d3cud29sZnJhbS5jb21coqaFAAAAIXRFWHRDcmVhdGlvbiBUaW1lADIwMjA6MDY6MjEgMTc6MTU6MTkRIEnQAAAD9ElEQVRoge2ZTUgqXwDF77y0oVpUGEQmflBZ5qYiRJBqISS4sbJFbdxGIpQGbSYkwYhZhEJRBmLRok3WIpIwIaQWfUAkIn2SiBMuJkokTZB0/gvBv6/3Hi91zAneb3Vn7p3D4YxzZzhCBEGAf2Txo9QGfqKxsVGn0zGZzK2trd7eXi6XGwqFvlqTII9YLIYgiMFgQBDE4XBgGLa9vZ2TAo1Gs1gsNputurra7/fL5XKbzVagq1w1aQXegWzm5+fVajWTyQQATE5OXl5earXaXEWGh4evr687Ozt5PJ5AIPD7/YUby0mTtETe3t5SqVQ6DgAAn89PJBKVlZV5SEEQlD1IJpMIguA4/vj4aDKZhEJh4ZoAAARBnp6eYrGYSqWSyWSZlaQl8vDw0NTUlDnc29vT6/Uf1pyfnx8cHGQO2Wy2SqX6q3JZWZlarWaz2V6vd2VlZWlpqXBNAIBer4dh2Ov1ms3moiRSV1eH43h6bDabpVLpy8vLhzUikUgkEuUhzmazAQCBQKC1tZUsTRiGx8bG/H6/1WrNPk9aIg0NDTAMoygaiUTEYrFUKtXpdFVVVX19faToYxi2sbGxublJiloag8FweHi4vLyMouj/Zwvcyb+GQCCgUCien5/JEkylUsFgkCCIeDwuFouzpyCCIHAcNxgMDodDIBDs7++TeBNIIR6Pt7W1dXV11dTUwDBssVgK14xGozqdLplMJhIJpVI5MDCQmYIIggiHw0dHR263++bmhoKJfDE/AAC1tbUKhaK7u7vUZihBDl/xkUgkkUgUzwpFyCERl8sVDAaLZ4UikPb2NRqNZEmVhJmZmfTgU4ns7Ozc3d35fL6zszMGgyGRSHp6ev6k+N35VCJDQ0MAALvd3tHR0dzcXGRLJYYGABgdHT09PY1Go7FYjMfjsVis4+PjUhsrGRDxr0P7GWp1aFSAWom8vr5yudw8eiYSoVYiU1NTLS0tpfVAoUScTme6B/11am5uTqPR8Pl8uVxutVrr6+tnZ2eLZIMqiUQikYmJidXV1VQq9dsFLpfr5OTk/v7e5/Pt7u6ura0VyQlVEtFqtePj49m95Af6+/sZDAaHwxkcHBQKhcFgMJlMFsMJmV183jgcjtvb2w/t3m9J98aZ9tjj8ZhMJjqdTqPRFhcX6XR64WYokYjdbsdxPN2hhsPh9/f3q6srp9P51wvb29vX19chCFIqlaFQiMPhFG6GEolkbwoLCwvpfyE+c2F5ebnb7TYajTKZjJQ4AHX2kbyRSCQoino8HgzDSBH83l/xGIaxWCwIglAU5XA4IyMjhWtS4qnJm4uLi+np6YqKCjqdrtFoSNH83r+RYvDt9xHS+Q+06GlWrPdk7AAAAABJRU5ErkJggg==\"></div></div></div>"
      ],
      "text/plain": [
       " α\n",
       "----\n",
       "4 m\n",
       "   3\n",
       "α - m\n",
       "     1\n",
       "------\n",
       " 4 m\n",
       "    3\n",
       "α - m\n",
       "     2\n",
       "------\n",
       " 4 m\n",
       "    3\n",
       "    α - m\n",
       "         3\n",
       "1 + ------\n",
       "     4 m\n",
       "        3\n",
       "α - m  - m\n",
       "     1    2\n",
       "-----------\n",
       "   4 m\n",
       "      3\n",
       "    α - m  - m\n",
       "         1    3\n",
       "1 + -----------\n",
       "       4 m\n",
       "          3\n",
       "    α - m  - m\n",
       "         2    3\n",
       "1 + -----------\n",
       "       4 m\n",
       "          3"
      ]
     },
     "execution_count": 785,
     "metadata": {
      "text/html": [],
      "text/plain": []
     },
     "output_type": "execute_result"
    }
   ],
   "source": [
    "cza = centroidz[al, m1, m2, m3]\n",
    "cz1 = centroidz[al-m1, m1, m2, m3]\n",
    "cz2 = centroidz[al-m2, m1, m2, m3]\n",
    "cz3 = centroidz[al-m3, m1, m2, m3]+1\n",
    "cz12 = centroidz[al-m1-m2, m1, m2, m3]\n",
    "cz13 = centroidz[al-m1-m3, m1, m2, m3]+1\n",
    "cz23 = centroidz[al-m2-m3, m1, m2, m3]+1"
   ]
  },
  {
   "cell_type": "markdown",
   "metadata": {
    "ExecuteTime": {
     "start_time": "2020-06-21T05:00:36.991Z"
    }
   },
   "source": [
    "## cut 1"
   ]
  },
  {
   "cell_type": "code",
   "execution_count": 799,
   "metadata": {
    "ExecuteTime": {
     "end_time": "2020-06-21T17:15:32+08:00",
     "start_time": "2020-06-21T09:15:32.095Z"
    }
   },
   "outputs": [
    {
     "data": {
      "text/html": [
       "<style>\n",
       "\t\t\t\t\t\t\t\t\t\t\t\t\t.grid-container {\n",
       "\t\t\t\t\t\t\t\t\t\t\t\t\t\tdisplay: inline-grid;\n",
       "\t\t\t\t\t\t\t\t\t\t\t\t\t\tgrid-template-columns: auto;\n",
       "\t\t\t\t\t\t\t\t\t\t\t\t\t}\n",
       "\t\t\t\t\t\t\t\t\t\t\t\t</style>\n",
       "\n",
       "\t\t\t\t\t\t\t\t\t\t\t\t<div><div class=\"grid-container\"><div class=\"grid-item\"><img alt=\"Output\" src=\"data:image/png;base64,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\"></div><div class=\"grid-item\"><img alt=\"Output\" src=\"data:image/png;base64,iVBORw0KGgoAAAANSUhEUgAAAEAAAAAgCAIAAAAt/+nTAAAAqXpUWHRSYXcgcHJvZmlsZSB0eXBlIGV4aWYAAHjaVU/bDQMhDPtnio6QFw6Mg66c1A06fs0drVSL2MZKIijz/TrLY0GtlajZ0AEhoke3QdPkhvOoqBg1dmQ/vXLdeblXiNhoTVaoe8l32UZ4Gio0gxwmmej0jY6MWkxq4sQBsFHxNImDOpHJMSSqiY81uGAz/7snnPcnX+TmctVggWyuHFVPevVK9vWd8gE39jmlyYt9HQAAAAlwSFlzAAALEwAACxMBAJqcGAAAADx0RVh0U29mdHdhcmUAQ3JlYXRlZCB3aXRoIHRoZSBXb2xmcmFtIExhbmd1YWdlIDogd3d3LndvbGZyYW0uY29tXKKmhQAAACF0RVh0Q3JlYXRpb24gVGltZQAyMDIwOjA2OjIxIDE3OjE1OjMytMTy2gAAAz1JREFUWIXtmM9LMkEYx2dfNhBJpPCStomgiBQb2x7yUEGH/oGoQxDUpSCwoqAwyVMGecsuaaeiH+ISBEEHi6wOlUG0UNASSZjQZTOyHxZC27yHDV9waVuy3O2lz2n2mXmene8zszM7g0AIwU8GlbsD/wiHw5FIpKSk5ObmxuPxBAKBvr6+D72UIiCRSESjUa/XCwA4PT2dmJjQ6XSSPKEycLvd9/f32cfq6up0Oi3F8c/3JlYyDw8PGo2GL+/u7mIYplarpTgqRQCKoplMBgDAsuzCwkJNTY1ERwQqYxWKxWIzMzOlpaW3t7dut3txcTGVSg0ODhYVFYk7KkXAp1HKFPo0/4uAYDBIEITBYCBJcnV1FQDw9PRkNpvX19cBAM/Pz2azeW9vT86evgeEMBQKGY1GmqYhhAzDBINBfond3t42mUyPj48ul8vhcHz52v8lIBBCu93e39/f1tYmlOdwOK6vr2maPjo6Ki4uFjbY3Nzc398HAKhUqtbW1vn5ed7e0dGBYdi3pp4HgRDqdLpIJILjuLD65OQEx3Gv1zs8PJz/yzweT/5BeEZHR99KEEKSJCmKEo7O6+trY2Pj2NgYhmEsyxZ4bkgEBQD09PS4XC4cx61W6+XlJUVRQ0NDAAC/369Wq3mt3d3dKysrwkxsbW0dHBwAAFQqVXNz89LSEm9vb28vLy//qnyLwevw+/02m62iooIkyeXlZQhhPB7X6/WJRAJC+PLyUltbOzs7K2eq3+F3J5Yb2QRMTU0hCHJ3d5dnHHkExGKxUCgk9cwlTuE/O47j6urqdnZ2tFptKpXKqdXr9QMDA2VlZRRF1dfXG43Gq6srkWgyjMDk5GRVVVVDQwPHccJalmWtVuv4+HhXV9fc3FxlZWU4HBaJVuhD/dnZWSAQODw8FGnT0tLCMAxBECaTyWazXVxciDQu6AhwHNfZ2enz+bLH3/dAECSnsLGxYbfbR0ZGcloWVMDx8XEymezt7bVYLBaLJZ1OEwSxtrYmxbepqcnn8wntBZ1CBEGcn59nHzUaDU3TWq02n5g/fiNTysWWFKLRqNPpzDEq5WrxQ5xOJ8Mw8Xg8mUxOT0+j6FvPf3/m5OYvW9EhvEFjqBUAAAAASUVORK5CYII=\"></div><div class=\"grid-item\"><img alt=\"Output\" src=\"data:image/png;base64,iVBORw0KGgoAAAANSUhEUgAAAEAAAAAgCAIAAAAt/+nTAAAAqXpUWHRSYXcgcHJvZmlsZSB0eXBlIGV4aWYAAHjaVU/bDQMhDPtnio6QFw6Mg66c1A06fs0drVSL2MZKIijz/TrLY0GtlajZ0AEhoke3QdPkhvOoqBg1dmQ/vXLdeblXiNhoTVaoe8l32UZ4Gio0gxwmmej0jY6MWkxq4sQBsFHxNImDOpHJMSSqiY81uGAz/7snnPcnX+TmctVggWyuHFVPevVK9vWd8gE39jmlyYt9HQAAAAlwSFlzAAALEwAACxMBAJqcGAAAADx0RVh0U29mdHdhcmUAQ3JlYXRlZCB3aXRoIHRoZSBXb2xmcmFtIExhbmd1YWdlIDogd3d3LndvbGZyYW0uY29tXKKmhQAAACF0RVh0Q3JlYXRpb24gVGltZQAyMDIwOjA2OjIxIDE3OjE1OjMytMTy2gAAA4ZJREFUWIXdmEtIKl8cx4/XIgnEigl66IgLmcSwxtlEVBvbR1FIEFSLNkHZg1blzsAgKFc5QUVPaRIXUYFERlRUFAgtmgYj7LkYkqSSEJrOXfhn/mH3TtLDx/2szpxzfr8539/58eOcI4IQglQmLdEL+B+32+3xeLKzswOBgMViIUmys7PzQ6tkEXB5ebm/vz80NAQAODk5sVqtCILEZAmTA7PZ/PDwwH+WlJSEQqFYDH/9bGBj5vHxUSqVRtq7u7sKhSIzMzMWw2QRkJaWFg6HAQAsy87Nzen1+hgNRTA5qtDZ2dn4+HhOTs79/b3ZbJ6fnw8Ggz09Penp6cKGySLg0yRLCn2af0WAw+HAcbywsJAgiOXlZQAASZJGo5Gft76+Xl1dnZg1CgMhXFxcVCqVXq8XQkjTtMPhgBA+PT3l5uayLBspt62trVNTU99c/L8DEYSwrKzMZDI1NjZGaTOZTCiK9vb2hsNhlUrFMAxfqnk2Njb29vYAABKJpKGhYXZ2NtLf3NysUCjisAEiCCGCIB6PR6fTRY2dnp7W1tbSNO1yuZxO58LCwhd/ZrFYvuiBZ2Bg4L8WhJAgCIqi/rhBBoNhZ2fHaDSura3FMzFiRwQhnJiYsFqtKysrGIZdXFxQFNXX1xeR53K5lpaWDg8PGYYRi8XvI7G5uXlwcAAAkEgkdXV1/C41NTXJ5fLvircQER12u12j0aAoShCE0+nk9b28vMjl8q6ursSENwY+OI2+vr7qdLpIgUpOhO4DHMeNjIxotdrS0tJ4JMPn+Juy7e3tvLw8g8Fwe3v7E5Gz2WwAgGAw+EU/ibnQ+Hy+8vJyBEFSUgDHcRUVFVtbWzKZ7L2AgoKC7u7u/Px8iqIqKyuVSuXNzY2AtwQc5kZHR4uLi6uqqjiOez/KsiyGYYODg21tbdPT01qt1u12C3iL96WeYRiSJI+OjgTm1NfX0zSN47hKpdJoNOfn5wKT4yqA47iWlhabzfb+TBWFSCR62+A4rr+/n2XZ6+vrSGHkZ8Y1hY6Pj+/u7jo6OtRqtVqtDoVCOI6vrq5+aCgWi9vb2ycnJ4eHh8fGxt4OxXUHcBz3+Xz8p1Qq9Xq9MpksFlsURQEAfr8fw7C3/cnysBULV1dXMzMz0YfinyyY34nf76+pqQkEAlH9qfEq8fz8XFRUpNfrs7KyMjIy7HY7P5QaAgRI+VeJ3+pBZYOydyheAAAAAElFTkSuQmCC\"></div><div class=\"grid-item\"><img alt=\"Output\" src=\"data:image/png;base64,iVBORw0KGgoAAAANSUhEUgAAAEAAAAAgCAIAAAAt/+nTAAAAqXpUWHRSYXcgcHJvZmlsZSB0eXBlIGV4aWYAAHjaVU/bDQMhDPtnio6QFw6Mg66c1A06fs0drVSL2MZKIijz/TrLY0GtlajZ0AEhoke3QdPkhvOoqBg1dmQ/vXLdeblXiNhoTVaoe8l32UZ4Gio0gxwmmej0jY6MWkxq4sQBsFHxNImDOpHJMSSqiY81uGAz/7snnPcnX+TmctVggWyuHFVPevVK9vWd8gE39jmlyYt9HQAAAAlwSFlzAAALEwAACxMBAJqcGAAAADx0RVh0U29mdHdhcmUAQ3JlYXRlZCB3aXRoIHRoZSBXb2xmcmFtIExhbmd1YWdlIDogd3d3LndvbGZyYW0uY29tXKKmhQAAACF0RVh0Q3JlYXRpb24gVGltZQAyMDIwOjA2OjIxIDE3OjE1OjMytMTy2gAAA01JREFUWIXtmD1II0EUx2ePSIIQgpLGaFwWDkJQlHUVtlAr0cJOtAiIH4VYiAYFsdAExFVjFxXEiBbBj5DFRrFJ4YqI+IEQSGEQQ8CoTVSMyqIR1ndF7nKeuaw5jdl4+Ktm3ps3O/83szM7iwEA+szIpB7Ab1wuF8dxWVlZV1dXDMPYbLaurq5Xo9JFQCAQ2N3dHRsbQwgdHh5aLBa1Wp1QJKQHJpPp9vY2Wi0uLuZ5PpHAbx+b2IS5u7tTKpWR8vb2tlarzczMTCQwXQTIZLJwOIwQCgaDCwsLJSUlCQZikB67kM/nm5mZyc7Ovr6+NplMi4uLoVCop6cnIyNDPDBdBLyZdFlCb+Z/EeBwOEiSzM3NpShqdXU1YqyqqiIIgiAIHMcxDBsZGZFunPEBAKfTieO42+0GAK/X63A4Xuy1o6OjpaWlDw8Pydr1kwgGADRNG41Gg8HwV4UcxxkMhv39fRzHY73r6+s7OzsIIYVC0dDQMD8/H7E3NzdrtdqPy3sUDADUajXHcUVFRbHus7OzsrIyu91eXV39/ocxDPP+TiIMDAz8LAEARVEsy8bOTjgcpmmaYZgUr4p/AgOAubk5i8Wytram0+lOTk5Ylu3t7UUIdXR0nJ6erqysYBgWLxMbGxt7e3sIIYVCUVdXt7S0FLE3Njbm5eUlK99iRHRMT0/r9fr8/HyKopaXlwFga2sLIaTRaL7/wmg0SpnqOHydxFIjmYCJiQkMw25ubt7ZjzQCfD6f0+lM9M4lTupfO0EQysvLNzc3VSpVKBR64dVoNN3d3Tk5OSzLVlRU4Dh+fn4u0psEM2C1WgsLCysrKwVBiPUGg0GdTjc8PNzW1ma32wsKClwul0hvqb7UHx0d2Wy2g4MDkTb19fVer5ckSYIg9Hq93+8XaZxSAYIgtLS0jI+PR6+/8YgendFCf3//xcUFz/NNTU01NTXRlikV4PF4Li8vOzs7I1We50mSnJycrK2tfTXWbDbL5XKPx2O1WiUTQJLk8fFxtKpUKt1ut0qlSiRWLpe3t7f7/f7Z2dnn9s90kA0ODra2tk5NTf1h/cgNM2k8PT0FAgEAuL+/p2n6uStdfi2Kw/P80NCQIAiPj499fX3PXV8fc1LzA2szKyCChUPmAAAAAElFTkSuQmCC\"></div></div></div>"
      ],
      "text/plain": [
       "          3\n",
       "         α\n",
       "V == ----------\n",
       "     6 m  m  m\n",
       "        1  2  3\n",
       "       α\n",
       "cx == ----\n",
       "      4 m\n",
       "         1\n",
       "       α\n",
       "cy == ----\n",
       "      4 m\n",
       "         2\n",
       "       α\n",
       "cz == ----\n",
       "      4 m\n",
       "         3"
      ]
     },
     "execution_count": 800,
     "metadata": {
      "text/html": [],
      "text/plain": []
     },
     "output_type": "execute_result"
    }
   ],
   "source": [
    "Clear[V,cx,cy,cz]\n",
    "V == Simplify[VA]\n",
    "cx == Simplify[cxa]\n",
    "cy == Simplify[cya]\n",
    "cz == Simplify[cza]"
   ]
  },
  {
   "cell_type": "markdown",
   "metadata": {},
   "source": [
    "## cut 2"
   ]
  },
  {
   "cell_type": "code",
   "execution_count": 849,
   "metadata": {
    "ExecuteTime": {
     "end_time": "2020-06-21T17:16:40+08:00",
     "start_time": "2020-06-21T09:16:39.950Z"
    }
   },
   "outputs": [
    {
     "data": {
      "text/html": [
       "<style>\n",
       "\t\t\t\t\t\t\t\t\t\t\t\t\t.grid-container {\n",
       "\t\t\t\t\t\t\t\t\t\t\t\t\t\tdisplay: inline-grid;\n",
       "\t\t\t\t\t\t\t\t\t\t\t\t\t\tgrid-template-columns: auto;\n",
       "\t\t\t\t\t\t\t\t\t\t\t\t\t}\n",
       "\t\t\t\t\t\t\t\t\t\t\t\t</style>\n",
       "\n",
       "\t\t\t\t\t\t\t\t\t\t\t\t<div><div class=\"grid-container\"><div class=\"grid-item\"><img alt=\"Output\" src=\"data:image/png;base64,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\"></div><div class=\"grid-item\"><img alt=\"Output\" src=\"data:image/png;base64,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\"></div><div class=\"grid-item\"><img alt=\"Output\" src=\"data:image/png;base64,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\"></div><div class=\"grid-item\"><img alt=\"Output\" src=\"data:image/png;base64,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\"></div></div></div>"
      ],
      "text/plain": [
       "        2              2\n",
       "     3 α  - 3 α m  + m\n",
       "                 1    1\n",
       "V == -------------------\n",
       "           6 m  m\n",
       "              2  3\n",
       "             α (-3 α + m )\n",
       "                        1\n",
       "      3 + -------------------\n",
       "             2              2\n",
       "          3 α  - 3 α m  + m\n",
       "                      1    1\n",
       "cx == -----------------------\n",
       "                 4\n",
       "                     2              2\n",
       "      (2 α - m ) (2 α  - 2 α m  + m  )\n",
       "              1               1    1\n",
       "cy == --------------------------------\n",
       "               2              2\n",
       "         4 (3 α  - 3 α m  + m  ) m\n",
       "                        1    1    2\n",
       "                     2              2\n",
       "      (2 α - m ) (2 α  - 2 α m  + m  )\n",
       "              1               1    1\n",
       "cz == --------------------------------\n",
       "               2              2\n",
       "         4 (3 α  - 3 α m  + m  ) m\n",
       "                        1    1    3"
      ]
     },
     "execution_count": 850,
     "metadata": {
      "text/html": [],
      "text/plain": []
     },
     "output_type": "execute_result"
    }
   ],
   "source": [
    "Clear[V,cx,cy,cz]\n",
    "V == FullSimplify[VA-V1,m1+m2+m3==1]\n",
    "cx == FullSimplify[FullSimplify[cxa*VA - cx1*V1] / FullSimplify[VA-V1], Assumptions -> {ass2}]\n",
    "cy == FullSimplify[FullSimplify[cya*VA - cy1*V1] / FullSimplify[VA-V1], Assumptions -> {ass2}]\n",
    "cz == FullSimplify[FullSimplify[cza*VA - cz1*V1] / FullSimplify[VA-V1], Assumptions -> {ass2}]"
   ]
  },
  {
   "cell_type": "markdown",
   "metadata": {
    "ExecuteTime": {
     "end_time": "2020-06-21T13:49:56+08:00",
     "start_time": "2020-06-21T05:49:56.607Z"
    }
   },
   "source": [
    "## cut 3"
   ]
  },
  {
   "cell_type": "code",
   "execution_count": 913,
   "metadata": {
    "ExecuteTime": {
     "end_time": "2020-06-21T17:27:42+08:00",
     "start_time": "2020-06-21T09:27:42.379Z"
    }
   },
   "outputs": [
    {
     "data": {
      "text/html": [
       "<style>\n",
       "\t\t\t\t\t\t\t\t\t\t\t\t\t.grid-container {\n",
       "\t\t\t\t\t\t\t\t\t\t\t\t\t\tdisplay: inline-grid;\n",
       "\t\t\t\t\t\t\t\t\t\t\t\t\t\tgrid-template-columns: auto;\n",
       "\t\t\t\t\t\t\t\t\t\t\t\t\t}\n",
       "\t\t\t\t\t\t\t\t\t\t\t\t</style>\n",
       "\n",
       "\t\t\t\t\t\t\t\t\t\t\t\t<div><div class=\"grid-container\"><div class=\"grid-item\"><img alt=\"Output\" src=\"data:image/png;base64,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\"></div><div class=\"grid-item\"><img alt=\"Output\" src=\"data:image/png;base64,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\"></div><div class=\"grid-item\"><img alt=\"Output\" src=\"data:image/png;base64,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\"></div><div class=\"grid-item\"><img alt=\"Output\" src=\"data:image/png;base64,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\"></div></div></div>"
      ],
      "text/plain": [
       "        2            2     3           3\n",
       "     3 α  m  - 3 α m   + m   - (α - m )\n",
       "           1        1     1          2\n",
       "V == -----------------------------------\n",
       "                 6 m  m  m\n",
       "                    1  2  3\n",
       "            2   2         3       4           4\n",
       "      -(-6 α  m   + 8 α m   - 3 m   + (α - m ) )\n",
       "               1         1       1          2\n",
       "cx == -------------------------------------------\n",
       "                     3      2            2     3\n",
       "      4 m  ((-α + m )  + 3 α  m  - 3 α m   + m  )\n",
       "         1         1           2        2     2\n",
       "                4      2   2         3       4\n",
       "      -((α - m )  - 6 α  m   + 8 α m   - 3 m  )\n",
       "              1           2         2       2\n",
       "cy == ------------------------------------------\n",
       "            2            2     3           3\n",
       "      4 (3 α  m  - 3 α m   + m   - (α - m ) ) m\n",
       "               1        1     1          2     2\n",
       "          3         2   2         3     4           4\n",
       "      -4 α  m  + 6 α  m   - 4 α m   + m   + (α - m )\n",
       "             1         1         1     1          2\n",
       "cz == -----------------------------------------------\n",
       "               2            2     3           3\n",
       "        4 (-3 α  m  + 3 α m   - m   + (α - m ) ) m\n",
       "                  1        1     1          2     3"
      ]
     },
     "execution_count": 914,
     "metadata": {
      "text/html": [],
      "text/plain": []
     },
     "output_type": "execute_result"
    }
   ],
   "source": [
    "Clear[V,cx,cy,cz]\n",
    "V == FullSimplify[VA-V1-V2, Assumptions -> {ass0}]\n",
    "cx == FullSimplify[FullSimplify[cxa*VA - cx1*V1 - cx2*V2] / FullSimplify[VA-V1-V2], Assumptions -> {ass0}]\n",
    "cy == FullSimplify[FullSimplify[cya*VA - cy1*V1 - cy2*V2] / FullSimplify[VA-V1-V2], Assumptions -> {ass0}]\n",
    "cz == FullSimplify[FullSimplify[cza*VA - cz1*V1 - cz2*V2] / FullSimplify[VA-V1-V2], Assumptions -> {ass0}]"
   ]
  },
  {
   "cell_type": "markdown",
   "metadata": {
    "ExecuteTime": {
     "end_time": "2020-06-21T13:04:21+08:00",
     "start_time": "2020-06-21T05:04:21.287Z"
    }
   },
   "source": [
    "## cut 4"
   ]
  },
  {
   "cell_type": "code",
   "execution_count": 874,
   "metadata": {
    "ExecuteTime": {
     "end_time": "2020-06-21T17:18:03+08:00",
     "start_time": "2020-06-21T09:18:03.344Z"
    }
   },
   "outputs": [
    {
     "data": {
      "text/html": [
       "<style>\n",
       "\t\t\t\t\t\t\t\t\t\t\t\t\t.grid-container {\n",
       "\t\t\t\t\t\t\t\t\t\t\t\t\t\tdisplay: inline-grid;\n",
       "\t\t\t\t\t\t\t\t\t\t\t\t\t\tgrid-template-columns: auto;\n",
       "\t\t\t\t\t\t\t\t\t\t\t\t\t}\n",
       "\t\t\t\t\t\t\t\t\t\t\t\t</style>\n",
       "\n",
       "\t\t\t\t\t\t\t\t\t\t\t\t<div><div class=\"grid-container\"><div class=\"grid-item\"><img alt=\"Output\" src=\"data:image/png;base64,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\"></div><div class=\"grid-item\"><img alt=\"Output\" src=\"data:image/png;base64,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\"></div><div class=\"grid-item\"><img alt=\"Output\" src=\"data:image/png;base64,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\"></div><div class=\"grid-item\"><img alt=\"Output\" src=\"data:image/png;base64,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\"></div></div></div>"
      ],
      "text/plain": [
       "                2         2     3         2     3     2\n",
       "     (3 - 2 α) α  - 3 α m   + m   - 3 α m   + m   + m   (-3 α + m )\n",
       "                         1     1         2     2     3           3\n",
       "V == --------------------------------------------------------------\n",
       "                               6 m  m  m\n",
       "                                  1  2  3\n",
       "           4      2   2         3       4      3         2   2         3     4\n",
       "cx == -(2 α  - 6 α  m   + 8 α m   - 3 m   - 4 α  m  + 6 α  m   - 4 α m   + m   - \n",
       "                     1         1       1          2         2         2     2\n",
       " \n",
       "           3         2   2         3     4\n",
       ">       4 α  m  + 6 α  m   - 4 α m   + m  ) / \n",
       "              3         3         3     3\n",
       " \n",
       "                3      2            2     3      2            2     3      2\n",
       ">    (4 m  (-2 α  + 3 α  m  - 3 α m   + m   + 3 α  m  - 3 α m   + m   + 3 α  m  - \n",
       "         1                1        1     1          2        2     2          3\n",
       " \n",
       "               2     3\n",
       ">        3 α m   + m  ))\n",
       "              3     3\n",
       "           4      3         2   2         3     4      2   2         3       4\n",
       "cy == -(2 α  - 4 α  m  + 6 α  m   - 4 α m   + m   - 6 α  m   + 8 α m   - 3 m   - \n",
       "                     1         1         1     1          2         2       2\n",
       " \n",
       "           3         2   2         3     4\n",
       ">       4 α  m  + 6 α  m   - 4 α m   + m  ) / \n",
       "              3         3         3     3\n",
       " \n",
       "                3      2            2     3      2            2     3      2\n",
       ">    (4 m  (-2 α  + 3 α  m  - 3 α m   + m   + 3 α  m  - 3 α m   + m   + 3 α  m  - \n",
       "         2                1        1     1          2        2     2          3\n",
       " \n",
       "               2     3\n",
       ">        3 α m   + m  ))\n",
       "              3     3\n",
       "           4      3         2   2         3     4      3         2   2         3     4\n",
       "cz == -(2 α  - 4 α  m  + 6 α  m   - 4 α m   + m   - 4 α  m  + 6 α  m   - 4 α m   + m   - \n",
       "                     1         1         1     1          2         2         2     2\n",
       " \n",
       "           2   2         3       4\n",
       ">       6 α  m   + 8 α m   - 3 m  ) / \n",
       "              3         3       3\n",
       " \n",
       "                3      2            2     3      2            2     3      2\n",
       ">    (4 m  (-2 α  + 3 α  m  - 3 α m   + m   + 3 α  m  - 3 α m   + m   + 3 α  m  - \n",
       "         3                1        1     1          2        2     2          3\n",
       " \n",
       "               2     3\n",
       ">        3 α m   + m  ))\n",
       "              3     3"
      ]
     },
     "execution_count": 875,
     "metadata": {
      "text/html": [],
      "text/plain": []
     },
     "output_type": "execute_result"
    }
   ],
   "source": [
    "Clear[V,cx,cy,cz]\n",
    "V == FullSimplify[VA-V1-V2-V3, Assumptions -> {ass2}]\n",
    "cx == FullSimplify[FullSimplify[cxa*VA - cx1*V1 - cx2*V2 - cx3*V3] / FullSimplify[VA-V1-V2-V3], Assumptions -> {ass0}]\n",
    "cy == FullSimplify[FullSimplify[cya*VA - cy1*V1 - cy2*V2 - cy3*V3] / FullSimplify[VA-V1-V2-V3], Assumptions -> {ass0}]\n",
    "cz == FullSimplify[FullSimplify[cza*VA - cz1*V1 - cz2*V2 - cz3*V3] / FullSimplify[VA-V1-V2-V3], Assumptions -> {ass0}]"
   ]
  },
  {
   "cell_type": "markdown",
   "metadata": {},
   "source": [
    "## cut 5"
   ]
  },
  {
   "cell_type": "code",
   "execution_count": 901,
   "metadata": {
    "ExecuteTime": {
     "end_time": "2020-06-21T17:19:48+08:00",
     "start_time": "2020-06-21T09:19:47.773Z"
    }
   },
   "outputs": [
    {
     "data": {
      "text/html": [
       "<style>\n",
       "\t\t\t\t\t\t\t\t\t\t\t\t\t.grid-container {\n",
       "\t\t\t\t\t\t\t\t\t\t\t\t\t\tdisplay: inline-grid;\n",
       "\t\t\t\t\t\t\t\t\t\t\t\t\t\tgrid-template-columns: auto;\n",
       "\t\t\t\t\t\t\t\t\t\t\t\t\t}\n",
       "\t\t\t\t\t\t\t\t\t\t\t\t</style>\n",
       "\n",
       "\t\t\t\t\t\t\t\t\t\t\t\t<div><div class=\"grid-container\"><div class=\"grid-item\"><img alt=\"Output\" src=\"data:image/png;base64,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\"></div><div class=\"grid-item\"><img alt=\"Output\" src=\"data:image/png;base64,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\"></div><div class=\"grid-item\"><img alt=\"Output\" src=\"data:image/png;base64,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\"></div><div class=\"grid-item\"><img alt=\"Output\" src=\"data:image/png;base64,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\"></div></div></div>"
      ],
      "text/plain": [
       "     -1 + 2 α + m\n",
       "                 3\n",
       "V == -------------\n",
       "         2 m\n",
       "            3\n",
       "             3          2                          4\n",
       "         8 m   m  + 6 m   m  (-2 α + m ) + (α - m )\n",
       "            1   2      1   2          2          3\n",
       "cx == -------------------------------------------------\n",
       "                2                                    3\n",
       "      4 m  (3 m   m  + 3 m  m  (-2 α + m ) + (α - m ) )\n",
       "         1     1   2      1  2          2          3\n",
       "                                              4\n",
       "                                      (α - m )\n",
       "                                            3\n",
       "         m  m  (-12 α + 6 m  + 8 m  + ---------)\n",
       "          1  2             1      2         2\n",
       "                                       m  m\n",
       "                                        1  2\n",
       "cy == ----------------------------------------------\n",
       "             2                                    3\n",
       "      4 (3 m   m  + 3 m  m  (-2 α + m ) + (α - m ) )\n",
       "            1   2      1  2          2          3\n",
       "            3          2                              2              2\n",
       "cz == -(4 m   m  + 6 m   m  (-2 α + m ) + 4 m  m  (3 α  - 3 α m  + m  ) - \n",
       "           1   2      1   2          2       1  2              2    2\n",
       " \n",
       "                3                       2                                    3\n",
       ">       (α - m )  (α + 3 m )) / (4 (3 m   m  + 3 m  m  (-2 α + m ) + (α - m ) ) m )\n",
       "              3           3            1   2      1  2          2          3     3"
      ]
     },
     "execution_count": 902,
     "metadata": {
      "text/html": [],
      "text/plain": []
     },
     "output_type": "execute_result"
    }
   ],
   "source": [
    "Clear[V,cx,cy,cz]\n",
    "V == FullSimplify[(VA-V1-V2+V12), Assumptions -> {ass0}]\n",
    "cx == FullSimplify[FullSimplify[cxa*VA - cx1*V1 - cx2*V2 - cx3*V3 + cx12*V12] / FullSimplify[VA-V1-V2-V3+V12], Assumptions -> {ass0}]\n",
    "cy == FullSimplify[FullSimplify[cya*VA - cy1*V1 - cy2*V2 - cy3*V3 + cy12*V12] / FullSimplify[VA-V1-V2-V3+V12], Assumptions -> {ass0}]\n",
    "cz == FullSimplify[FullSimplify[cza*VA - cz1*V1 - cz2*V2 - cz3*V3 + cz12*V12] / FullSimplify[VA-V1-V2-V3+V12], Assumptions -> {ass0}]"
   ]
  },
  {
   "cell_type": "code",
   "execution_count": null,
   "metadata": {},
   "outputs": [],
   "source": []
  }
 ],
 "metadata": {
  "hide_input": false,
  "kernelspec": {
   "display_name": "Wolfram Language 12",
   "language": "Wolfram Language",
   "name": "wolframlanguage12"
  },
  "language_info": {
   "codemirror_mode": "mathematica",
   "file_extension": ".m",
   "mimetype": "application/vnd.wolfram.m",
   "name": "Wolfram Language",
   "pygments_lexer": "mathematica",
   "version": "12.0"
  },
  "nbTranslate": {
   "displayLangs": [
    "*"
   ],
   "hotkey": "alt-t",
   "langInMainMenu": true,
   "sourceLang": "en",
   "targetLang": "fr",
   "useGoogleTranslate": true
  },
  "toc": {
   "base_numbering": 1,
   "nav_menu": {},
   "number_sections": true,
   "sideBar": true,
   "skip_h1_title": false,
   "title_cell": "Table of Contents",
   "title_sidebar": "Contents",
   "toc_cell": false,
   "toc_position": {},
   "toc_section_display": true,
   "toc_window_display": false
  }
 },
 "nbformat": 4,
 "nbformat_minor": 2
}
