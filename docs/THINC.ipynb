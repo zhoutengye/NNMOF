{
 "cells": [
  {
   "cell_type": "code",
   "execution_count": 1,
   "metadata": {
    "ExecuteTime": {
     "end_time": "2020-06-30T12:52:34+08:00",
     "start_time": "2020-06-30T04:52:34.107Z"
    }
   },
   "outputs": [],
   "source": [
    "bt = \\[Beta];\n",
    "gm = \\[Gamma];"
   ]
  },
  {
   "cell_type": "code",
   "execution_count": 5,
   "metadata": {
    "ExecuteTime": {
     "end_time": "2020-06-30T12:54:01+08:00",
     "start_time": "2020-06-30T04:54:01.731Z"
    }
   },
   "outputs": [
    {
     "data": {
      "text/html": [
       "<div><img alt=\"Output\" src=\"data:image/png;base64,iVBORw0KGgoAAAANSUhEUgAAAGEAAAATCAIAAAAPjvQ+AAAAqXpUWHRSYXcgcHJvZmlsZSB0eXBlIGV4aWYAAHjaVU7bDQMhDPtnio6QFw6Mg66c1A06fs0drVSLxMFKLJf5fp3lsaDWStRs6IAQ0aPb4NDkhvOpqBg5tmQ/vnTderktRGy0JkvUbfI12whPQ4VmsIdJJjrnxokdtZjUxIkD4KLiaRIHeSKTZ0hUEx/rcMFm/m9POP9PJnJzuWqwwO7OxK7UhlePS2fK8gE3uDmfO+M/hAAAAAlwSFlzAAALEwAACxMBAJqcGAAAADx0RVh0U29mdHdhcmUAQ3JlYXRlZCB3aXRoIHRoZSBXb2xmcmFtIExhbmd1YWdlIDogd3d3LndvbGZyYW0uY29tXKKmhQAAACF0RVh0Q3JlYXRpb24gVGltZQAyMDIwOjA2OjMwIDEyOjU0OjAxN6iqXwAABB1JREFUWIXtmF8oe38Yx885s76jhPxr2XJmS5H5T/4kN2dyI3W0KxPqrN0wSi6khcmfIiU3w2i7E+KCRrajIUWxwubPZExNaZLMnzF8vhf8loYZv/lz8X3dPZ/n+TzP+/Ns59k+BwYAQP9wi89PC3BlZmZmc3MzJCREIBB8f3Wz2Tw+Pn5yciKVShEEeVoFv4yOjg6Hw/ENhU5PT3k8nsPhGBwclMvlz11tbW3PNfy679G3ERQURBBEY2Pj1tbW6Oiom0jEjc9z5ubmkpKSvJLqJVartbKyMioqisfjeTdzUVHR4OCgQCCAYdhNmHd69KVQqVQMw3Ac93rm7u7ulpaWvr6+u7s7N2EIBEF8Pr+hoeHR5vP5nZ2d3hKxu7ubn58fERHB5XLHxsac6xqNhsvlMhgMGIbpdDqGYW6SBAYGFhYWpqWleUvVI3t7eysrK+Xl5UKhsLW11V0oAOD4+JhOp6+vr09NTaWkpNzd3X10/mm12sTERJfFq6urqKio/v7+h4eHjY2N8PDwpaUlAMD19XVAQMDy8vL9/X1ZWVl9ff3zXW/N7KGhIQzD3Gg4Ozu7ubl5y2swGCQSSV1dnVqtfvc4LjMbgSAoLCysq6tLKBTW1NQMDAxQKBSvfFAkSfr7+xMEAcNwXFycSCSSy+UQBB0dHVGp1PT0dARB8vLyNjc3vVJOrVYfHh6+6pqenlYoFGdnZxKJBAAgk8k+lPlpHuE4bjKZ2Gx2QkLC/xX7H/v7+xwOx2lyOJz9/X0IglAUDQwMlMlkZrNZLpe7f9C8gkajodFoTU1Nvr6+PB7PYrF8aPvTb39zczOO4yRJLiws5OTkuASNjIzs7Ow4zZycnNzc3HdToyiqUCicpslkYrFYEAQhCBITE7O2tkaSJJ/PF4lEH1L8krGxMaPRqNfrl5eXg4ODs7OzXY7w588fq9WqVCofzeDg4I8VAADodDoWi3V+fj47O8tms20227tPrAuvzqPLy0sURZVKJQBge3ubTqcvLi4CACwWC5PJfGt2fHoejYyM7O7uvuqqrq5ub283GAyenAW8mEfQ7e1tfHz85OTko11VVUUQhIe5nGi1WgqFEvKMi4sLAMD29jaGYUwmMzY2dnh42BmflZVFo9EiIyOjo6NxHFepVE7Xyx4VFxejKBoaGkqj0VAUzcjIeFWDmx4dHBwQBJGZmTkxMdHb2yuVSu/v790cx7VHHnTAy6hUqtLS0keVdru9p6cnNTXV6f2iu4jD4VhdXSVJ0mKxvBv883cRo9Fot9uNRiODwdDr9fPz81/x/9AFHx+f5OTkT+71rhRPqKiogGG4trbWZrMxmcySkpKCgoLvl+E5P9AjCoUiFovFYvH3l/4cv+7e7+fn19PTExoa+oPvj3Q63fNbLgz+vYd8j79wPeavlXG4rwAAAABJRU5ErkJggg==\"></div>"
      ],
      "text/plain": [
       "             x\n",
       "x - Log[1 + E ]"
      ]
     },
     "execution_count": 5,
     "metadata": {
      "text/html": [],
      "text/plain": []
     },
     "output_type": "execute_result"
    }
   ],
   "source": [
    "Integrate[1/(1+Exp[x]),x]"
   ]
  },
  {
   "cell_type": "code",
   "execution_count": 3,
   "metadata": {
    "ExecuteTime": {
     "end_time": "2020-06-30T12:52:35+08:00",
     "start_time": "2020-06-30T04:52:35.149Z"
    }
   },
   "outputs": [
    {
     "data": {
      "text/html": [
       "<div><img alt=\"Output\" src=\"data:image/png;base64,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\"></div>"
      ],
      "text/plain": [
       "             2 (-x + xc) β γ\n",
       "    Log[1 + E               ]\n",
       "x + -------------------------\n",
       "              2 β γ"
      ]
     },
     "execution_count": 3,
     "metadata": {
      "text/html": [],
      "text/plain": []
     },
     "output_type": "execute_result"
    }
   ],
   "source": [
    "Integrate[1/(1+Exp[2*gm*bt*(xc-x)]),x]"
   ]
  },
  {
   "cell_type": "code",
   "execution_count": 4,
   "metadata": {
    "ExecuteTime": {
     "end_time": "2020-06-30T12:52:45+08:00",
     "start_time": "2020-06-30T04:52:35.602Z"
    }
   },
   "outputs": [
    {
     "data": {
      "text/html": [
       "<div><img alt=\"Output\" src=\"data:image/png;base64,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\"></div>"
      ],
      "text/plain": [
       "                                       2 (-1 + xc) β γ             2 xc β γ\n",
       "                      2 β γ + Log[1 + E               ] - Log[1 + E        ]\n",
       "ConditionalExpression[------------------------------------------------------, \n",
       "                                              2 β γ\n",
       " \n",
       "     2 (-1 + xc) β γ           2 xc β γ\n",
       ">   E                >= -1 && E         >= -1]"
      ]
     },
     "execution_count": 4,
     "metadata": {
      "text/html": [],
      "text/plain": []
     },
     "output_type": "execute_result"
    }
   ],
   "source": [
    "Integrate[1/(1+Exp[2*gm*bt*(xc-x)]),{x,0,1}]"
   ]
  },
  {
   "cell_type": "code",
   "execution_count": null,
   "metadata": {},
   "outputs": [],
   "source": []
  }
 ],
 "metadata": {
  "hide_input": false,
  "kernelspec": {
   "display_name": "Wolfram Language 12.1",
   "language": "Wolfram Language",
   "name": "wolframlanguage12.1"
  },
  "language_info": {
   "codemirror_mode": "mathematica",
   "file_extension": ".m",
   "mimetype": "application/vnd.wolfram.m",
   "name": "Wolfram Language",
   "pygments_lexer": "mathematica",
   "version": "12.0"
  },
  "nbTranslate": {
   "displayLangs": [
    "*"
   ],
   "hotkey": "alt-t",
   "langInMainMenu": true,
   "sourceLang": "en",
   "targetLang": "fr",
   "useGoogleTranslate": true
  },
  "toc": {
   "base_numbering": 1,
   "nav_menu": {},
   "number_sections": true,
   "sideBar": true,
   "skip_h1_title": false,
   "title_cell": "Table of Contents",
   "title_sidebar": "Contents",
   "toc_cell": false,
   "toc_position": {},
   "toc_section_display": true,
   "toc_window_display": false
  }
 },
 "nbformat": 4,
 "nbformat_minor": 2
}
