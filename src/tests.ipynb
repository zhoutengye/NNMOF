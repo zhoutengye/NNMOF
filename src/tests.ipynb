{
 "cells": [
  {
   "cell_type": "code",
   "execution_count": 12,
   "metadata": {},
   "outputs": [],
   "source": [
    "import numpy as np\n",
    "import matplotlib.pyplot as plt\n",
    "import h5py\n",
    "import json\n",
    "import os"
   ]
  },
  {
   "cell_type": "markdown",
   "metadata": {},
   "source": [
    "# Test 1 \n",
    "\n",
    "- [X] ijk rank:\n",
    "\n",
    "Fortran F[i,j,k], in Python would be F[k,j,i]\n",
    "\n",
    "- [X] 2D works in a 3D way\n"
   ]
  },
  {
   "cell_type": "code",
   "execution_count": 17,
   "metadata": {},
   "outputs": [],
   "source": [
    "f=h5py.File('output.h5','r')"
   ]
  },
  {
   "cell_type": "code",
   "execution_count": 18,
   "metadata": {},
   "outputs": [
    {
     "name": "stdout",
     "output_type": "stream",
     "text": [
      "<KeysViewHDF5 ['phi']>\n",
      "<KeysViewHDF5 ['test']>\n",
      "<HDF5 dataset \"test\": shape (2, 8, 4), type \"<f8\">\n"
     ]
    }
   ],
   "source": [
    "print(f.keys())\n",
    "print(f['phi'].keys())\n",
    "print(f['phi']['test'])"
   ]
  },
  {
   "cell_type": "code",
   "execution_count": 19,
   "metadata": {},
   "outputs": [
    {
     "name": "stdout",
     "output_type": "stream",
     "text": [
      "[0. 1. 2. 3.]\n"
     ]
    },
    {
     "data": {
      "text/plain": [
       "<matplotlib.colorbar.Colorbar at 0x7f3439e5ff28>"
      ]
     },
     "execution_count": 19,
     "metadata": {},
     "output_type": "execute_result"
    },
    {
     "data": {
      "image/png": "[encoded data removed]",
      "text/plain": [
       "<Figure size 432x288 with 2 Axes>"
      ]
     },
     "metadata": {
      "needs_background": "light"
     },
     "output_type": "display_data"
    }
   ],
   "source": [
    "array = np.array(f['phi']['test'])\n",
    "print(np.unique(array))\n",
    "plt.contourf(array[0,:,:])\n",
    "plt.colorbar()"
   ]
  },
  {
   "cell_type": "markdown",
   "metadata": {},
   "source": [
    "# Test 2\n",
    "\n",
    "- [X] python create attributes and field value\n",
    "\n",
    "\n",
    "- [X] For next part, see if Fortran can read the H5 correctly"
   ]
  },
  {
   "cell_type": "code",
   "execution_count": 65,
   "metadata": {},
   "outputs": [],
   "source": [
    "f2=h5py.File('input.h5','w')"
   ]
  },
  {
   "cell_type": "markdown",
   "metadata": {},
   "source": [
    "Load the parameters from the ``input.json`` file and assign to the hdf5 attributes"
   ]
  },
  {
   "cell_type": "code",
   "execution_count": 66,
   "metadata": {},
   "outputs": [
    {
     "name": "stdout",
     "output_type": "stream",
     "text": [
      "<HDF5 dataset \"test\": shape (2, 8, 4), type \"<f8\">\n"
     ]
    }
   ],
   "source": [
    "f2.create_group('phi')\n",
    "grp = f2['phi']\n",
    "grp.create_dataset(\"test\", data=array)\n",
    "print(f2['phi']['test'])"
   ]
  },
  {
   "cell_type": "code",
   "execution_count": 67,
   "metadata": {},
   "outputs": [],
   "source": [
    "f2.close()"
   ]
  },
  {
   "cell_type": "code",
   "execution_count": 68,
   "metadata": {},
   "outputs": [],
   "source": [
    "f22=h5py.File('input.h5','r')"
   ]
  },
  {
   "cell_type": "code",
   "execution_count": 69,
   "metadata": {},
   "outputs": [
    {
     "data": {
      "image/png": "[encoded data removed]",
      "text/plain": [
       "<Figure size 432x288 with 1 Axes>"
      ]
     },
     "metadata": {
      "needs_background": "light"
     },
     "output_type": "display_data"
    }
   ],
   "source": [
    "plt.contourf(f22['phi']['test'][0,:,:])\n",
    "f22.close()"
   ]
  },
  {
   "cell_type": "markdown",
   "metadata": {},
   "source": [
    "# Test 3\n",
    "\n",
    "- [X] Full Initialization\n",
    "\n",
    "\n",
    "- [X] Read and weite with specific variables"
   ]
  },
  {
   "cell_type": "code",
   "execution_count": 70,
   "metadata": {},
   "outputs": [],
   "source": [
    "f3=h5py.File('input.h5','w')"
   ]
  },
  {
   "cell_type": "code",
   "execution_count": 71,
   "metadata": {},
   "outputs": [],
   "source": [
    "def create_group(h5file,name,fdata):\n",
    "    grp = h5file.create_group(name)\n",
    "    grp.create_dataset(\"init\",data=fdata)"
   ]
  },
  {
   "cell_type": "code",
   "execution_count": 72,
   "metadata": {},
   "outputs": [],
   "source": [
    "create_group(f3,'phi',array)\n",
    "create_group(f3,'u',array+1.0)\n",
    "create_group(f3,'v',array+3.0)"
   ]
  },
  {
   "cell_type": "code",
   "execution_count": 73,
   "metadata": {},
   "outputs": [],
   "source": [
    "f3.close()"
   ]
  },
  {
   "cell_type": "code",
   "execution_count": 74,
   "metadata": {},
   "outputs": [],
   "source": [
    "f33=h5py.File('input.h5','r')"
   ]
  },
  {
   "cell_type": "code",
   "execution_count": 75,
   "metadata": {},
   "outputs": [
    {
     "name": "stdout",
     "output_type": "stream",
     "text": [
      "<KeysViewHDF5 ['phi', 'u', 'v']>\n",
      "<KeysViewHDF5 ['init']>\n",
      "<KeysViewHDF5 ['init']>\n",
      "<KeysViewHDF5 ['init']>\n",
      "<HDF5 dataset \"init\": shape (2, 8, 4), type \"<f8\">\n",
      "<HDF5 dataset \"init\": shape (2, 8, 4), type \"<f8\">\n",
      "<HDF5 dataset \"init\": shape (2, 8, 4), type \"<f8\">\n"
     ]
    }
   ],
   "source": [
    "print(f33.keys())\n",
    "print(f33['phi'].keys())\n",
    "print(f33['u'].keys())\n",
    "print(f33['v'].keys())\n",
    "print(f33['phi']['init'])\n",
    "print(f33['u']['init'])\n",
    "print(f33['v']['init'])"
   ]
  },
  {
   "cell_type": "code",
   "execution_count": 76,
   "metadata": {},
   "outputs": [],
   "source": [
    "f33.close()"
   ]
  },
  {
   "cell_type": "code",
   "execution_count": null,
   "metadata": {},
   "outputs": [],
   "source": []
  }
 ],
 "metadata": {
  "kernelspec": {
   "display_name": "Python 3",
   "language": "python",
   "name": "python3"
  },
  "language_info": {
   "codemirror_mode": {
    "name": "ipython",
    "version": 3
   },
   "file_extension": ".py",
   "mimetype": "text/x-python",
   "name": "python",
   "nbconvert_exporter": "python",
   "pygments_lexer": "ipython3",
   "version": "3.7.3"
  },
  "nbTranslate": {
   "displayLangs": [
    "*"
   ],
   "hotkey": "alt-t",
   "langInMainMenu": true,
   "sourceLang": "en",
   "targetLang": "fr",
   "useGoogleTranslate": true
  },
  "toc": {
   "base_numbering": 1,
   "nav_menu": {},
   "number_sections": true,
   "sideBar": true,
   "skip_h1_title": false,
   "title_cell": "Table of Contents",
   "title_sidebar": "Contents",
   "toc_cell": false,
   "toc_position": {},
   "toc_section_display": true,
   "toc_window_display": false
  }
 },
 "nbformat": 4,
 "nbformat_minor": 4
}
